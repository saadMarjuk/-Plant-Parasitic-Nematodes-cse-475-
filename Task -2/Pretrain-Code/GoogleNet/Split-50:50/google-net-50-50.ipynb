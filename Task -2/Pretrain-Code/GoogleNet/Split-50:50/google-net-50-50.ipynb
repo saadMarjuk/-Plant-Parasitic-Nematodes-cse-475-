{
 "cells": [
  {
   "cell_type": "code",
   "execution_count": 1,
   "id": "8f74092d",
   "metadata": {
    "_cell_guid": "b1076dfc-b9ad-4769-8c92-a6c4dae69d19",
    "_uuid": "8f2839f25d086af736a60e9eeb907d3b93b6e0e5",
    "execution": {
     "iopub.execute_input": "2025-10-28T18:00:18.637724Z",
     "iopub.status.busy": "2025-10-28T18:00:18.636900Z",
     "iopub.status.idle": "2025-10-28T18:00:31.149690Z",
     "shell.execute_reply": "2025-10-28T18:00:31.148878Z"
    },
    "papermill": {
     "duration": 12.518073,
     "end_time": "2025-10-28T18:00:31.151145",
     "exception": false,
     "start_time": "2025-10-28T18:00:18.633072",
     "status": "completed"
    },
    "tags": []
   },
   "outputs": [],
   "source": [
    "# ===============================================================\n",
    "# 🔰 Step 1 — Import Libraries\n",
    "# ===============================================================\n",
    "import numpy as np\n",
    "import pandas as pd\n",
    "import os, time\n",
    "from tqdm import tqdm\n",
    "\n",
    "import torch\n",
    "import torch.nn as nn\n",
    "import torch.optim as optim\n",
    "from torch.utils.data import DataLoader, random_split\n",
    "from torchvision import datasets, transforms, models\n",
    "\n",
    "import matplotlib.pyplot as plt\n",
    "from sklearn.metrics import classification_report, confusion_matrix, roc_curve, auc\n"
   ]
  },
  {
   "cell_type": "code",
   "execution_count": 2,
   "id": "f4661038",
   "metadata": {
    "execution": {
     "iopub.execute_input": "2025-10-28T18:00:31.158582Z",
     "iopub.status.busy": "2025-10-28T18:00:31.157869Z",
     "iopub.status.idle": "2025-10-28T18:00:32.455098Z",
     "shell.execute_reply": "2025-10-28T18:00:32.454145Z"
    },
    "papermill": {
     "duration": 1.302059,
     "end_time": "2025-10-28T18:00:32.456447",
     "exception": false,
     "start_time": "2025-10-28T18:00:31.154388",
     "status": "completed"
    },
    "tags": []
   },
   "outputs": [
    {
     "name": "stdout",
     "output_type": "stream",
     "text": [
      "Using device: cuda\n",
      "Train: 508, Test: 508\n",
      "Train: 458, Validation: 50, Test: 508\n"
     ]
    }
   ],
   "source": [
    "# ===============================================================\n",
    "# 🔰 Step 2 — Device Setup & Data Preparation (50:50 Split)\n",
    "# ===============================================================\n",
    "device = torch.device(\"cuda\" if torch.cuda.is_available() else \"cpu\")\n",
    "print(\"Using device:\", device)\n",
    "\n",
    "# ✅ Dataset path\n",
    "DATA_DIR = \"/kaggle/input/dataset-of-plant-parasitic-nematodes/Microscopic Image Dataset of Plant-Parasitic Nematodes\"\n",
    "\n",
    "# ✅ Image transformations\n",
    "transform = transforms.Compose([\n",
    "    transforms.Resize((224, 224)),\n",
    "    transforms.ToTensor(),\n",
    "    transforms.Normalize([0.485, 0.456, 0.406],\n",
    "                         [0.229, 0.224, 0.225])\n",
    "])\n",
    "\n",
    "# ✅ Load dataset using ImageFolder\n",
    "dataset = datasets.ImageFolder(DATA_DIR, transform=transform)\n",
    "\n",
    "# ✅ Split 50:50 (Train:Test)\n",
    "test_ratio = 0.5\n",
    "test_size = int(test_ratio * len(dataset))\n",
    "train_size = len(dataset) - test_size\n",
    "train_dataset, test_dataset = random_split(dataset, [train_size, test_size])\n",
    "print(f\"Train: {len(train_dataset)}, Test: {len(test_dataset)}\")\n",
    "\n",
    "# ✅ Split 10% of Train as Validation\n",
    "val_ratio = 0.1\n",
    "val_size = int(val_ratio * len(train_dataset))\n",
    "train_size_final = len(train_dataset) - val_size\n",
    "train_dataset, val_dataset = random_split(train_dataset, [train_size_final, val_size])\n",
    "print(f\"Train: {len(train_dataset)}, Validation: {len(val_dataset)}, Test: {len(test_dataset)}\")\n",
    "\n",
    "# ✅ Dataloader setup\n",
    "batch_size = 32\n",
    "train_loader = DataLoader(train_dataset, batch_size=batch_size, shuffle=True)\n",
    "val_loader = DataLoader(val_dataset, batch_size=batch_size, shuffle=False)\n",
    "test_loader = DataLoader(test_dataset, batch_size=batch_size, shuffle=False)\n"
   ]
  },
  {
   "cell_type": "code",
   "execution_count": 3,
   "id": "53444d07",
   "metadata": {
    "execution": {
     "iopub.execute_input": "2025-10-28T18:00:32.461987Z",
     "iopub.status.busy": "2025-10-28T18:00:32.461739Z",
     "iopub.status.idle": "2025-10-28T18:00:33.302846Z",
     "shell.execute_reply": "2025-10-28T18:00:33.301958Z"
    },
    "papermill": {
     "duration": 0.845368,
     "end_time": "2025-10-28T18:00:33.304266",
     "exception": false,
     "start_time": "2025-10-28T18:00:32.458898",
     "status": "completed"
    },
    "tags": []
   },
   "outputs": [
    {
     "name": "stderr",
     "output_type": "stream",
     "text": [
      "Downloading: \"https://download.pytorch.org/models/googlenet-1378be20.pth\" to /root/.cache/torch/hub/checkpoints/googlenet-1378be20.pth\n",
      "100%|██████████| 49.7M/49.7M [00:00<00:00, 179MB/s]\n"
     ]
    }
   ],
   "source": [
    "# ===============================================================\n",
    "# 🔰 Step 3 — Model: GoogLeNet\n",
    "# ===============================================================\n",
    "from torchvision.models import googlenet, GoogLeNet_Weights\n",
    "\n",
    "# ✅ Load pretrained weights\n",
    "weights = GoogLeNet_Weights.DEFAULT\n",
    "model = googlenet(weights=weights)\n",
    "model.aux_logits = False\n",
    "\n",
    "# ✅ Replace final fully connected layer\n",
    "num_classes = len(dataset.classes)\n",
    "model.fc = nn.Linear(model.fc.in_features, num_classes)\n",
    "\n",
    "# ✅ Move to device\n",
    "model = model.to(device)\n",
    "\n",
    "# ✅ Loss & Optimizer\n",
    "criterion = nn.CrossEntropyLoss()\n",
    "optimizer = optim.Adam(model.parameters(), lr=1e-4)\n"
   ]
  },
  {
   "cell_type": "code",
   "execution_count": 4,
   "id": "56f2b6e1",
   "metadata": {
    "execution": {
     "iopub.execute_input": "2025-10-28T18:00:33.311039Z",
     "iopub.status.busy": "2025-10-28T18:00:33.310470Z",
     "iopub.status.idle": "2025-10-28T18:00:33.480413Z",
     "shell.execute_reply": "2025-10-28T18:00:33.479739Z"
    },
    "papermill": {
     "duration": 0.174508,
     "end_time": "2025-10-28T18:00:33.481654",
     "exception": false,
     "start_time": "2025-10-28T18:00:33.307146",
     "status": "completed"
    },
    "tags": []
   },
   "outputs": [],
   "source": [
    "# ===============================================================\n",
    "# 🔰 Step 4 — Train & Evaluate Functions\n",
    "# ===============================================================\n",
    "def train_one_epoch(model, loader, optimizer, criterion):\n",
    "    model.train()\n",
    "    running_loss, correct, total = 0.0, 0, 0\n",
    "    for images, labels in tqdm(loader, desc=\"Training\", leave=False):\n",
    "        images, labels = images.to(device), labels.to(device)\n",
    "        optimizer.zero_grad()\n",
    "        outputs = model(images)\n",
    "        loss = criterion(outputs, labels)\n",
    "        loss.backward()\n",
    "        optimizer.step()\n",
    "\n",
    "        running_loss += loss.item() * images.size(0)\n",
    "        _, preds = torch.max(outputs, 1)\n",
    "        correct += (preds == labels).sum().item()\n",
    "        total += labels.size(0)\n",
    "    return running_loss / total, correct / total\n",
    "\n",
    "\n",
    "def evaluate(model, loader, criterion):\n",
    "    model.eval()\n",
    "    running_loss, correct, total = 0.0, 0, 0\n",
    "    all_preds, all_labels, all_probs = [], [], []\n",
    "    with torch.no_grad():\n",
    "        for images, labels in tqdm(loader, desc=\"Evaluating\", leave=False):\n",
    "            images, labels = images.to(device), labels.to(device)\n",
    "            outputs = model(images)\n",
    "            loss = criterion(outputs, labels)\n",
    "\n",
    "            running_loss += loss.item() * images.size(0)\n",
    "            _, preds = torch.max(outputs, 1)\n",
    "            probs = torch.softmax(outputs, dim=1)\n",
    "\n",
    "            correct += (preds == labels).sum().item()\n",
    "            total += labels.size(0)\n",
    "\n",
    "            all_preds.extend(preds.cpu().numpy())\n",
    "            all_labels.extend(labels.cpu().numpy())\n",
    "            all_probs.extend(probs.cpu().numpy())\n",
    "    return running_loss / total, correct / total, np.array(all_preds), np.array(all_labels), np.array(all_probs)\n"
   ]
  },
  {
   "cell_type": "code",
   "execution_count": 5,
   "id": "9420cd48",
   "metadata": {
    "execution": {
     "iopub.execute_input": "2025-10-28T18:00:33.488031Z",
     "iopub.status.busy": "2025-10-28T18:00:33.487389Z",
     "iopub.status.idle": "2025-10-28T18:09:26.228219Z",
     "shell.execute_reply": "2025-10-28T18:09:26.227420Z"
    },
    "papermill": {
     "duration": 532.745096,
     "end_time": "2025-10-28T18:09:26.229413",
     "exception": false,
     "start_time": "2025-10-28T18:00:33.484317",
     "status": "completed"
    },
    "tags": []
   },
   "outputs": [
    {
     "name": "stdout",
     "output_type": "stream",
     "text": [
      "\n",
      "Epoch 1/50\n"
     ]
    },
    {
     "name": "stderr",
     "output_type": "stream",
     "text": [
      "                                                         \r"
     ]
    },
    {
     "name": "stdout",
     "output_type": "stream",
     "text": [
      "Train Loss: 2.2972, Acc: 0.2162 | Val Loss: 2.0310, Acc: 0.4400\n",
      "\n",
      "Epoch 2/50\n"
     ]
    },
    {
     "name": "stderr",
     "output_type": "stream",
     "text": [
      "                                                         \r"
     ]
    },
    {
     "name": "stdout",
     "output_type": "stream",
     "text": [
      "Train Loss: 1.7586, Acc: 0.6376 | Val Loss: 1.7244, Acc: 0.6200\n",
      "\n",
      "Epoch 3/50\n"
     ]
    },
    {
     "name": "stderr",
     "output_type": "stream",
     "text": [
      "                                                         \r"
     ]
    },
    {
     "name": "stdout",
     "output_type": "stream",
     "text": [
      "Train Loss: 1.3985, Acc: 0.7162 | Val Loss: 1.4914, Acc: 0.6200\n",
      "\n",
      "Epoch 4/50\n"
     ]
    },
    {
     "name": "stderr",
     "output_type": "stream",
     "text": [
      "                                                         \r"
     ]
    },
    {
     "name": "stdout",
     "output_type": "stream",
     "text": [
      "Train Loss: 1.0727, Acc: 0.8253 | Val Loss: 1.3179, Acc: 0.6800\n",
      "\n",
      "Epoch 5/50\n"
     ]
    },
    {
     "name": "stderr",
     "output_type": "stream",
     "text": [
      "                                                         \r"
     ]
    },
    {
     "name": "stdout",
     "output_type": "stream",
     "text": [
      "Train Loss: 0.7978, Acc: 0.9061 | Val Loss: 1.1677, Acc: 0.7800\n",
      "\n",
      "Epoch 6/50\n"
     ]
    },
    {
     "name": "stderr",
     "output_type": "stream",
     "text": [
      "                                                         \r"
     ]
    },
    {
     "name": "stdout",
     "output_type": "stream",
     "text": [
      "Train Loss: 0.6001, Acc: 0.9410 | Val Loss: 1.0605, Acc: 0.7600\n",
      "\n",
      "Epoch 7/50\n"
     ]
    },
    {
     "name": "stderr",
     "output_type": "stream",
     "text": [
      "                                                         \r"
     ]
    },
    {
     "name": "stdout",
     "output_type": "stream",
     "text": [
      "Train Loss: 0.4271, Acc: 0.9672 | Val Loss: 0.9732, Acc: 0.7600\n",
      "\n",
      "Epoch 8/50\n"
     ]
    },
    {
     "name": "stderr",
     "output_type": "stream",
     "text": [
      "                                                         \r"
     ]
    },
    {
     "name": "stdout",
     "output_type": "stream",
     "text": [
      "Train Loss: 0.3022, Acc: 0.9738 | Val Loss: 0.9428, Acc: 0.6800\n",
      "\n",
      "Epoch 9/50\n"
     ]
    },
    {
     "name": "stderr",
     "output_type": "stream",
     "text": [
      "                                                         \r"
     ]
    },
    {
     "name": "stdout",
     "output_type": "stream",
     "text": [
      "Train Loss: 0.2351, Acc: 0.9803 | Val Loss: 0.8952, Acc: 0.7200\n",
      "\n",
      "Epoch 10/50\n"
     ]
    },
    {
     "name": "stderr",
     "output_type": "stream",
     "text": [
      "                                                         \r"
     ]
    },
    {
     "name": "stdout",
     "output_type": "stream",
     "text": [
      "Train Loss: 0.1736, Acc: 0.9869 | Val Loss: 0.8658, Acc: 0.7200\n",
      "\n",
      "Epoch 11/50\n"
     ]
    },
    {
     "name": "stderr",
     "output_type": "stream",
     "text": [
      "                                                         \r"
     ]
    },
    {
     "name": "stdout",
     "output_type": "stream",
     "text": [
      "Train Loss: 0.1389, Acc: 0.9891 | Val Loss: 0.8705, Acc: 0.6600\n",
      "\n",
      "Epoch 12/50\n"
     ]
    },
    {
     "name": "stderr",
     "output_type": "stream",
     "text": [
      "                                                         \r"
     ]
    },
    {
     "name": "stdout",
     "output_type": "stream",
     "text": [
      "Train Loss: 0.1046, Acc: 0.9934 | Val Loss: 0.8270, Acc: 0.6800\n",
      "\n",
      "Epoch 13/50\n"
     ]
    },
    {
     "name": "stderr",
     "output_type": "stream",
     "text": [
      "                                                         \r"
     ]
    },
    {
     "name": "stdout",
     "output_type": "stream",
     "text": [
      "Train Loss: 0.0959, Acc: 0.9956 | Val Loss: 0.8065, Acc: 0.6800\n",
      "\n",
      "Epoch 14/50\n"
     ]
    },
    {
     "name": "stderr",
     "output_type": "stream",
     "text": [
      "                                                         \r"
     ]
    },
    {
     "name": "stdout",
     "output_type": "stream",
     "text": [
      "Train Loss: 0.0755, Acc: 0.9978 | Val Loss: 0.8451, Acc: 0.6800\n",
      "\n",
      "Epoch 15/50\n"
     ]
    },
    {
     "name": "stderr",
     "output_type": "stream",
     "text": [
      "                                                         \r"
     ]
    },
    {
     "name": "stdout",
     "output_type": "stream",
     "text": [
      "Train Loss: 0.0672, Acc: 0.9978 | Val Loss: 0.8278, Acc: 0.6600\n",
      "\n",
      "Epoch 16/50\n"
     ]
    },
    {
     "name": "stderr",
     "output_type": "stream",
     "text": [
      "                                                         \r"
     ]
    },
    {
     "name": "stdout",
     "output_type": "stream",
     "text": [
      "Train Loss: 0.0485, Acc: 0.9978 | Val Loss: 0.8122, Acc: 0.6600\n",
      "\n",
      "Epoch 17/50\n"
     ]
    },
    {
     "name": "stderr",
     "output_type": "stream",
     "text": [
      "                                                         \r"
     ]
    },
    {
     "name": "stdout",
     "output_type": "stream",
     "text": [
      "Train Loss: 0.0501, Acc: 0.9978 | Val Loss: 0.7910, Acc: 0.7000\n",
      "\n",
      "Epoch 18/50\n"
     ]
    },
    {
     "name": "stderr",
     "output_type": "stream",
     "text": [
      "                                                         \r"
     ]
    },
    {
     "name": "stdout",
     "output_type": "stream",
     "text": [
      "Train Loss: 0.0388, Acc: 1.0000 | Val Loss: 0.7586, Acc: 0.6800\n",
      "\n",
      "Epoch 19/50\n"
     ]
    },
    {
     "name": "stderr",
     "output_type": "stream",
     "text": [
      "                                                         \r"
     ]
    },
    {
     "name": "stdout",
     "output_type": "stream",
     "text": [
      "Train Loss: 0.0380, Acc: 0.9978 | Val Loss: 0.7548, Acc: 0.7200\n",
      "\n",
      "Epoch 20/50\n"
     ]
    },
    {
     "name": "stderr",
     "output_type": "stream",
     "text": [
      "                                                         \r"
     ]
    },
    {
     "name": "stdout",
     "output_type": "stream",
     "text": [
      "Train Loss: 0.0342, Acc: 0.9978 | Val Loss: 0.7520, Acc: 0.7200\n",
      "\n",
      "Epoch 21/50\n"
     ]
    },
    {
     "name": "stderr",
     "output_type": "stream",
     "text": [
      "                                                         \r"
     ]
    },
    {
     "name": "stdout",
     "output_type": "stream",
     "text": [
      "Train Loss: 0.0370, Acc: 1.0000 | Val Loss: 0.7244, Acc: 0.7600\n",
      "\n",
      "Epoch 22/50\n"
     ]
    },
    {
     "name": "stderr",
     "output_type": "stream",
     "text": [
      "                                                         \r"
     ]
    },
    {
     "name": "stdout",
     "output_type": "stream",
     "text": [
      "Train Loss: 0.0302, Acc: 1.0000 | Val Loss: 0.7081, Acc: 0.7800\n",
      "\n",
      "Epoch 23/50\n"
     ]
    },
    {
     "name": "stderr",
     "output_type": "stream",
     "text": [
      "                                                         \r"
     ]
    },
    {
     "name": "stdout",
     "output_type": "stream",
     "text": [
      "Train Loss: 0.0272, Acc: 0.9978 | Val Loss: 0.7367, Acc: 0.7400\n",
      "\n",
      "Epoch 24/50\n"
     ]
    },
    {
     "name": "stderr",
     "output_type": "stream",
     "text": [
      "                                                         \r"
     ]
    },
    {
     "name": "stdout",
     "output_type": "stream",
     "text": [
      "Train Loss: 0.0207, Acc: 1.0000 | Val Loss: 0.7837, Acc: 0.7400\n",
      "\n",
      "Epoch 25/50\n"
     ]
    },
    {
     "name": "stderr",
     "output_type": "stream",
     "text": [
      "                                                         \r"
     ]
    },
    {
     "name": "stdout",
     "output_type": "stream",
     "text": [
      "Train Loss: 0.0198, Acc: 1.0000 | Val Loss: 0.7611, Acc: 0.7400\n",
      "\n",
      "Epoch 26/50\n"
     ]
    },
    {
     "name": "stderr",
     "output_type": "stream",
     "text": [
      "                                                         \r"
     ]
    },
    {
     "name": "stdout",
     "output_type": "stream",
     "text": [
      "Train Loss: 0.0200, Acc: 1.0000 | Val Loss: 0.7554, Acc: 0.7200\n",
      "\n",
      "Epoch 27/50\n"
     ]
    },
    {
     "name": "stderr",
     "output_type": "stream",
     "text": [
      "                                                         \r"
     ]
    },
    {
     "name": "stdout",
     "output_type": "stream",
     "text": [
      "Train Loss: 0.0190, Acc: 1.0000 | Val Loss: 0.7614, Acc: 0.7400\n",
      "\n",
      "Epoch 28/50\n"
     ]
    },
    {
     "name": "stderr",
     "output_type": "stream",
     "text": [
      "                                                         \r"
     ]
    },
    {
     "name": "stdout",
     "output_type": "stream",
     "text": [
      "Train Loss: 0.0172, Acc: 1.0000 | Val Loss: 0.7321, Acc: 0.7400\n",
      "\n",
      "Epoch 29/50\n"
     ]
    },
    {
     "name": "stderr",
     "output_type": "stream",
     "text": [
      "                                                         \r"
     ]
    },
    {
     "name": "stdout",
     "output_type": "stream",
     "text": [
      "Train Loss: 0.0144, Acc: 1.0000 | Val Loss: 0.7333, Acc: 0.7000\n",
      "\n",
      "Epoch 30/50\n"
     ]
    },
    {
     "name": "stderr",
     "output_type": "stream",
     "text": [
      "                                                         \r"
     ]
    },
    {
     "name": "stdout",
     "output_type": "stream",
     "text": [
      "Train Loss: 0.0171, Acc: 1.0000 | Val Loss: 0.7459, Acc: 0.7200\n",
      "\n",
      "Epoch 31/50\n"
     ]
    },
    {
     "name": "stderr",
     "output_type": "stream",
     "text": [
      "                                                         \r"
     ]
    },
    {
     "name": "stdout",
     "output_type": "stream",
     "text": [
      "Train Loss: 0.0130, Acc: 1.0000 | Val Loss: 0.7070, Acc: 0.7000\n",
      "\n",
      "Epoch 32/50\n"
     ]
    },
    {
     "name": "stderr",
     "output_type": "stream",
     "text": [
      "                                                         \r"
     ]
    },
    {
     "name": "stdout",
     "output_type": "stream",
     "text": [
      "Train Loss: 0.0132, Acc: 1.0000 | Val Loss: 0.7488, Acc: 0.7000\n",
      "\n",
      "Epoch 33/50\n"
     ]
    },
    {
     "name": "stderr",
     "output_type": "stream",
     "text": [
      "                                                         \r"
     ]
    },
    {
     "name": "stdout",
     "output_type": "stream",
     "text": [
      "Train Loss: 0.0123, Acc: 1.0000 | Val Loss: 0.7326, Acc: 0.7000\n",
      "\n",
      "Epoch 34/50\n"
     ]
    },
    {
     "name": "stderr",
     "output_type": "stream",
     "text": [
      "                                                         \r"
     ]
    },
    {
     "name": "stdout",
     "output_type": "stream",
     "text": [
      "Train Loss: 0.0202, Acc: 0.9978 | Val Loss: 0.8237, Acc: 0.7200\n",
      "\n",
      "Epoch 35/50\n"
     ]
    },
    {
     "name": "stderr",
     "output_type": "stream",
     "text": [
      "                                                         \r"
     ]
    },
    {
     "name": "stdout",
     "output_type": "stream",
     "text": [
      "Train Loss: 0.0126, Acc: 1.0000 | Val Loss: 0.7616, Acc: 0.7200\n",
      "\n",
      "Epoch 36/50\n"
     ]
    },
    {
     "name": "stderr",
     "output_type": "stream",
     "text": [
      "                                                         \r"
     ]
    },
    {
     "name": "stdout",
     "output_type": "stream",
     "text": [
      "Train Loss: 0.0115, Acc: 1.0000 | Val Loss: 0.7854, Acc: 0.7000\n",
      "\n",
      "Epoch 37/50\n"
     ]
    },
    {
     "name": "stderr",
     "output_type": "stream",
     "text": [
      "                                                         \r"
     ]
    },
    {
     "name": "stdout",
     "output_type": "stream",
     "text": [
      "Train Loss: 0.0129, Acc: 1.0000 | Val Loss: 0.7705, Acc: 0.7400\n",
      "\n",
      "Epoch 38/50\n"
     ]
    },
    {
     "name": "stderr",
     "output_type": "stream",
     "text": [
      "                                                         \r"
     ]
    },
    {
     "name": "stdout",
     "output_type": "stream",
     "text": [
      "Train Loss: 0.0085, Acc: 1.0000 | Val Loss: 0.7582, Acc: 0.7000\n",
      "\n",
      "Epoch 39/50\n"
     ]
    },
    {
     "name": "stderr",
     "output_type": "stream",
     "text": [
      "                                                         \r"
     ]
    },
    {
     "name": "stdout",
     "output_type": "stream",
     "text": [
      "Train Loss: 0.0072, Acc: 1.0000 | Val Loss: 0.7707, Acc: 0.6800\n",
      "\n",
      "Epoch 40/50\n"
     ]
    },
    {
     "name": "stderr",
     "output_type": "stream",
     "text": [
      "                                                         \r"
     ]
    },
    {
     "name": "stdout",
     "output_type": "stream",
     "text": [
      "Train Loss: 0.0078, Acc: 1.0000 | Val Loss: 0.7646, Acc: 0.6800\n",
      "\n",
      "Epoch 41/50\n"
     ]
    },
    {
     "name": "stderr",
     "output_type": "stream",
     "text": [
      "                                                         \r"
     ]
    },
    {
     "name": "stdout",
     "output_type": "stream",
     "text": [
      "Train Loss: 0.0073, Acc: 1.0000 | Val Loss: 0.7389, Acc: 0.7200\n",
      "\n",
      "Epoch 42/50\n"
     ]
    },
    {
     "name": "stderr",
     "output_type": "stream",
     "text": [
      "                                                         \r"
     ]
    },
    {
     "name": "stdout",
     "output_type": "stream",
     "text": [
      "Train Loss: 0.0087, Acc: 1.0000 | Val Loss: 0.7151, Acc: 0.7000\n",
      "\n",
      "Epoch 43/50\n"
     ]
    },
    {
     "name": "stderr",
     "output_type": "stream",
     "text": [
      "                                                         \r"
     ]
    },
    {
     "name": "stdout",
     "output_type": "stream",
     "text": [
      "Train Loss: 0.0107, Acc: 0.9978 | Val Loss: 0.7452, Acc: 0.7200\n",
      "\n",
      "Epoch 44/50\n"
     ]
    },
    {
     "name": "stderr",
     "output_type": "stream",
     "text": [
      "                                                         \r"
     ]
    },
    {
     "name": "stdout",
     "output_type": "stream",
     "text": [
      "Train Loss: 0.0183, Acc: 0.9956 | Val Loss: 0.8176, Acc: 0.7400\n",
      "\n",
      "Epoch 45/50\n"
     ]
    },
    {
     "name": "stderr",
     "output_type": "stream",
     "text": [
      "                                                         \r"
     ]
    },
    {
     "name": "stdout",
     "output_type": "stream",
     "text": [
      "Train Loss: 0.0270, Acc: 0.9956 | Val Loss: 0.8114, Acc: 0.7400\n",
      "\n",
      "Epoch 46/50\n"
     ]
    },
    {
     "name": "stderr",
     "output_type": "stream",
     "text": [
      "                                                         \r"
     ]
    },
    {
     "name": "stdout",
     "output_type": "stream",
     "text": [
      "Train Loss: 0.0147, Acc: 0.9978 | Val Loss: 0.7551, Acc: 0.7400\n",
      "\n",
      "Epoch 47/50\n"
     ]
    },
    {
     "name": "stderr",
     "output_type": "stream",
     "text": [
      "                                                         \r"
     ]
    },
    {
     "name": "stdout",
     "output_type": "stream",
     "text": [
      "Train Loss: 0.0222, Acc: 1.0000 | Val Loss: 0.7576, Acc: 0.7600\n",
      "\n",
      "Epoch 48/50\n"
     ]
    },
    {
     "name": "stderr",
     "output_type": "stream",
     "text": [
      "                                                         \r"
     ]
    },
    {
     "name": "stdout",
     "output_type": "stream",
     "text": [
      "Train Loss: 0.0190, Acc: 1.0000 | Val Loss: 0.8221, Acc: 0.7200\n",
      "\n",
      "Epoch 49/50\n"
     ]
    },
    {
     "name": "stderr",
     "output_type": "stream",
     "text": [
      "                                                         \r"
     ]
    },
    {
     "name": "stdout",
     "output_type": "stream",
     "text": [
      "Train Loss: 0.0225, Acc: 0.9978 | Val Loss: 0.8635, Acc: 0.6600\n",
      "\n",
      "Epoch 50/50\n"
     ]
    },
    {
     "name": "stderr",
     "output_type": "stream",
     "text": [
      "                                                         "
     ]
    },
    {
     "name": "stdout",
     "output_type": "stream",
     "text": [
      "Train Loss: 0.0168, Acc: 0.9978 | Val Loss: 1.0032, Acc: 0.6800\n",
      "\n",
      "✅ Total training time: 532.73 sec\n"
     ]
    },
    {
     "name": "stderr",
     "output_type": "stream",
     "text": [
      "\r"
     ]
    }
   ],
   "source": [
    "# ===============================================================\n",
    "# 🔰 Step 5 — Training Loop\n",
    "# ===============================================================\n",
    "num_epochs = 50\n",
    "train_losses, val_losses = [], []\n",
    "train_accs, val_accs = [], []\n",
    "\n",
    "best_val_acc = 0.0\n",
    "start_time = time.time()\n",
    "for epoch in range(num_epochs):\n",
    "    print(f\"\\nEpoch {epoch+1}/{num_epochs}\")\n",
    "    train_loss, train_acc = train_one_epoch(model, train_loader, optimizer, criterion)\n",
    "    val_loss, val_acc, _, _, _ = evaluate(model, val_loader, criterion)\n",
    "\n",
    "    train_losses.append(train_loss)\n",
    "    val_losses.append(val_loss)\n",
    "    train_accs.append(train_acc)\n",
    "    val_accs.append(val_acc)\n",
    "\n",
    "    print(f\"Train Loss: {train_loss:.4f}, Acc: {train_acc:.4f} | Val Loss: {val_loss:.4f}, Acc: {val_acc:.4f}\")\n",
    "\n",
    "    if val_acc > best_val_acc:\n",
    "        best_val_acc = val_acc\n",
    "        torch.save(model.state_dict(), \"best_googlenet_model.pth\")\n",
    "\n",
    "end_time = time.time()\n",
    "train_time = end_time - start_time\n",
    "print(f\"\\n✅ Total training time: {train_time:.2f} sec\")\n"
   ]
  },
  {
   "cell_type": "code",
   "execution_count": 6,
   "id": "2d19bf88",
   "metadata": {
    "execution": {
     "iopub.execute_input": "2025-10-28T18:09:26.325675Z",
     "iopub.status.busy": "2025-10-28T18:09:26.325180Z",
     "iopub.status.idle": "2025-10-28T18:09:26.705887Z",
     "shell.execute_reply": "2025-10-28T18:09:26.705182Z"
    },
    "papermill": {
     "duration": 0.429623,
     "end_time": "2025-10-28T18:09:26.707111",
     "exception": false,
     "start_time": "2025-10-28T18:09:26.277488",
     "status": "completed"
    },
    "tags": []
   },
   "outputs": [
    {
     "data": {
      "image/png": "[encoded data removed]",
      "text/plain": [
       "<Figure size 1200x500 with 2 Axes>"
      ]
     },
     "metadata": {},
     "output_type": "display_data"
    }
   ],
   "source": [
    "# ===============================================================\n",
    "# 🔰 Step 6 — Plot Loss & Accuracy Curves\n",
    "# ===============================================================\n",
    "plt.figure(figsize=(12,5))\n",
    "plt.subplot(1,2,1)\n",
    "plt.plot(train_losses, label=\"Train Loss\")\n",
    "plt.plot(val_losses, label=\"Val Loss\")\n",
    "plt.title(\"Loss Curve\")\n",
    "plt.xlabel(\"Epoch\")\n",
    "plt.ylabel(\"Loss\")\n",
    "plt.legend()\n",
    "\n",
    "plt.subplot(1,2,2)\n",
    "plt.plot(train_accs, label=\"Train Acc\")\n",
    "plt.plot(val_accs, label=\"Val Acc\")\n",
    "plt.title(\"Accuracy Curve\")\n",
    "plt.xlabel(\"Epoch\")\n",
    "plt.ylabel(\"Accuracy\")\n",
    "plt.legend()\n",
    "plt.show()\n"
   ]
  },
  {
   "cell_type": "code",
   "execution_count": 7,
   "id": "efb8c035",
   "metadata": {
    "execution": {
     "iopub.execute_input": "2025-10-28T18:09:26.805903Z",
     "iopub.status.busy": "2025-10-28T18:09:26.805486Z",
     "iopub.status.idle": "2025-10-28T18:09:38.832306Z",
     "shell.execute_reply": "2025-10-28T18:09:38.831458Z"
    },
    "papermill": {
     "duration": 12.077011,
     "end_time": "2025-10-28T18:09:38.833349",
     "exception": false,
     "start_time": "2025-10-28T18:09:26.756338",
     "status": "completed"
    },
    "tags": []
   },
   "outputs": [
    {
     "name": "stderr",
     "output_type": "stream",
     "text": [
      "                                                           "
     ]
    },
    {
     "name": "stdout",
     "output_type": "stream",
     "text": [
      "\n",
      "✅ Test Accuracy: 64.76%\n",
      "✅ Test time: 11.94 sec\n"
     ]
    },
    {
     "name": "stderr",
     "output_type": "stream",
     "text": [
      "\r"
     ]
    }
   ],
   "source": [
    "# ===============================================================\n",
    "# 🔰 Step 7 — Test Evaluation\n",
    "# ===============================================================\n",
    "model.load_state_dict(torch.load(\"best_googlenet_model.pth\"))\n",
    "test_start = time.time()\n",
    "test_loss, test_acc, all_preds, all_labels, all_probs = evaluate(model, test_loader, criterion)\n",
    "test_end = time.time()\n",
    "test_time = test_end - test_start\n",
    "print(f\"\\n✅ Test Accuracy: {test_acc*100:.2f}%\")\n",
    "print(f\"✅ Test time: {test_time:.2f} sec\")\n"
   ]
  },
  {
   "cell_type": "code",
   "execution_count": 8,
   "id": "bc030343",
   "metadata": {
    "execution": {
     "iopub.execute_input": "2025-10-28T18:09:38.932056Z",
     "iopub.status.busy": "2025-10-28T18:09:38.931824Z",
     "iopub.status.idle": "2025-10-28T18:09:48.181585Z",
     "shell.execute_reply": "2025-10-28T18:09:48.180774Z"
    },
    "papermill": {
     "duration": 9.299608,
     "end_time": "2025-10-28T18:09:48.182653",
     "exception": false,
     "start_time": "2025-10-28T18:09:38.883045",
     "status": "completed"
    },
    "tags": []
   },
   "outputs": [
    {
     "name": "stdout",
     "output_type": "stream",
     "text": [
      "\n",
      "Classification Report:\n",
      "                       precision    recall  f1-score   support\n",
      "\n",
      "      Genus Criconema     0.0000    0.0000    0.0000         2\n",
      "  Genus Criconemoides     0.8857    0.5962    0.7126        52\n",
      "Genus Helicotylenchus     0.9275    0.8533    0.8889        75\n",
      "Genus Hemicycliophora     0.0000    0.0000    0.0000         2\n",
      " Genus Hirschmaniella     0.6716    0.6250    0.6475        72\n",
      "    Genus Hoplolaimus     0.7595    0.7595    0.7595        79\n",
      "    Genus Meloidogyne     0.4788    0.8061    0.6008        98\n",
      "   Genus Pratylenchus     0.3944    0.5600    0.4628        50\n",
      "     Genus Radopholus     1.0000    0.0625    0.1176        16\n",
      "    Genus Trichodorus     1.0000    0.5833    0.7368        24\n",
      "      Genus Xiphinema     1.0000    0.1842    0.3111        38\n",
      "\n",
      "             accuracy                         0.6476       508\n",
      "            macro avg     0.6470    0.4573    0.4762       508\n",
      "         weighted avg     0.7256    0.6476    0.6373       508\n",
      "\n"
     ]
    },
    {
     "name": "stderr",
     "output_type": "stream",
     "text": [
      "/usr/local/lib/python3.11/dist-packages/sklearn/metrics/_classification.py:1344: UndefinedMetricWarning: Precision and F-score are ill-defined and being set to 0.0 in labels with no predicted samples. Use `zero_division` parameter to control this behavior.\n",
      "  _warn_prf(average, modifier, msg_start, len(result))\n",
      "/usr/local/lib/python3.11/dist-packages/sklearn/metrics/_classification.py:1344: UndefinedMetricWarning: Precision and F-score are ill-defined and being set to 0.0 in labels with no predicted samples. Use `zero_division` parameter to control this behavior.\n",
      "  _warn_prf(average, modifier, msg_start, len(result))\n",
      "/usr/local/lib/python3.11/dist-packages/sklearn/metrics/_classification.py:1344: UndefinedMetricWarning: Precision and F-score are ill-defined and being set to 0.0 in labels with no predicted samples. Use `zero_division` parameter to control this behavior.\n",
      "  _warn_prf(average, modifier, msg_start, len(result))\n"
     ]
    },
    {
     "data": {
      "image/png": "[encoded data removed]",
      "text/plain": [
       "<Figure size 800x600 with 2 Axes>"
      ]
     },
     "metadata": {},
     "output_type": "display_data"
    },
    {
     "name": "stdout",
     "output_type": "stream",
     "text": [
      "\n",
      "Per-class Accuracy:\n",
      "Genus Criconema: 0.00%\n",
      "Genus Criconemoides: 59.62%\n",
      "Genus Helicotylenchus: 85.33%\n",
      "Genus Hemicycliophora: 0.00%\n",
      "Genus Hirschmaniella: 62.50%\n",
      "Genus Hoplolaimus: 75.95%\n",
      "Genus Meloidogyne: 80.61%\n",
      "Genus Pratylenchus: 56.00%\n",
      "Genus Radopholus: 6.25%\n",
      "Genus Trichodorus: 58.33%\n",
      "Genus Xiphinema: 18.42%\n"
     ]
    }
   ],
   "source": [
    "# ===============================================================\n",
    "# 🔰 Step 8 — Classification Report & Confusion Matrix\n",
    "# ===============================================================\n",
    "model.eval()\n",
    "all_preds, all_labels = [], []\n",
    "with torch.no_grad():\n",
    "    for images, labels in test_loader:\n",
    "        images, labels = images.to(device), labels.to(device)\n",
    "        outputs = model(images)\n",
    "        _, preds = torch.max(outputs, 1)\n",
    "        all_preds.extend(preds.cpu().numpy())\n",
    "        all_labels.extend(labels.cpu().numpy())\n",
    "\n",
    "unique_labels = sorted(list(set(all_labels)))\n",
    "target_names = [dataset.classes[i] for i in unique_labels]\n",
    "\n",
    "print(\"\\nClassification Report:\")\n",
    "print(classification_report(all_labels, all_preds, labels=unique_labels, target_names=target_names, digits=4))\n",
    "\n",
    "cm = confusion_matrix(all_labels, all_preds)\n",
    "plt.figure(figsize=(8,6))\n",
    "plt.imshow(cm, cmap=\"Blues\")\n",
    "plt.title(\"Confusion Matrix\")\n",
    "plt.xlabel(\"Predicted\")\n",
    "plt.ylabel(\"Actual\")\n",
    "plt.colorbar()\n",
    "plt.show()\n",
    "\n",
    "per_class_acc = cm.diagonal() / cm.sum(axis=1)\n",
    "print(\"\\nPer-class Accuracy:\")\n",
    "for i, label_idx in enumerate(unique_labels):\n",
    "    cls_name = dataset.classes[label_idx]\n",
    "    print(f\"{cls_name}: {per_class_acc[i]*100:.2f}%\")\n"
   ]
  },
  {
   "cell_type": "code",
   "execution_count": 9,
   "id": "f1e3e5ac",
   "metadata": {
    "execution": {
     "iopub.execute_input": "2025-10-28T18:09:48.288675Z",
     "iopub.status.busy": "2025-10-28T18:09:48.288357Z",
     "iopub.status.idle": "2025-10-28T18:09:48.571185Z",
     "shell.execute_reply": "2025-10-28T18:09:48.570536Z"
    },
    "papermill": {
     "duration": 0.339246,
     "end_time": "2025-10-28T18:09:48.573650",
     "exception": false,
     "start_time": "2025-10-28T18:09:48.234404",
     "status": "completed"
    },
    "tags": []
   },
   "outputs": [
    {
     "data": {
      "image/png": "[encoded data removed]",
      "text/plain": [
       "<Figure size 1000x800 with 1 Axes>"
      ]
     },
     "metadata": {},
     "output_type": "display_data"
    }
   ],
   "source": [
    "# ===============================================================\n",
    "# 🔰 Step 9 — ROC-AUC per class (Fixed)\n",
    "# ===============================================================\n",
    "import numpy as np\n",
    "from sklearn.metrics import roc_curve, auc\n",
    "\n",
    "all_labels = np.array(all_labels)\n",
    "all_probs = np.array(all_probs)\n",
    "\n",
    "plt.figure(figsize=(10,8))\n",
    "for i, cls in enumerate(dataset.classes):\n",
    "    binary_labels = (all_labels == i).astype(int)\n",
    "    fpr, tpr, _ = roc_curve(binary_labels, all_probs[:, i])\n",
    "    roc_auc = auc(fpr, tpr)\n",
    "    plt.plot(fpr, tpr, label=f'{cls} (AUC = {roc_auc:.4f})')\n",
    "\n",
    "plt.plot([0,1],[0,1],'k--')\n",
    "plt.title(\"ROC Curves (One-vs-Rest)\")\n",
    "plt.xlabel(\"False Positive Rate\")\n",
    "plt.ylabel(\"True Positive Rate\")\n",
    "plt.legend()\n",
    "plt.show()\n"
   ]
  },
  {
   "cell_type": "code",
   "execution_count": 10,
   "id": "8bb68332",
   "metadata": {
    "execution": {
     "iopub.execute_input": "2025-10-28T18:09:48.683738Z",
     "iopub.status.busy": "2025-10-28T18:09:48.683180Z",
     "iopub.status.idle": "2025-10-28T18:09:48.693759Z",
     "shell.execute_reply": "2025-10-28T18:09:48.692939Z"
    },
    "papermill": {
     "duration": 0.064999,
     "end_time": "2025-10-28T18:09:48.694900",
     "exception": false,
     "start_time": "2025-10-28T18:09:48.629901",
     "status": "completed"
    },
    "tags": []
   },
   "outputs": [
    {
     "name": "stdout",
     "output_type": "stream",
     "text": [
      "✅ Full Model Metrics on Test Set:\n",
      "Accuracy : 64.76%\n",
      "Precision: 72.56%\n",
      "Recall   : 64.76%\n",
      "F1-Score : 63.73%\n"
     ]
    }
   ],
   "source": [
    "# ===============================================================\n",
    "# 🔰 Step 10 — Full Metrics Evaluation\n",
    "# ===============================================================\n",
    "from sklearn.metrics import accuracy_score, precision_score, recall_score, f1_score\n",
    "\n",
    "all_labels = np.array(all_labels)\n",
    "all_preds  = np.array(all_preds)\n",
    "\n",
    "accuracy  = accuracy_score(all_labels, all_preds)\n",
    "precision = precision_score(all_labels, all_preds, average='weighted', zero_division=0)\n",
    "recall    = recall_score(all_labels, all_preds, average='weighted', zero_division=0)\n",
    "f1        = f1_score(all_labels, all_preds, average='weighted', zero_division=0)\n",
    "\n",
    "print(\"✅ Full Model Metrics on Test Set:\")\n",
    "print(f\"Accuracy : {accuracy*100:.2f}%\")\n",
    "print(f\"Precision: {precision*100:.2f}%\")\n",
    "print(f\"Recall   : {recall*100:.2f}%\")\n",
    "print(f\"F1-Score : {f1*100:.2f}%\")"
   ]
  }
 ],
 "metadata": {
  "kaggle": {
   "accelerator": "nvidiaTeslaT4",
   "dataSources": [
    {
     "datasetId": 8578836,
     "sourceId": 13511700,
     "sourceType": "datasetVersion"
    }
   ],
   "isGpuEnabled": true,
   "isInternetEnabled": true,
   "language": "python",
   "sourceType": "notebook"
  },
  "kernelspec": {
   "display_name": "Python 3",
   "language": "python",
   "name": "python3"
  },
  "language_info": {
   "codemirror_mode": {
    "name": "ipython",
    "version": 3
   },
   "file_extension": ".py",
   "mimetype": "text/x-python",
   "name": "python",
   "nbconvert_exporter": "python",
   "pygments_lexer": "ipython3",
   "version": "3.11.13"
  },
  "papermill": {
   "default_parameters": {},
   "duration": 576.145683,
   "end_time": "2025-10-28T18:09:50.644901",
   "environment_variables": {},
   "exception": null,
   "input_path": "__notebook__.ipynb",
   "output_path": "__notebook__.ipynb",
   "parameters": {},
   "start_time": "2025-10-28T18:00:14.499218",
   "version": "2.6.0"
  }
 },
 "nbformat": 4,
 "nbformat_minor": 5
}
