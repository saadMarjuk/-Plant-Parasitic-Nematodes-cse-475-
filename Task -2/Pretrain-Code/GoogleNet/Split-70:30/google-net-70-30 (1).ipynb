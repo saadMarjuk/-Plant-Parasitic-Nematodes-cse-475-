{
 "cells": [
  {
   "cell_type": "code",
   "execution_count": 1,
   "id": "07fd326d",
   "metadata": {
    "_cell_guid": "b1076dfc-b9ad-4769-8c92-a6c4dae69d19",
    "_uuid": "8f2839f25d086af736a60e9eeb907d3b93b6e0e5",
    "execution": {
     "iopub.execute_input": "2025-10-28T18:27:14.058243Z",
     "iopub.status.busy": "2025-10-28T18:27:14.057828Z",
     "iopub.status.idle": "2025-10-28T18:27:26.145038Z",
     "shell.execute_reply": "2025-10-28T18:27:26.144398Z"
    },
    "papermill": {
     "duration": 12.095251,
     "end_time": "2025-10-28T18:27:26.146575",
     "exception": false,
     "start_time": "2025-10-28T18:27:14.051324",
     "status": "completed"
    },
    "tags": []
   },
   "outputs": [],
   "source": [
    "# ===============================================================\n",
    "# 🔰 Step 1 — Import Libraries\n",
    "# ===============================================================\n",
    "import numpy as np\n",
    "import pandas as pd\n",
    "import os, time\n",
    "from tqdm import tqdm\n",
    "\n",
    "import torch\n",
    "import torch.nn as nn\n",
    "import torch.optim as optim\n",
    "from torch.utils.data import DataLoader, random_split\n",
    "from torchvision import datasets, transforms, models\n",
    "\n",
    "import matplotlib.pyplot as plt\n",
    "from sklearn.metrics import classification_report, confusion_matrix, roc_curve, auc\n"
   ]
  },
  {
   "cell_type": "code",
   "execution_count": 2,
   "id": "3ecbcf3a",
   "metadata": {
    "execution": {
     "iopub.execute_input": "2025-10-28T18:27:26.151898Z",
     "iopub.status.busy": "2025-10-28T18:27:26.151560Z",
     "iopub.status.idle": "2025-10-28T18:27:28.170683Z",
     "shell.execute_reply": "2025-10-28T18:27:28.169826Z"
    },
    "papermill": {
     "duration": 2.022954,
     "end_time": "2025-10-28T18:27:28.171877",
     "exception": false,
     "start_time": "2025-10-28T18:27:26.148923",
     "status": "completed"
    },
    "tags": []
   },
   "outputs": [
    {
     "name": "stdout",
     "output_type": "stream",
     "text": [
      "Using device: cuda\n",
      "Train: 712, Test: 304\n",
      "Train: 641, Validation: 71, Test: 304\n"
     ]
    }
   ],
   "source": [
    "# ===============================================================\n",
    "# 🔰 Step 2 — Device Setup & Data Preparation\n",
    "# ===============================================================\n",
    "device = torch.device(\"cuda\" if torch.cuda.is_available() else \"cpu\")\n",
    "print(\"Using device:\", device)\n",
    "\n",
    "# ✅ Dataset path (change if needed)\n",
    "DATA_DIR = \"/kaggle/input/dataset-of-plant-parasitic-nematodes/Microscopic Image Dataset of Plant-Parasitic Nematodes\"\n",
    "\n",
    "# ✅ Image transformations\n",
    "transform = transforms.Compose([\n",
    "    transforms.Resize((224, 224)),\n",
    "    transforms.ToTensor(),\n",
    "    transforms.Normalize([0.485, 0.456, 0.406],\n",
    "                         [0.229, 0.224, 0.225])\n",
    "])\n",
    "\n",
    "# ✅ Load dataset using ImageFolder\n",
    "dataset = datasets.ImageFolder(DATA_DIR, transform=transform)\n",
    "\n",
    "# ✅ Split 70:30 (Train:Test)\n",
    "test_ratio = 0.3\n",
    "test_size = int(test_ratio * len(dataset))\n",
    "train_size = len(dataset) - test_size\n",
    "train_dataset, test_dataset = random_split(dataset, [train_size, test_size])\n",
    "print(f\"Train: {len(train_dataset)}, Test: {len(test_dataset)}\")\n",
    "\n",
    "# ✅ Split 10% of Train as Validation\n",
    "val_ratio = 0.1\n",
    "val_size = int(val_ratio * len(train_dataset))\n",
    "train_size_final = len(train_dataset) - val_size\n",
    "train_dataset, val_dataset = random_split(train_dataset, [train_size_final, val_size])\n",
    "print(f\"Train: {len(train_dataset)}, Validation: {len(val_dataset)}, Test: {len(test_dataset)}\")\n",
    "\n",
    "# ✅ Dataloader setup\n",
    "batch_size = 32\n",
    "train_loader = DataLoader(train_dataset, batch_size=batch_size, shuffle=True)\n",
    "val_loader = DataLoader(val_dataset, batch_size=batch_size, shuffle=False)\n",
    "test_loader = DataLoader(test_dataset, batch_size=batch_size, shuffle=False)\n"
   ]
  },
  {
   "cell_type": "code",
   "execution_count": 3,
   "id": "986772ea",
   "metadata": {
    "execution": {
     "iopub.execute_input": "2025-10-28T18:27:28.177231Z",
     "iopub.status.busy": "2025-10-28T18:27:28.176978Z",
     "iopub.status.idle": "2025-10-28T18:27:28.973966Z",
     "shell.execute_reply": "2025-10-28T18:27:28.973174Z"
    },
    "papermill": {
     "duration": 0.801113,
     "end_time": "2025-10-28T18:27:28.975369",
     "exception": false,
     "start_time": "2025-10-28T18:27:28.174256",
     "status": "completed"
    },
    "tags": []
   },
   "outputs": [
    {
     "name": "stderr",
     "output_type": "stream",
     "text": [
      "Downloading: \"https://download.pytorch.org/models/googlenet-1378be20.pth\" to /root/.cache/torch/hub/checkpoints/googlenet-1378be20.pth\n",
      "100%|██████████| 49.7M/49.7M [00:00<00:00, 165MB/s]\n"
     ]
    }
   ],
   "source": [
    "# ===============================================================\n",
    "# 🔰 Step 3 — Model: GoogLeNet (Updated for Torchvision ≥ 0.13)\n",
    "# ===============================================================\n",
    "from torchvision.models import googlenet, GoogLeNet_Weights\n",
    "\n",
    "# ✅ Use modern weights API\n",
    "weights = GoogLeNet_Weights.DEFAULT\n",
    "model = googlenet(weights=weights)  # aux_logits=True by default\n",
    "\n",
    "# ⚙️ Disable auxiliary classifier during training if not needed\n",
    "model.aux_logits = False\n",
    "\n",
    "# ✅ Replace final fully connected layer\n",
    "num_classes = len(dataset.classes)\n",
    "model.fc = nn.Linear(model.fc.in_features, num_classes)\n",
    "\n",
    "# ✅ Move model to device\n",
    "model = model.to(device)\n",
    "\n",
    "# ✅ Loss & Optimizer\n",
    "criterion = nn.CrossEntropyLoss()\n",
    "optimizer = optim.Adam(model.parameters(), lr=1e-4)\n"
   ]
  },
  {
   "cell_type": "code",
   "execution_count": 4,
   "id": "0ec6274a",
   "metadata": {
    "execution": {
     "iopub.execute_input": "2025-10-28T18:27:28.981780Z",
     "iopub.status.busy": "2025-10-28T18:27:28.981134Z",
     "iopub.status.idle": "2025-10-28T18:27:29.138967Z",
     "shell.execute_reply": "2025-10-28T18:27:29.138221Z"
    },
    "papermill": {
     "duration": 0.162215,
     "end_time": "2025-10-28T18:27:29.140289",
     "exception": false,
     "start_time": "2025-10-28T18:27:28.978074",
     "status": "completed"
    },
    "tags": []
   },
   "outputs": [],
   "source": [
    "# ===============================================================\n",
    "# 🔰 Step 4 — Train & Evaluate Functions\n",
    "# ===============================================================\n",
    "def train_one_epoch(model, loader, optimizer, criterion):\n",
    "    model.train()\n",
    "    running_loss, correct, total = 0.0, 0, 0\n",
    "    for images, labels in tqdm(loader, desc=\"Training\", leave=False):\n",
    "        images, labels = images.to(device), labels.to(device)\n",
    "        optimizer.zero_grad()\n",
    "        outputs = model(images)\n",
    "        loss = criterion(outputs, labels)\n",
    "        loss.backward()\n",
    "        optimizer.step()\n",
    "\n",
    "        running_loss += loss.item() * images.size(0)\n",
    "        _, preds = torch.max(outputs, 1)\n",
    "        correct += (preds == labels).sum().item()\n",
    "        total += labels.size(0)\n",
    "    return running_loss / total, correct / total\n",
    "\n",
    "\n",
    "def evaluate(model, loader, criterion):\n",
    "    model.eval()\n",
    "    running_loss, correct, total = 0.0, 0, 0\n",
    "    all_preds, all_labels, all_probs = [], [], []\n",
    "    with torch.no_grad():\n",
    "        for images, labels in tqdm(loader, desc=\"Evaluating\", leave=False):\n",
    "            images, labels = images.to(device), labels.to(device)\n",
    "            outputs = model(images)\n",
    "            loss = criterion(outputs, labels)\n",
    "\n",
    "            running_loss += loss.item() * images.size(0)\n",
    "            _, preds = torch.max(outputs, 1)\n",
    "            probs = torch.softmax(outputs, dim=1)\n",
    "\n",
    "            correct += (preds == labels).sum().item()\n",
    "            total += labels.size(0)\n",
    "\n",
    "            all_preds.extend(preds.cpu().numpy())\n",
    "            all_labels.extend(labels.cpu().numpy())\n",
    "            all_probs.extend(probs.cpu().numpy())\n",
    "    return running_loss / total, correct / total, np.array(all_preds), np.array(all_labels), np.array(all_probs)\n"
   ]
  },
  {
   "cell_type": "code",
   "execution_count": 5,
   "id": "09e194e8",
   "metadata": {
    "execution": {
     "iopub.execute_input": "2025-10-28T18:27:29.146466Z",
     "iopub.status.busy": "2025-10-28T18:27:29.145900Z",
     "iopub.status.idle": "2025-10-28T18:39:40.819744Z",
     "shell.execute_reply": "2025-10-28T18:39:40.818892Z"
    },
    "papermill": {
     "duration": 731.677987,
     "end_time": "2025-10-28T18:39:40.820842",
     "exception": false,
     "start_time": "2025-10-28T18:27:29.142855",
     "status": "completed"
    },
    "tags": []
   },
   "outputs": [
    {
     "name": "stdout",
     "output_type": "stream",
     "text": [
      "\n",
      "Epoch 1/50\n"
     ]
    },
    {
     "name": "stderr",
     "output_type": "stream",
     "text": [
      "                                                         \r"
     ]
    },
    {
     "name": "stdout",
     "output_type": "stream",
     "text": [
      "Train Loss: 2.1976, Acc: 0.2418 | Val Loss: 2.0002, Acc: 0.3239\n",
      "\n",
      "Epoch 2/50\n"
     ]
    },
    {
     "name": "stderr",
     "output_type": "stream",
     "text": [
      "                                                         \r"
     ]
    },
    {
     "name": "stdout",
     "output_type": "stream",
     "text": [
      "Train Loss: 1.6033, Acc: 0.6131 | Val Loss: 1.6862, Acc: 0.4366\n",
      "\n",
      "Epoch 3/50\n"
     ]
    },
    {
     "name": "stderr",
     "output_type": "stream",
     "text": [
      "                                                         \r"
     ]
    },
    {
     "name": "stdout",
     "output_type": "stream",
     "text": [
      "Train Loss: 1.1786, Acc: 0.7535 | Val Loss: 1.4584, Acc: 0.5211\n",
      "\n",
      "Epoch 4/50\n"
     ]
    },
    {
     "name": "stderr",
     "output_type": "stream",
     "text": [
      "                                                         \r"
     ]
    },
    {
     "name": "stdout",
     "output_type": "stream",
     "text": [
      "Train Loss: 0.8295, Acc: 0.8736 | Val Loss: 1.3115, Acc: 0.6620\n",
      "\n",
      "Epoch 5/50\n"
     ]
    },
    {
     "name": "stderr",
     "output_type": "stream",
     "text": [
      "                                                         \r"
     ]
    },
    {
     "name": "stdout",
     "output_type": "stream",
     "text": [
      "Train Loss: 0.5649, Acc: 0.9345 | Val Loss: 1.1620, Acc: 0.6901\n",
      "\n",
      "Epoch 6/50\n"
     ]
    },
    {
     "name": "stderr",
     "output_type": "stream",
     "text": [
      "                                                         \r"
     ]
    },
    {
     "name": "stdout",
     "output_type": "stream",
     "text": [
      "Train Loss: 0.3833, Acc: 0.9626 | Val Loss: 1.0864, Acc: 0.7042\n",
      "\n",
      "Epoch 7/50\n"
     ]
    },
    {
     "name": "stderr",
     "output_type": "stream",
     "text": [
      "                                                         \r"
     ]
    },
    {
     "name": "stdout",
     "output_type": "stream",
     "text": [
      "Train Loss: 0.2672, Acc: 0.9797 | Val Loss: 0.9965, Acc: 0.7183\n",
      "\n",
      "Epoch 8/50\n"
     ]
    },
    {
     "name": "stderr",
     "output_type": "stream",
     "text": [
      "                                                         \r"
     ]
    },
    {
     "name": "stdout",
     "output_type": "stream",
     "text": [
      "Train Loss: 0.1911, Acc: 0.9844 | Val Loss: 0.9685, Acc: 0.7042\n",
      "\n",
      "Epoch 9/50\n"
     ]
    },
    {
     "name": "stderr",
     "output_type": "stream",
     "text": [
      "                                                         \r"
     ]
    },
    {
     "name": "stdout",
     "output_type": "stream",
     "text": [
      "Train Loss: 0.1440, Acc: 0.9844 | Val Loss: 0.9398, Acc: 0.7606\n",
      "\n",
      "Epoch 10/50\n"
     ]
    },
    {
     "name": "stderr",
     "output_type": "stream",
     "text": [
      "                                                         \r"
     ]
    },
    {
     "name": "stdout",
     "output_type": "stream",
     "text": [
      "Train Loss: 0.1138, Acc: 0.9860 | Val Loss: 0.9382, Acc: 0.7324\n",
      "\n",
      "Epoch 11/50\n"
     ]
    },
    {
     "name": "stderr",
     "output_type": "stream",
     "text": [
      "                                                         \r"
     ]
    },
    {
     "name": "stdout",
     "output_type": "stream",
     "text": [
      "Train Loss: 0.0933, Acc: 0.9875 | Val Loss: 0.9177, Acc: 0.7183\n",
      "\n",
      "Epoch 12/50\n"
     ]
    },
    {
     "name": "stderr",
     "output_type": "stream",
     "text": [
      "                                                         \r"
     ]
    },
    {
     "name": "stdout",
     "output_type": "stream",
     "text": [
      "Train Loss: 0.0834, Acc: 0.9891 | Val Loss: 0.8603, Acc: 0.7042\n",
      "\n",
      "Epoch 13/50\n"
     ]
    },
    {
     "name": "stderr",
     "output_type": "stream",
     "text": [
      "                                                         \r"
     ]
    },
    {
     "name": "stdout",
     "output_type": "stream",
     "text": [
      "Train Loss: 0.0738, Acc: 0.9938 | Val Loss: 0.8645, Acc: 0.7183\n",
      "\n",
      "Epoch 14/50\n"
     ]
    },
    {
     "name": "stderr",
     "output_type": "stream",
     "text": [
      "                                                         \r"
     ]
    },
    {
     "name": "stdout",
     "output_type": "stream",
     "text": [
      "Train Loss: 0.0605, Acc: 0.9953 | Val Loss: 0.9613, Acc: 0.7465\n",
      "\n",
      "Epoch 15/50\n"
     ]
    },
    {
     "name": "stderr",
     "output_type": "stream",
     "text": [
      "                                                         \r"
     ]
    },
    {
     "name": "stdout",
     "output_type": "stream",
     "text": [
      "Train Loss: 0.0563, Acc: 0.9969 | Val Loss: 0.9032, Acc: 0.7465\n",
      "\n",
      "Epoch 16/50\n"
     ]
    },
    {
     "name": "stderr",
     "output_type": "stream",
     "text": [
      "                                                         \r"
     ]
    },
    {
     "name": "stdout",
     "output_type": "stream",
     "text": [
      "Train Loss: 0.0469, Acc: 0.9953 | Val Loss: 0.8881, Acc: 0.7465\n",
      "\n",
      "Epoch 17/50\n"
     ]
    },
    {
     "name": "stderr",
     "output_type": "stream",
     "text": [
      "                                                         \r"
     ]
    },
    {
     "name": "stdout",
     "output_type": "stream",
     "text": [
      "Train Loss: 0.0456, Acc: 0.9969 | Val Loss: 0.8924, Acc: 0.7746\n",
      "\n",
      "Epoch 18/50\n"
     ]
    },
    {
     "name": "stderr",
     "output_type": "stream",
     "text": [
      "                                                         \r"
     ]
    },
    {
     "name": "stdout",
     "output_type": "stream",
     "text": [
      "Train Loss: 0.0391, Acc: 0.9984 | Val Loss: 0.8634, Acc: 0.7606\n",
      "\n",
      "Epoch 19/50\n"
     ]
    },
    {
     "name": "stderr",
     "output_type": "stream",
     "text": [
      "                                                         \r"
     ]
    },
    {
     "name": "stdout",
     "output_type": "stream",
     "text": [
      "Train Loss: 0.0401, Acc: 0.9984 | Val Loss: 0.8630, Acc: 0.7887\n",
      "\n",
      "Epoch 20/50\n"
     ]
    },
    {
     "name": "stderr",
     "output_type": "stream",
     "text": [
      "                                                         \r"
     ]
    },
    {
     "name": "stdout",
     "output_type": "stream",
     "text": [
      "Train Loss: 0.0350, Acc: 0.9984 | Val Loss: 0.8766, Acc: 0.7606\n",
      "\n",
      "Epoch 21/50\n"
     ]
    },
    {
     "name": "stderr",
     "output_type": "stream",
     "text": [
      "                                                         \r"
     ]
    },
    {
     "name": "stdout",
     "output_type": "stream",
     "text": [
      "Train Loss: 0.0295, Acc: 0.9984 | Val Loss: 0.8020, Acc: 0.7887\n",
      "\n",
      "Epoch 22/50\n"
     ]
    },
    {
     "name": "stderr",
     "output_type": "stream",
     "text": [
      "                                                         \r"
     ]
    },
    {
     "name": "stdout",
     "output_type": "stream",
     "text": [
      "Train Loss: 0.0264, Acc: 0.9984 | Val Loss: 0.7617, Acc: 0.7887\n",
      "\n",
      "Epoch 23/50\n"
     ]
    },
    {
     "name": "stderr",
     "output_type": "stream",
     "text": [
      "                                                         \r"
     ]
    },
    {
     "name": "stdout",
     "output_type": "stream",
     "text": [
      "Train Loss: 0.0262, Acc: 0.9984 | Val Loss: 0.7763, Acc: 0.7887\n",
      "\n",
      "Epoch 24/50\n"
     ]
    },
    {
     "name": "stderr",
     "output_type": "stream",
     "text": [
      "                                                         \r"
     ]
    },
    {
     "name": "stdout",
     "output_type": "stream",
     "text": [
      "Train Loss: 0.0222, Acc: 1.0000 | Val Loss: 0.7417, Acc: 0.7324\n",
      "\n",
      "Epoch 25/50\n"
     ]
    },
    {
     "name": "stderr",
     "output_type": "stream",
     "text": [
      "                                                         \r"
     ]
    },
    {
     "name": "stdout",
     "output_type": "stream",
     "text": [
      "Train Loss: 0.0242, Acc: 0.9984 | Val Loss: 0.9035, Acc: 0.7324\n",
      "\n",
      "Epoch 26/50\n"
     ]
    },
    {
     "name": "stderr",
     "output_type": "stream",
     "text": [
      "                                                         \r"
     ]
    },
    {
     "name": "stdout",
     "output_type": "stream",
     "text": [
      "Train Loss: 0.0223, Acc: 0.9984 | Val Loss: 0.8083, Acc: 0.7465\n",
      "\n",
      "Epoch 27/50\n"
     ]
    },
    {
     "name": "stderr",
     "output_type": "stream",
     "text": [
      "                                                         \r"
     ]
    },
    {
     "name": "stdout",
     "output_type": "stream",
     "text": [
      "Train Loss: 0.0204, Acc: 0.9984 | Val Loss: 0.8609, Acc: 0.7183\n",
      "\n",
      "Epoch 28/50\n"
     ]
    },
    {
     "name": "stderr",
     "output_type": "stream",
     "text": [
      "                                                         \r"
     ]
    },
    {
     "name": "stdout",
     "output_type": "stream",
     "text": [
      "Train Loss: 0.0175, Acc: 1.0000 | Val Loss: 0.7917, Acc: 0.7042\n",
      "\n",
      "Epoch 29/50\n"
     ]
    },
    {
     "name": "stderr",
     "output_type": "stream",
     "text": [
      "                                                         \r"
     ]
    },
    {
     "name": "stdout",
     "output_type": "stream",
     "text": [
      "Train Loss: 0.0187, Acc: 0.9984 | Val Loss: 0.7688, Acc: 0.7324\n",
      "\n",
      "Epoch 30/50\n"
     ]
    },
    {
     "name": "stderr",
     "output_type": "stream",
     "text": [
      "                                                         \r"
     ]
    },
    {
     "name": "stdout",
     "output_type": "stream",
     "text": [
      "Train Loss: 0.0237, Acc: 0.9984 | Val Loss: 0.7957, Acc: 0.7042\n",
      "\n",
      "Epoch 31/50\n"
     ]
    },
    {
     "name": "stderr",
     "output_type": "stream",
     "text": [
      "                                                         \r"
     ]
    },
    {
     "name": "stdout",
     "output_type": "stream",
     "text": [
      "Train Loss: 0.0154, Acc: 0.9984 | Val Loss: 0.7262, Acc: 0.7887\n",
      "\n",
      "Epoch 32/50\n"
     ]
    },
    {
     "name": "stderr",
     "output_type": "stream",
     "text": [
      "                                                         \r"
     ]
    },
    {
     "name": "stdout",
     "output_type": "stream",
     "text": [
      "Train Loss: 0.0187, Acc: 0.9984 | Val Loss: 0.8196, Acc: 0.7324\n",
      "\n",
      "Epoch 33/50\n"
     ]
    },
    {
     "name": "stderr",
     "output_type": "stream",
     "text": [
      "                                                         \r"
     ]
    },
    {
     "name": "stdout",
     "output_type": "stream",
     "text": [
      "Train Loss: 0.0171, Acc: 0.9984 | Val Loss: 0.8227, Acc: 0.7606\n",
      "\n",
      "Epoch 34/50\n"
     ]
    },
    {
     "name": "stderr",
     "output_type": "stream",
     "text": [
      "                                                         \r"
     ]
    },
    {
     "name": "stdout",
     "output_type": "stream",
     "text": [
      "Train Loss: 0.0166, Acc: 0.9984 | Val Loss: 0.7393, Acc: 0.7887\n",
      "\n",
      "Epoch 35/50\n"
     ]
    },
    {
     "name": "stderr",
     "output_type": "stream",
     "text": [
      "                                                         \r"
     ]
    },
    {
     "name": "stdout",
     "output_type": "stream",
     "text": [
      "Train Loss: 0.0120, Acc: 0.9984 | Val Loss: 0.7710, Acc: 0.7746\n",
      "\n",
      "Epoch 36/50\n"
     ]
    },
    {
     "name": "stderr",
     "output_type": "stream",
     "text": [
      "                                                         \r"
     ]
    },
    {
     "name": "stdout",
     "output_type": "stream",
     "text": [
      "Train Loss: 0.0168, Acc: 0.9984 | Val Loss: 0.8186, Acc: 0.7324\n",
      "\n",
      "Epoch 37/50\n"
     ]
    },
    {
     "name": "stderr",
     "output_type": "stream",
     "text": [
      "                                                         \r"
     ]
    },
    {
     "name": "stdout",
     "output_type": "stream",
     "text": [
      "Train Loss: 0.0166, Acc: 0.9984 | Val Loss: 0.7732, Acc: 0.7324\n",
      "\n",
      "Epoch 38/50\n"
     ]
    },
    {
     "name": "stderr",
     "output_type": "stream",
     "text": [
      "                                                         \r"
     ]
    },
    {
     "name": "stdout",
     "output_type": "stream",
     "text": [
      "Train Loss: 0.0116, Acc: 1.0000 | Val Loss: 0.7355, Acc: 0.7887\n",
      "\n",
      "Epoch 39/50\n"
     ]
    },
    {
     "name": "stderr",
     "output_type": "stream",
     "text": [
      "                                                         \r"
     ]
    },
    {
     "name": "stdout",
     "output_type": "stream",
     "text": [
      "Train Loss: 0.0156, Acc: 0.9984 | Val Loss: 0.8572, Acc: 0.7465\n",
      "\n",
      "Epoch 40/50\n"
     ]
    },
    {
     "name": "stderr",
     "output_type": "stream",
     "text": [
      "                                                         \r"
     ]
    },
    {
     "name": "stdout",
     "output_type": "stream",
     "text": [
      "Train Loss: 0.0142, Acc: 0.9984 | Val Loss: 0.8718, Acc: 0.7606\n",
      "\n",
      "Epoch 41/50\n"
     ]
    },
    {
     "name": "stderr",
     "output_type": "stream",
     "text": [
      "                                                         \r"
     ]
    },
    {
     "name": "stdout",
     "output_type": "stream",
     "text": [
      "Train Loss: 0.0142, Acc: 0.9984 | Val Loss: 0.7712, Acc: 0.7606\n",
      "\n",
      "Epoch 42/50\n"
     ]
    },
    {
     "name": "stderr",
     "output_type": "stream",
     "text": [
      "                                                         \r"
     ]
    },
    {
     "name": "stdout",
     "output_type": "stream",
     "text": [
      "Train Loss: 0.0127, Acc: 0.9984 | Val Loss: 0.7777, Acc: 0.7465\n",
      "\n",
      "Epoch 43/50\n"
     ]
    },
    {
     "name": "stderr",
     "output_type": "stream",
     "text": [
      "                                                         \r"
     ]
    },
    {
     "name": "stdout",
     "output_type": "stream",
     "text": [
      "Train Loss: 0.0148, Acc: 0.9984 | Val Loss: 0.8660, Acc: 0.7465\n",
      "\n",
      "Epoch 44/50\n"
     ]
    },
    {
     "name": "stderr",
     "output_type": "stream",
     "text": [
      "                                                         \r"
     ]
    },
    {
     "name": "stdout",
     "output_type": "stream",
     "text": [
      "Train Loss: 0.0141, Acc: 0.9984 | Val Loss: 0.7917, Acc: 0.7465\n",
      "\n",
      "Epoch 45/50\n"
     ]
    },
    {
     "name": "stderr",
     "output_type": "stream",
     "text": [
      "                                                         \r"
     ]
    },
    {
     "name": "stdout",
     "output_type": "stream",
     "text": [
      "Train Loss: 0.0127, Acc: 0.9984 | Val Loss: 0.7539, Acc: 0.7746\n",
      "\n",
      "Epoch 46/50\n"
     ]
    },
    {
     "name": "stderr",
     "output_type": "stream",
     "text": [
      "                                                         \r"
     ]
    },
    {
     "name": "stdout",
     "output_type": "stream",
     "text": [
      "Train Loss: 0.0171, Acc: 0.9984 | Val Loss: 0.7507, Acc: 0.7465\n",
      "\n",
      "Epoch 47/50\n"
     ]
    },
    {
     "name": "stderr",
     "output_type": "stream",
     "text": [
      "                                                         \r"
     ]
    },
    {
     "name": "stdout",
     "output_type": "stream",
     "text": [
      "Train Loss: 0.0158, Acc: 0.9984 | Val Loss: 0.7679, Acc: 0.7746\n",
      "\n",
      "Epoch 48/50\n"
     ]
    },
    {
     "name": "stderr",
     "output_type": "stream",
     "text": [
      "                                                         \r"
     ]
    },
    {
     "name": "stdout",
     "output_type": "stream",
     "text": [
      "Train Loss: 0.0116, Acc: 0.9984 | Val Loss: 0.7432, Acc: 0.8028\n",
      "\n",
      "Epoch 49/50\n"
     ]
    },
    {
     "name": "stderr",
     "output_type": "stream",
     "text": [
      "                                                         \r"
     ]
    },
    {
     "name": "stdout",
     "output_type": "stream",
     "text": [
      "Train Loss: 0.0101, Acc: 0.9984 | Val Loss: 0.7911, Acc: 0.7183\n",
      "\n",
      "Epoch 50/50\n"
     ]
    },
    {
     "name": "stderr",
     "output_type": "stream",
     "text": [
      "                                                         "
     ]
    },
    {
     "name": "stdout",
     "output_type": "stream",
     "text": [
      "Train Loss: 0.0119, Acc: 0.9984 | Val Loss: 0.7965, Acc: 0.8028\n",
      "\n",
      "✅ Total training time: 731.67 sec\n"
     ]
    },
    {
     "name": "stderr",
     "output_type": "stream",
     "text": [
      "\r"
     ]
    }
   ],
   "source": [
    "# ===============================================================\n",
    "# 🔰 Step 5 — Training Loop\n",
    "# ===============================================================\n",
    "num_epochs = 50\n",
    "train_losses, val_losses = [], []\n",
    "train_accs, val_accs = [], []\n",
    "\n",
    "best_val_acc = 0.0\n",
    "start_time = time.time()\n",
    "for epoch in range(num_epochs):\n",
    "    print(f\"\\nEpoch {epoch+1}/{num_epochs}\")\n",
    "    train_loss, train_acc = train_one_epoch(model, train_loader, optimizer, criterion)\n",
    "    val_loss, val_acc, _, _, _ = evaluate(model, val_loader, criterion)\n",
    "\n",
    "    train_losses.append(train_loss)\n",
    "    val_losses.append(val_loss)\n",
    "    train_accs.append(train_acc)\n",
    "    val_accs.append(val_acc)\n",
    "\n",
    "    print(f\"Train Loss: {train_loss:.4f}, Acc: {train_acc:.4f} | Val Loss: {val_loss:.4f}, Acc: {val_acc:.4f}\")\n",
    "\n",
    "    if val_acc > best_val_acc:\n",
    "        best_val_acc = val_acc\n",
    "        torch.save(model.state_dict(), \"best_googlenet_model.pth\")\n",
    "\n",
    "end_time = time.time()\n",
    "train_time = end_time - start_time\n",
    "print(f\"\\n✅ Total training time: {train_time:.2f} sec\")\n"
   ]
  },
  {
   "cell_type": "code",
   "execution_count": 6,
   "id": "43cdbc0b",
   "metadata": {
    "execution": {
     "iopub.execute_input": "2025-10-28T18:39:40.939204Z",
     "iopub.status.busy": "2025-10-28T18:39:40.938943Z",
     "iopub.status.idle": "2025-10-28T18:39:41.343613Z",
     "shell.execute_reply": "2025-10-28T18:39:41.342953Z"
    },
    "papermill": {
     "duration": 0.464652,
     "end_time": "2025-10-28T18:39:41.345020",
     "exception": false,
     "start_time": "2025-10-28T18:39:40.880368",
     "status": "completed"
    },
    "tags": []
   },
   "outputs": [
    {
     "data": {
      "image/png": "[encoded data removed]",
      "text/plain": [
       "<Figure size 1200x500 with 2 Axes>"
      ]
     },
     "metadata": {},
     "output_type": "display_data"
    }
   ],
   "source": [
    "# ===============================================================\n",
    "# 🔰 Step 6 — Plot Loss & Accuracy Curves\n",
    "# ===============================================================\n",
    "plt.figure(figsize=(12,5))\n",
    "plt.subplot(1,2,1)\n",
    "plt.plot(train_losses, label=\"Train Loss\")\n",
    "plt.plot(val_losses, label=\"Val Loss\")\n",
    "plt.title(\"Loss Curve\")\n",
    "plt.xlabel(\"Epoch\")\n",
    "plt.ylabel(\"Loss\")\n",
    "plt.legend()\n",
    "\n",
    "plt.subplot(1,2,2)\n",
    "plt.plot(train_accs, label=\"Train Acc\")\n",
    "plt.plot(val_accs, label=\"Val Acc\")\n",
    "plt.title(\"Accuracy Curve\")\n",
    "plt.xlabel(\"Epoch\")\n",
    "plt.ylabel(\"Accuracy\")\n",
    "plt.legend()\n",
    "plt.show()\n"
   ]
  },
  {
   "cell_type": "code",
   "execution_count": 7,
   "id": "34a51004",
   "metadata": {
    "execution": {
     "iopub.execute_input": "2025-10-28T18:39:41.464717Z",
     "iopub.status.busy": "2025-10-28T18:39:41.464463Z",
     "iopub.status.idle": "2025-10-28T18:39:48.827372Z",
     "shell.execute_reply": "2025-10-28T18:39:48.826423Z"
    },
    "papermill": {
     "duration": 7.423324,
     "end_time": "2025-10-28T18:39:48.828421",
     "exception": false,
     "start_time": "2025-10-28T18:39:41.405097",
     "status": "completed"
    },
    "tags": []
   },
   "outputs": [
    {
     "name": "stderr",
     "output_type": "stream",
     "text": [
      "                                                           "
     ]
    },
    {
     "name": "stdout",
     "output_type": "stream",
     "text": [
      "\n",
      "✅ Test Accuracy: 75.99%\n",
      "✅ Test time: 7.28 sec\n"
     ]
    },
    {
     "name": "stderr",
     "output_type": "stream",
     "text": [
      "\r"
     ]
    }
   ],
   "source": [
    "# ===============================================================\n",
    "# 🔰 Step 7 — Test Evaluation\n",
    "# ===============================================================\n",
    "model.load_state_dict(torch.load(\"best_googlenet_model.pth\"))\n",
    "test_start = time.time()\n",
    "test_loss, test_acc, all_preds, all_labels, all_probs = evaluate(model, test_loader, criterion)\n",
    "test_end = time.time()\n",
    "test_time = test_end - test_start\n",
    "print(f\"\\n✅ Test Accuracy: {test_acc*100:.2f}%\")\n",
    "print(f\"✅ Test time: {test_time:.2f} sec\")\n"
   ]
  },
  {
   "cell_type": "code",
   "execution_count": 8,
   "id": "df8e83bd",
   "metadata": {
    "execution": {
     "iopub.execute_input": "2025-10-28T18:39:48.951355Z",
     "iopub.status.busy": "2025-10-28T18:39:48.950853Z",
     "iopub.status.idle": "2025-10-28T18:39:54.708563Z",
     "shell.execute_reply": "2025-10-28T18:39:54.707790Z"
    },
    "papermill": {
     "duration": 5.820151,
     "end_time": "2025-10-28T18:39:54.709782",
     "exception": false,
     "start_time": "2025-10-28T18:39:48.889631",
     "status": "completed"
    },
    "tags": []
   },
   "outputs": [
    {
     "name": "stdout",
     "output_type": "stream",
     "text": [
      "\n",
      "Classification Report:\n",
      "                       precision    recall  f1-score   support\n",
      "\n",
      "  Genus Criconemoides     1.0000    0.7368    0.8485        38\n",
      "Genus Helicotylenchus     0.8974    0.8537    0.8750        41\n",
      "Genus Hemicycliophora     0.0000    0.0000    0.0000         1\n",
      " Genus Hirschmaniella     0.6735    0.7857    0.7253        42\n",
      "    Genus Hoplolaimus     0.6032    0.9048    0.7238        42\n",
      "    Genus Meloidogyne     0.8519    0.6571    0.7419        70\n",
      "   Genus Pratylenchus     0.6667    0.6000    0.6316        30\n",
      "     Genus Radopholus     0.8571    0.7500    0.8000         8\n",
      "    Genus Trichodorus     0.8824    0.8824    0.8824        17\n",
      "      Genus Xiphinema     0.6000    0.8000    0.6857        15\n",
      "\n",
      "             accuracy                         0.7599       304\n",
      "            macro avg     0.7032    0.6970    0.6914       304\n",
      "         weighted avg     0.7859    0.7599    0.7617       304\n",
      "\n"
     ]
    },
    {
     "name": "stderr",
     "output_type": "stream",
     "text": [
      "/usr/local/lib/python3.11/dist-packages/sklearn/metrics/_classification.py:1344: UndefinedMetricWarning: Precision and F-score are ill-defined and being set to 0.0 in labels with no predicted samples. Use `zero_division` parameter to control this behavior.\n",
      "  _warn_prf(average, modifier, msg_start, len(result))\n",
      "/usr/local/lib/python3.11/dist-packages/sklearn/metrics/_classification.py:1344: UndefinedMetricWarning: Precision and F-score are ill-defined and being set to 0.0 in labels with no predicted samples. Use `zero_division` parameter to control this behavior.\n",
      "  _warn_prf(average, modifier, msg_start, len(result))\n",
      "/usr/local/lib/python3.11/dist-packages/sklearn/metrics/_classification.py:1344: UndefinedMetricWarning: Precision and F-score are ill-defined and being set to 0.0 in labels with no predicted samples. Use `zero_division` parameter to control this behavior.\n",
      "  _warn_prf(average, modifier, msg_start, len(result))\n"
     ]
    },
    {
     "data": {
      "image/png": "[encoded data removed]",
      "text/plain": [
       "<Figure size 800x600 with 2 Axes>"
      ]
     },
     "metadata": {},
     "output_type": "display_data"
    },
    {
     "name": "stdout",
     "output_type": "stream",
     "text": [
      "\n",
      "Per-class Accuracy:\n",
      "Genus Criconemoides: 73.68%\n",
      "Genus Helicotylenchus: 85.37%\n",
      "Genus Hemicycliophora: 0.00%\n",
      "Genus Hirschmaniella: 78.57%\n",
      "Genus Hoplolaimus: 90.48%\n",
      "Genus Meloidogyne: 65.71%\n",
      "Genus Pratylenchus: 60.00%\n",
      "Genus Radopholus: 75.00%\n",
      "Genus Trichodorus: 88.24%\n",
      "Genus Xiphinema: 80.00%\n"
     ]
    }
   ],
   "source": [
    "# ===============================================================\n",
    "# 🔰 Step 8 — Classification Report & Confusion Matrix\n",
    "# ===============================================================\n",
    "model.eval()\n",
    "all_preds, all_labels = [], []\n",
    "with torch.no_grad():\n",
    "    for images, labels in test_loader:\n",
    "        images, labels = images.to(device), labels.to(device)\n",
    "        outputs = model(images)\n",
    "        _, preds = torch.max(outputs, 1)\n",
    "        all_preds.extend(preds.cpu().numpy())\n",
    "        all_labels.extend(labels.cpu().numpy())\n",
    "\n",
    "unique_labels = sorted(list(set(all_labels)))\n",
    "target_names = [dataset.classes[i] for i in unique_labels]\n",
    "\n",
    "print(\"\\nClassification Report:\")\n",
    "print(classification_report(all_labels, all_preds, labels=unique_labels, target_names=target_names, digits=4))\n",
    "\n",
    "cm = confusion_matrix(all_labels, all_preds)\n",
    "plt.figure(figsize=(8,6))\n",
    "plt.imshow(cm, cmap=\"Blues\")\n",
    "plt.title(\"Confusion Matrix\")\n",
    "plt.xlabel(\"Predicted\")\n",
    "plt.ylabel(\"Actual\")\n",
    "plt.colorbar()\n",
    "plt.show()\n",
    "\n",
    "per_class_acc = cm.diagonal() / cm.sum(axis=1)\n",
    "print(\"\\nPer-class Accuracy:\")\n",
    "for i, label_idx in enumerate(unique_labels):\n",
    "    cls_name = dataset.classes[label_idx]\n",
    "    print(f\"{cls_name}: {per_class_acc[i]*100:.2f}%\")\n"
   ]
  },
  {
   "cell_type": "code",
   "execution_count": 9,
   "id": "3a1ced5d",
   "metadata": {
    "execution": {
     "iopub.execute_input": "2025-10-28T18:39:54.843391Z",
     "iopub.status.busy": "2025-10-28T18:39:54.842725Z",
     "iopub.status.idle": "2025-10-28T18:39:55.110556Z",
     "shell.execute_reply": "2025-10-28T18:39:55.109800Z"
    },
    "papermill": {
     "duration": 0.336343,
     "end_time": "2025-10-28T18:39:55.111763",
     "exception": false,
     "start_time": "2025-10-28T18:39:54.775420",
     "status": "completed"
    },
    "tags": []
   },
   "outputs": [
    {
     "name": "stderr",
     "output_type": "stream",
     "text": [
      "/usr/local/lib/python3.11/dist-packages/sklearn/metrics/_ranking.py:1029: UndefinedMetricWarning: No positive samples in y_true, true positive value should be meaningless\n",
      "  warnings.warn(\n"
     ]
    },
    {
     "data": {
      "image/png": "[encoded data removed]",
      "text/plain": [
       "<Figure size 1000x800 with 1 Axes>"
      ]
     },
     "metadata": {},
     "output_type": "display_data"
    }
   ],
   "source": [
    "# ===============================================================\n",
    "# 🔰 Step 9 — ROC-AUC per class\n",
    "# ===============================================================\n",
    "import numpy as np\n",
    "from sklearn.metrics import roc_curve, auc\n",
    "\n",
    "# Ensure numpy arrays\n",
    "all_labels = np.array(all_labels)\n",
    "all_probs = np.array(all_probs)\n",
    "\n",
    "plt.figure(figsize=(10,8))\n",
    "for i, cls in enumerate(dataset.classes):\n",
    "    # ✅ Convert to binary (1 vs rest)\n",
    "    binary_labels = (all_labels == i).astype(int)\n",
    "    \n",
    "    # ✅ Calculate ROC curve for this class\n",
    "    fpr, tpr, _ = roc_curve(binary_labels, all_probs[:, i])\n",
    "    roc_auc = auc(fpr, tpr)\n",
    "    \n",
    "    plt.plot(fpr, tpr, label=f'{cls} (AUC = {roc_auc:.4f})')\n",
    "\n",
    "plt.plot([0,1],[0,1],'k--')\n",
    "plt.title(\"ROC Curves (One-vs-Rest)\")\n",
    "plt.xlabel(\"False Positive Rate\")\n",
    "plt.ylabel(\"True Positive Rate\")\n",
    "plt.legend()\n",
    "plt.show()\n"
   ]
  },
  {
   "cell_type": "code",
   "execution_count": 10,
   "id": "999cc623",
   "metadata": {
    "execution": {
     "iopub.execute_input": "2025-10-28T18:39:55.240156Z",
     "iopub.status.busy": "2025-10-28T18:39:55.239893Z",
     "iopub.status.idle": "2025-10-28T18:39:55.250251Z",
     "shell.execute_reply": "2025-10-28T18:39:55.249447Z"
    },
    "papermill": {
     "duration": 0.075722,
     "end_time": "2025-10-28T18:39:55.251446",
     "exception": false,
     "start_time": "2025-10-28T18:39:55.175724",
     "status": "completed"
    },
    "tags": []
   },
   "outputs": [
    {
     "name": "stdout",
     "output_type": "stream",
     "text": [
      "✅ Full Model Metrics on Test Set:\n",
      "Accuracy : 75.99%\n",
      "Precision: 78.59%\n",
      "Recall   : 75.99%\n",
      "F1-Score : 76.17%\n"
     ]
    }
   ],
   "source": [
    "# ===============================================================\n",
    "# 🔰 Step 10 — Full Metrics Evaluation\n",
    "# ===============================================================\n",
    "from sklearn.metrics import accuracy_score, precision_score, recall_score, f1_score\n",
    "\n",
    "all_labels = np.array(all_labels)\n",
    "all_preds  = np.array(all_preds)\n",
    "\n",
    "accuracy  = accuracy_score(all_labels, all_preds)\n",
    "precision = precision_score(all_labels, all_preds, average='weighted', zero_division=0)\n",
    "recall    = recall_score(all_labels, all_preds, average='weighted', zero_division=0)\n",
    "f1        = f1_score(all_labels, all_preds, average='weighted', zero_division=0)\n",
    "\n",
    "print(\"✅ Full Model Metrics on Test Set:\")\n",
    "print(f\"Accuracy : {accuracy*100:.2f}%\")\n",
    "print(f\"Precision: {precision*100:.2f}%\")\n",
    "print(f\"Recall   : {recall*100:.2f}%\")\n",
    "print(f\"F1-Score : {f1*100:.2f}%\")\n"
   ]
  }
 ],
 "metadata": {
  "kaggle": {
   "accelerator": "nvidiaTeslaT4",
   "dataSources": [
    {
     "datasetId": 8578836,
     "sourceId": 13511700,
     "sourceType": "datasetVersion"
    }
   ],
   "dockerImageVersionId": 31154,
   "isGpuEnabled": true,
   "isInternetEnabled": true,
   "language": "python",
   "sourceType": "notebook"
  },
  "kernelspec": {
   "display_name": "Python 3",
   "language": "python",
   "name": "python3"
  },
  "language_info": {
   "codemirror_mode": {
    "name": "ipython",
    "version": 3
   },
   "file_extension": ".py",
   "mimetype": "text/x-python",
   "name": "python",
   "nbconvert_exporter": "python",
   "pygments_lexer": "ipython3",
   "version": "3.11.13"
  },
  "papermill": {
   "default_parameters": {},
   "duration": 767.237286,
   "end_time": "2025-10-28T18:39:57.569361",
   "environment_variables": {},
   "exception": null,
   "input_path": "__notebook__.ipynb",
   "output_path": "__notebook__.ipynb",
   "parameters": {},
   "start_time": "2025-10-28T18:27:10.332075",
   "version": "2.6.0"
  }
 },
 "nbformat": 4,
 "nbformat_minor": 5
}
