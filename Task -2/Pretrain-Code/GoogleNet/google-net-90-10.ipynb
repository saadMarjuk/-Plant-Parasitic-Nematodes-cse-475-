{
 "cells": [
  {
   "cell_type": "code",
   "execution_count": 1,
   "id": "39c3b045",
   "metadata": {
    "_cell_guid": "b1076dfc-b9ad-4769-8c92-a6c4dae69d19",
    "_uuid": "8f2839f25d086af736a60e9eeb907d3b93b6e0e5",
    "execution": {
     "iopub.execute_input": "2025-10-28T18:42:33.676598Z",
     "iopub.status.busy": "2025-10-28T18:42:33.676307Z",
     "iopub.status.idle": "2025-10-28T18:42:44.766631Z",
     "shell.execute_reply": "2025-10-28T18:42:44.765950Z"
    },
    "papermill": {
     "duration": 11.095921,
     "end_time": "2025-10-28T18:42:44.768095",
     "exception": false,
     "start_time": "2025-10-28T18:42:33.672174",
     "status": "completed"
    },
    "tags": []
   },
   "outputs": [],
   "source": [
    "# ===============================================================\n",
    "# 🔰 Step 1 — Import Libraries\n",
    "# ===============================================================\n",
    "import numpy as np\n",
    "import pandas as pd\n",
    "import os, time\n",
    "from tqdm import tqdm\n",
    "\n",
    "import torch\n",
    "import torch.nn as nn\n",
    "import torch.optim as optim\n",
    "from torch.utils.data import DataLoader, random_split\n",
    "from torchvision import datasets, transforms, models\n",
    "\n",
    "import matplotlib.pyplot as plt\n",
    "from sklearn.metrics import classification_report, confusion_matrix, roc_curve, auc\n"
   ]
  },
  {
   "cell_type": "code",
   "execution_count": 2,
   "id": "c4a3a54d",
   "metadata": {
    "execution": {
     "iopub.execute_input": "2025-10-28T18:42:44.777634Z",
     "iopub.status.busy": "2025-10-28T18:42:44.776659Z",
     "iopub.status.idle": "2025-10-28T18:42:45.954663Z",
     "shell.execute_reply": "2025-10-28T18:42:45.953666Z"
    },
    "papermill": {
     "duration": 1.182838,
     "end_time": "2025-10-28T18:42:45.956100",
     "exception": false,
     "start_time": "2025-10-28T18:42:44.773262",
     "status": "completed"
    },
    "tags": []
   },
   "outputs": [
    {
     "name": "stdout",
     "output_type": "stream",
     "text": [
      "Using device: cuda\n",
      "Train: 915, Test: 101\n",
      "Train: 824, Validation: 91, Test: 101\n"
     ]
    }
   ],
   "source": [
    "# ===============================================================\n",
    "# 🔰 Step 2 — Device Setup & Data Preparation\n",
    "# ===============================================================\n",
    "device = torch.device(\"cuda\" if torch.cuda.is_available() else \"cpu\")\n",
    "print(\"Using device:\", device)\n",
    "\n",
    "# ✅ Dataset path (change if needed)\n",
    "DATA_DIR = \"/kaggle/input/475-project/Microscopic Image Dataset of Plant-Parasitic Nematodes\"\n",
    "\n",
    "# ✅ Image transformations\n",
    "transform = transforms.Compose([\n",
    "    transforms.Resize((224, 224)),\n",
    "    transforms.ToTensor(),\n",
    "    transforms.Normalize([0.485, 0.456, 0.406],\n",
    "                         [0.229, 0.224, 0.225])\n",
    "])\n",
    "\n",
    "# ✅ Load dataset using ImageFolder\n",
    "dataset = datasets.ImageFolder(DATA_DIR, transform=transform)\n",
    "\n",
    "# ✅ Split 90:10 (Train:Test)\n",
    "test_ratio = 0.1\n",
    "test_size = int(test_ratio * len(dataset))\n",
    "train_size = len(dataset) - test_size\n",
    "train_dataset, test_dataset = random_split(dataset, [train_size, test_size])\n",
    "print(f\"Train: {len(train_dataset)}, Test: {len(test_dataset)}\")\n",
    "\n",
    "# ✅ Split 10% of Train as Validation\n",
    "val_ratio = 0.1\n",
    "val_size = int(val_ratio * len(train_dataset))\n",
    "train_size_final = len(train_dataset) - val_size\n",
    "train_dataset, val_dataset = random_split(train_dataset, [train_size_final, val_size])\n",
    "print(f\"Train: {len(train_dataset)}, Validation: {len(val_dataset)}, Test: {len(test_dataset)}\")\n",
    "\n",
    "# ✅ Dataloader setup\n",
    "batch_size = 32\n",
    "train_loader = DataLoader(train_dataset, batch_size=batch_size, shuffle=True)\n",
    "val_loader = DataLoader(val_dataset, batch_size=batch_size, shuffle=False)\n",
    "test_loader = DataLoader(test_dataset, batch_size=batch_size, shuffle=False)\n"
   ]
  },
  {
   "cell_type": "code",
   "execution_count": 3,
   "id": "c22d30c8",
   "metadata": {
    "execution": {
     "iopub.execute_input": "2025-10-28T18:42:45.962839Z",
     "iopub.status.busy": "2025-10-28T18:42:45.962199Z",
     "iopub.status.idle": "2025-10-28T18:42:46.761699Z",
     "shell.execute_reply": "2025-10-28T18:42:46.761024Z"
    },
    "papermill": {
     "duration": 0.804213,
     "end_time": "2025-10-28T18:42:46.763155",
     "exception": false,
     "start_time": "2025-10-28T18:42:45.958942",
     "status": "completed"
    },
    "tags": []
   },
   "outputs": [
    {
     "name": "stderr",
     "output_type": "stream",
     "text": [
      "Downloading: \"https://download.pytorch.org/models/googlenet-1378be20.pth\" to /root/.cache/torch/hub/checkpoints/googlenet-1378be20.pth\n",
      "100%|██████████| 49.7M/49.7M [00:00<00:00, 170MB/s]\n"
     ]
    }
   ],
   "source": [
    "# ===============================================================\n",
    "# 🔰 Step 3 — Model: GoogLeNet (Updated for Torchvision ≥ 0.13)\n",
    "# ===============================================================\n",
    "from torchvision.models import googlenet, GoogLeNet_Weights\n",
    "\n",
    "# ✅ Use modern weights API\n",
    "weights = GoogLeNet_Weights.DEFAULT\n",
    "model = googlenet(weights=weights)  # aux_logits=True by default\n",
    "\n",
    "# ⚙️ Disable auxiliary classifier during training if not needed\n",
    "model.aux_logits = False\n",
    "\n",
    "# ✅ Replace final fully connected layer\n",
    "num_classes = len(dataset.classes)\n",
    "model.fc = nn.Linear(model.fc.in_features, num_classes)\n",
    "\n",
    "# ✅ Move model to device\n",
    "model = model.to(device)\n",
    "\n",
    "# ✅ Loss & Optimizer\n",
    "criterion = nn.CrossEntropyLoss()\n",
    "optimizer = optim.Adam(model.parameters(), lr=1e-4)\n"
   ]
  },
  {
   "cell_type": "code",
   "execution_count": 4,
   "id": "14fe20c5",
   "metadata": {
    "execution": {
     "iopub.execute_input": "2025-10-28T18:42:46.770914Z",
     "iopub.status.busy": "2025-10-28T18:42:46.769994Z",
     "iopub.status.idle": "2025-10-28T18:42:46.942339Z",
     "shell.execute_reply": "2025-10-28T18:42:46.941687Z"
    },
    "papermill": {
     "duration": 0.17709,
     "end_time": "2025-10-28T18:42:46.943685",
     "exception": false,
     "start_time": "2025-10-28T18:42:46.766595",
     "status": "completed"
    },
    "tags": []
   },
   "outputs": [],
   "source": [
    "# ===============================================================\n",
    "# 🔰 Step 4 — Train & Evaluate Functions\n",
    "# ===============================================================\n",
    "def train_one_epoch(model, loader, optimizer, criterion):\n",
    "    model.train()\n",
    "    running_loss, correct, total = 0.0, 0, 0\n",
    "    for images, labels in tqdm(loader, desc=\"Training\", leave=False):\n",
    "        images, labels = images.to(device), labels.to(device)\n",
    "        optimizer.zero_grad()\n",
    "        outputs = model(images)\n",
    "        loss = criterion(outputs, labels)\n",
    "        loss.backward()\n",
    "        optimizer.step()\n",
    "\n",
    "        running_loss += loss.item() * images.size(0)\n",
    "        _, preds = torch.max(outputs, 1)\n",
    "        correct += (preds == labels).sum().item()\n",
    "        total += labels.size(0)\n",
    "    return running_loss / total, correct / total\n",
    "\n",
    "\n",
    "def evaluate(model, loader, criterion):\n",
    "    model.eval()\n",
    "    running_loss, correct, total = 0.0, 0, 0\n",
    "    all_preds, all_labels, all_probs = [], [], []\n",
    "    with torch.no_grad():\n",
    "        for images, labels in tqdm(loader, desc=\"Evaluating\", leave=False):\n",
    "            images, labels = images.to(device), labels.to(device)\n",
    "            outputs = model(images)\n",
    "            loss = criterion(outputs, labels)\n",
    "\n",
    "            running_loss += loss.item() * images.size(0)\n",
    "            _, preds = torch.max(outputs, 1)\n",
    "            probs = torch.softmax(outputs, dim=1)\n",
    "\n",
    "            correct += (preds == labels).sum().item()\n",
    "            total += labels.size(0)\n",
    "\n",
    "            all_preds.extend(preds.cpu().numpy())\n",
    "            all_labels.extend(labels.cpu().numpy())\n",
    "            all_probs.extend(probs.cpu().numpy())\n",
    "    return running_loss / total, correct / total, np.array(all_preds), np.array(all_labels), np.array(all_probs)\n"
   ]
  },
  {
   "cell_type": "code",
   "execution_count": 5,
   "id": "d2f54dd1",
   "metadata": {
    "execution": {
     "iopub.execute_input": "2025-10-28T18:42:46.950276Z",
     "iopub.status.busy": "2025-10-28T18:42:46.949981Z",
     "iopub.status.idle": "2025-10-28T18:59:07.384453Z",
     "shell.execute_reply": "2025-10-28T18:59:07.383527Z"
    },
    "papermill": {
     "duration": 980.439106,
     "end_time": "2025-10-28T18:59:07.385690",
     "exception": false,
     "start_time": "2025-10-28T18:42:46.946584",
     "status": "completed"
    },
    "tags": []
   },
   "outputs": [
    {
     "name": "stdout",
     "output_type": "stream",
     "text": [
      "\n",
      "Epoch 1/50\n"
     ]
    },
    {
     "name": "stderr",
     "output_type": "stream",
     "text": [
      "                                                         \r"
     ]
    },
    {
     "name": "stdout",
     "output_type": "stream",
     "text": [
      "Train Loss: 2.0730, Acc: 0.3228 | Val Loss: 1.7784, Acc: 0.4176\n",
      "\n",
      "Epoch 2/50\n"
     ]
    },
    {
     "name": "stderr",
     "output_type": "stream",
     "text": [
      "                                                         \r"
     ]
    },
    {
     "name": "stdout",
     "output_type": "stream",
     "text": [
      "Train Loss: 1.4307, Acc: 0.6723 | Val Loss: 1.3963, Acc: 0.5275\n",
      "\n",
      "Epoch 3/50\n"
     ]
    },
    {
     "name": "stderr",
     "output_type": "stream",
     "text": [
      "                                                         \r"
     ]
    },
    {
     "name": "stdout",
     "output_type": "stream",
     "text": [
      "Train Loss: 0.9803, Acc: 0.8240 | Val Loss: 1.0909, Acc: 0.6484\n",
      "\n",
      "Epoch 4/50\n"
     ]
    },
    {
     "name": "stderr",
     "output_type": "stream",
     "text": [
      "                                                         \r"
     ]
    },
    {
     "name": "stdout",
     "output_type": "stream",
     "text": [
      "Train Loss: 0.6411, Acc: 0.9029 | Val Loss: 0.8565, Acc: 0.7473\n",
      "\n",
      "Epoch 5/50\n"
     ]
    },
    {
     "name": "stderr",
     "output_type": "stream",
     "text": [
      "                                                         \r"
     ]
    },
    {
     "name": "stdout",
     "output_type": "stream",
     "text": [
      "Train Loss: 0.3791, Acc: 0.9612 | Val Loss: 0.7286, Acc: 0.7473\n",
      "\n",
      "Epoch 6/50\n"
     ]
    },
    {
     "name": "stderr",
     "output_type": "stream",
     "text": [
      "                                                         \r"
     ]
    },
    {
     "name": "stdout",
     "output_type": "stream",
     "text": [
      "Train Loss: 0.2270, Acc: 0.9806 | Val Loss: 0.6033, Acc: 0.7802\n",
      "\n",
      "Epoch 7/50\n"
     ]
    },
    {
     "name": "stderr",
     "output_type": "stream",
     "text": [
      "                                                         \r"
     ]
    },
    {
     "name": "stdout",
     "output_type": "stream",
     "text": [
      "Train Loss: 0.1641, Acc: 0.9842 | Val Loss: 0.5820, Acc: 0.7912\n",
      "\n",
      "Epoch 8/50\n"
     ]
    },
    {
     "name": "stderr",
     "output_type": "stream",
     "text": [
      "                                                         \r"
     ]
    },
    {
     "name": "stdout",
     "output_type": "stream",
     "text": [
      "Train Loss: 0.1112, Acc: 0.9903 | Val Loss: 0.5571, Acc: 0.7692\n",
      "\n",
      "Epoch 9/50\n"
     ]
    },
    {
     "name": "stderr",
     "output_type": "stream",
     "text": [
      "                                                         \r"
     ]
    },
    {
     "name": "stdout",
     "output_type": "stream",
     "text": [
      "Train Loss: 0.0810, Acc: 0.9903 | Val Loss: 0.5342, Acc: 0.7802\n",
      "\n",
      "Epoch 10/50\n"
     ]
    },
    {
     "name": "stderr",
     "output_type": "stream",
     "text": [
      "                                                         \r"
     ]
    },
    {
     "name": "stdout",
     "output_type": "stream",
     "text": [
      "Train Loss: 0.0677, Acc: 0.9903 | Val Loss: 0.5199, Acc: 0.8132\n",
      "\n",
      "Epoch 11/50\n"
     ]
    },
    {
     "name": "stderr",
     "output_type": "stream",
     "text": [
      "                                                         \r"
     ]
    },
    {
     "name": "stdout",
     "output_type": "stream",
     "text": [
      "Train Loss: 0.0534, Acc: 0.9964 | Val Loss: 0.5153, Acc: 0.8132\n",
      "\n",
      "Epoch 12/50\n"
     ]
    },
    {
     "name": "stderr",
     "output_type": "stream",
     "text": [
      "                                                         \r"
     ]
    },
    {
     "name": "stdout",
     "output_type": "stream",
     "text": [
      "Train Loss: 0.0452, Acc: 0.9951 | Val Loss: 0.5024, Acc: 0.8132\n",
      "\n",
      "Epoch 13/50\n"
     ]
    },
    {
     "name": "stderr",
     "output_type": "stream",
     "text": [
      "                                                         \r"
     ]
    },
    {
     "name": "stdout",
     "output_type": "stream",
     "text": [
      "Train Loss: 0.0398, Acc: 0.9976 | Val Loss: 0.5102, Acc: 0.7912\n",
      "\n",
      "Epoch 14/50\n"
     ]
    },
    {
     "name": "stderr",
     "output_type": "stream",
     "text": [
      "                                                         \r"
     ]
    },
    {
     "name": "stdout",
     "output_type": "stream",
     "text": [
      "Train Loss: 0.0391, Acc: 0.9976 | Val Loss: 0.5219, Acc: 0.8022\n",
      "\n",
      "Epoch 15/50\n"
     ]
    },
    {
     "name": "stderr",
     "output_type": "stream",
     "text": [
      "                                                         \r"
     ]
    },
    {
     "name": "stdout",
     "output_type": "stream",
     "text": [
      "Train Loss: 0.0350, Acc: 0.9976 | Val Loss: 0.4872, Acc: 0.8022\n",
      "\n",
      "Epoch 16/50\n"
     ]
    },
    {
     "name": "stderr",
     "output_type": "stream",
     "text": [
      "                                                         \r"
     ]
    },
    {
     "name": "stdout",
     "output_type": "stream",
     "text": [
      "Train Loss: 0.0248, Acc: 0.9988 | Val Loss: 0.4928, Acc: 0.8242\n",
      "\n",
      "Epoch 17/50\n"
     ]
    },
    {
     "name": "stderr",
     "output_type": "stream",
     "text": [
      "                                                         \r"
     ]
    },
    {
     "name": "stdout",
     "output_type": "stream",
     "text": [
      "Train Loss: 0.0221, Acc: 1.0000 | Val Loss: 0.4926, Acc: 0.7912\n",
      "\n",
      "Epoch 18/50\n"
     ]
    },
    {
     "name": "stderr",
     "output_type": "stream",
     "text": [
      "                                                         \r"
     ]
    },
    {
     "name": "stdout",
     "output_type": "stream",
     "text": [
      "Train Loss: 0.0184, Acc: 1.0000 | Val Loss: 0.5082, Acc: 0.7692\n",
      "\n",
      "Epoch 19/50\n"
     ]
    },
    {
     "name": "stderr",
     "output_type": "stream",
     "text": [
      "                                                         \r"
     ]
    },
    {
     "name": "stdout",
     "output_type": "stream",
     "text": [
      "Train Loss: 0.0161, Acc: 1.0000 | Val Loss: 0.4879, Acc: 0.7802\n",
      "\n",
      "Epoch 20/50\n"
     ]
    },
    {
     "name": "stderr",
     "output_type": "stream",
     "text": [
      "                                                         \r"
     ]
    },
    {
     "name": "stdout",
     "output_type": "stream",
     "text": [
      "Train Loss: 0.0125, Acc: 1.0000 | Val Loss: 0.4682, Acc: 0.7912\n",
      "\n",
      "Epoch 21/50\n"
     ]
    },
    {
     "name": "stderr",
     "output_type": "stream",
     "text": [
      "                                                         \r"
     ]
    },
    {
     "name": "stdout",
     "output_type": "stream",
     "text": [
      "Train Loss: 0.0107, Acc: 1.0000 | Val Loss: 0.4712, Acc: 0.8022\n",
      "\n",
      "Epoch 22/50\n"
     ]
    },
    {
     "name": "stderr",
     "output_type": "stream",
     "text": [
      "                                                         \r"
     ]
    },
    {
     "name": "stdout",
     "output_type": "stream",
     "text": [
      "Train Loss: 0.0112, Acc: 1.0000 | Val Loss: 0.5079, Acc: 0.8022\n",
      "\n",
      "Epoch 23/50\n"
     ]
    },
    {
     "name": "stderr",
     "output_type": "stream",
     "text": [
      "                                                         \r"
     ]
    },
    {
     "name": "stdout",
     "output_type": "stream",
     "text": [
      "Train Loss: 0.0108, Acc: 1.0000 | Val Loss: 0.4921, Acc: 0.8132\n",
      "\n",
      "Epoch 24/50\n"
     ]
    },
    {
     "name": "stderr",
     "output_type": "stream",
     "text": [
      "                                                         \r"
     ]
    },
    {
     "name": "stdout",
     "output_type": "stream",
     "text": [
      "Train Loss: 0.0100, Acc: 1.0000 | Val Loss: 0.4684, Acc: 0.8132\n",
      "\n",
      "Epoch 25/50\n"
     ]
    },
    {
     "name": "stderr",
     "output_type": "stream",
     "text": [
      "                                                         \r"
     ]
    },
    {
     "name": "stdout",
     "output_type": "stream",
     "text": [
      "Train Loss: 0.0109, Acc: 1.0000 | Val Loss: 0.4667, Acc: 0.8132\n",
      "\n",
      "Epoch 26/50\n"
     ]
    },
    {
     "name": "stderr",
     "output_type": "stream",
     "text": [
      "                                                         \r"
     ]
    },
    {
     "name": "stdout",
     "output_type": "stream",
     "text": [
      "Train Loss: 0.0069, Acc: 1.0000 | Val Loss: 0.4994, Acc: 0.8022\n",
      "\n",
      "Epoch 27/50\n"
     ]
    },
    {
     "name": "stderr",
     "output_type": "stream",
     "text": [
      "                                                         \r"
     ]
    },
    {
     "name": "stdout",
     "output_type": "stream",
     "text": [
      "Train Loss: 0.0058, Acc: 1.0000 | Val Loss: 0.5061, Acc: 0.8022\n",
      "\n",
      "Epoch 28/50\n"
     ]
    },
    {
     "name": "stderr",
     "output_type": "stream",
     "text": [
      "                                                         \r"
     ]
    },
    {
     "name": "stdout",
     "output_type": "stream",
     "text": [
      "Train Loss: 0.0065, Acc: 1.0000 | Val Loss: 0.4725, Acc: 0.8242\n",
      "\n",
      "Epoch 29/50\n"
     ]
    },
    {
     "name": "stderr",
     "output_type": "stream",
     "text": [
      "                                                         \r"
     ]
    },
    {
     "name": "stdout",
     "output_type": "stream",
     "text": [
      "Train Loss: 0.0063, Acc: 1.0000 | Val Loss: 0.4760, Acc: 0.8571\n",
      "\n",
      "Epoch 30/50\n"
     ]
    },
    {
     "name": "stderr",
     "output_type": "stream",
     "text": [
      "                                                         \r"
     ]
    },
    {
     "name": "stdout",
     "output_type": "stream",
     "text": [
      "Train Loss: 0.0060, Acc: 1.0000 | Val Loss: 0.4790, Acc: 0.8242\n",
      "\n",
      "Epoch 31/50\n"
     ]
    },
    {
     "name": "stderr",
     "output_type": "stream",
     "text": [
      "                                                         \r"
     ]
    },
    {
     "name": "stdout",
     "output_type": "stream",
     "text": [
      "Train Loss: 0.0068, Acc: 1.0000 | Val Loss: 0.4706, Acc: 0.8352\n",
      "\n",
      "Epoch 32/50\n"
     ]
    },
    {
     "name": "stderr",
     "output_type": "stream",
     "text": [
      "                                                         \r"
     ]
    },
    {
     "name": "stdout",
     "output_type": "stream",
     "text": [
      "Train Loss: 0.0067, Acc: 1.0000 | Val Loss: 0.4844, Acc: 0.7912\n",
      "\n",
      "Epoch 33/50\n"
     ]
    },
    {
     "name": "stderr",
     "output_type": "stream",
     "text": [
      "                                                         \r"
     ]
    },
    {
     "name": "stdout",
     "output_type": "stream",
     "text": [
      "Train Loss: 0.0058, Acc: 1.0000 | Val Loss: 0.4539, Acc: 0.8571\n",
      "\n",
      "Epoch 34/50\n"
     ]
    },
    {
     "name": "stderr",
     "output_type": "stream",
     "text": [
      "                                                         \r"
     ]
    },
    {
     "name": "stdout",
     "output_type": "stream",
     "text": [
      "Train Loss: 0.0053, Acc: 1.0000 | Val Loss: 0.4417, Acc: 0.8462\n",
      "\n",
      "Epoch 35/50\n"
     ]
    },
    {
     "name": "stderr",
     "output_type": "stream",
     "text": [
      "                                                         \r"
     ]
    },
    {
     "name": "stdout",
     "output_type": "stream",
     "text": [
      "Train Loss: 0.0057, Acc: 1.0000 | Val Loss: 0.4614, Acc: 0.8352\n",
      "\n",
      "Epoch 36/50\n"
     ]
    },
    {
     "name": "stderr",
     "output_type": "stream",
     "text": [
      "                                                         \r"
     ]
    },
    {
     "name": "stdout",
     "output_type": "stream",
     "text": [
      "Train Loss: 0.0045, Acc: 1.0000 | Val Loss: 0.4567, Acc: 0.8352\n",
      "\n",
      "Epoch 37/50\n"
     ]
    },
    {
     "name": "stderr",
     "output_type": "stream",
     "text": [
      "                                                         \r"
     ]
    },
    {
     "name": "stdout",
     "output_type": "stream",
     "text": [
      "Train Loss: 0.0054, Acc: 1.0000 | Val Loss: 0.4554, Acc: 0.8352\n",
      "\n",
      "Epoch 38/50\n"
     ]
    },
    {
     "name": "stderr",
     "output_type": "stream",
     "text": [
      "                                                         \r"
     ]
    },
    {
     "name": "stdout",
     "output_type": "stream",
     "text": [
      "Train Loss: 0.0041, Acc: 1.0000 | Val Loss: 0.4763, Acc: 0.8242\n",
      "\n",
      "Epoch 39/50\n"
     ]
    },
    {
     "name": "stderr",
     "output_type": "stream",
     "text": [
      "                                                         \r"
     ]
    },
    {
     "name": "stdout",
     "output_type": "stream",
     "text": [
      "Train Loss: 0.0065, Acc: 1.0000 | Val Loss: 0.4699, Acc: 0.8352\n",
      "\n",
      "Epoch 40/50\n"
     ]
    },
    {
     "name": "stderr",
     "output_type": "stream",
     "text": [
      "                                                         \r"
     ]
    },
    {
     "name": "stdout",
     "output_type": "stream",
     "text": [
      "Train Loss: 0.0041, Acc: 1.0000 | Val Loss: 0.4600, Acc: 0.8132\n",
      "\n",
      "Epoch 41/50\n"
     ]
    },
    {
     "name": "stderr",
     "output_type": "stream",
     "text": [
      "                                                         \r"
     ]
    },
    {
     "name": "stdout",
     "output_type": "stream",
     "text": [
      "Train Loss: 0.0043, Acc: 1.0000 | Val Loss: 0.4459, Acc: 0.8242\n",
      "\n",
      "Epoch 42/50\n"
     ]
    },
    {
     "name": "stderr",
     "output_type": "stream",
     "text": [
      "                                                         \r"
     ]
    },
    {
     "name": "stdout",
     "output_type": "stream",
     "text": [
      "Train Loss: 0.0041, Acc: 1.0000 | Val Loss: 0.4169, Acc: 0.8571\n",
      "\n",
      "Epoch 43/50\n"
     ]
    },
    {
     "name": "stderr",
     "output_type": "stream",
     "text": [
      "                                                         \r"
     ]
    },
    {
     "name": "stdout",
     "output_type": "stream",
     "text": [
      "Train Loss: 0.0032, Acc: 1.0000 | Val Loss: 0.4258, Acc: 0.8571\n",
      "\n",
      "Epoch 44/50\n"
     ]
    },
    {
     "name": "stderr",
     "output_type": "stream",
     "text": [
      "                                                         \r"
     ]
    },
    {
     "name": "stdout",
     "output_type": "stream",
     "text": [
      "Train Loss: 0.0034, Acc: 1.0000 | Val Loss: 0.4517, Acc: 0.8352\n",
      "\n",
      "Epoch 45/50\n"
     ]
    },
    {
     "name": "stderr",
     "output_type": "stream",
     "text": [
      "                                                         \r"
     ]
    },
    {
     "name": "stdout",
     "output_type": "stream",
     "text": [
      "Train Loss: 0.0029, Acc: 1.0000 | Val Loss: 0.4138, Acc: 0.8462\n",
      "\n",
      "Epoch 46/50\n"
     ]
    },
    {
     "name": "stderr",
     "output_type": "stream",
     "text": [
      "                                                         \r"
     ]
    },
    {
     "name": "stdout",
     "output_type": "stream",
     "text": [
      "Train Loss: 0.0027, Acc: 1.0000 | Val Loss: 0.4342, Acc: 0.8352\n",
      "\n",
      "Epoch 47/50\n"
     ]
    },
    {
     "name": "stderr",
     "output_type": "stream",
     "text": [
      "                                                         \r"
     ]
    },
    {
     "name": "stdout",
     "output_type": "stream",
     "text": [
      "Train Loss: 0.0028, Acc: 1.0000 | Val Loss: 0.4223, Acc: 0.8352\n",
      "\n",
      "Epoch 48/50\n"
     ]
    },
    {
     "name": "stderr",
     "output_type": "stream",
     "text": [
      "                                                         \r"
     ]
    },
    {
     "name": "stdout",
     "output_type": "stream",
     "text": [
      "Train Loss: 0.0029, Acc: 1.0000 | Val Loss: 0.4465, Acc: 0.8462\n",
      "\n",
      "Epoch 49/50\n"
     ]
    },
    {
     "name": "stderr",
     "output_type": "stream",
     "text": [
      "                                                         \r"
     ]
    },
    {
     "name": "stdout",
     "output_type": "stream",
     "text": [
      "Train Loss: 0.0024, Acc: 1.0000 | Val Loss: 0.4230, Acc: 0.8571\n",
      "\n",
      "Epoch 50/50\n"
     ]
    },
    {
     "name": "stderr",
     "output_type": "stream",
     "text": [
      "                                                         "
     ]
    },
    {
     "name": "stdout",
     "output_type": "stream",
     "text": [
      "Train Loss: 0.0027, Acc: 1.0000 | Val Loss: 0.4348, Acc: 0.8571\n",
      "\n",
      "✅ Total training time: 980.43 sec\n"
     ]
    },
    {
     "name": "stderr",
     "output_type": "stream",
     "text": [
      "\r"
     ]
    }
   ],
   "source": [
    "# ===============================================================\n",
    "# 🔰 Step 5 — Training Loop\n",
    "# ===============================================================\n",
    "num_epochs = 50\n",
    "train_losses, val_losses = [], []\n",
    "train_accs, val_accs = [], []\n",
    "\n",
    "best_val_acc = 0.0\n",
    "start_time = time.time()\n",
    "for epoch in range(num_epochs):\n",
    "    print(f\"\\nEpoch {epoch+1}/{num_epochs}\")\n",
    "    train_loss, train_acc = train_one_epoch(model, train_loader, optimizer, criterion)\n",
    "    val_loss, val_acc, _, _, _ = evaluate(model, val_loader, criterion)\n",
    "\n",
    "    train_losses.append(train_loss)\n",
    "    val_losses.append(val_loss)\n",
    "    train_accs.append(train_acc)\n",
    "    val_accs.append(val_acc)\n",
    "\n",
    "    print(f\"Train Loss: {train_loss:.4f}, Acc: {train_acc:.4f} | Val Loss: {val_loss:.4f}, Acc: {val_acc:.4f}\")\n",
    "\n",
    "    if val_acc > best_val_acc:\n",
    "        best_val_acc = val_acc\n",
    "        torch.save(model.state_dict(), \"best_googlenet_model.pth\")\n",
    "\n",
    "end_time = time.time()\n",
    "train_time = end_time - start_time\n",
    "print(f\"\\n✅ Total training time: {train_time:.2f} sec\")\n"
   ]
  },
  {
   "cell_type": "code",
   "execution_count": 6,
   "id": "76107832",
   "metadata": {
    "execution": {
     "iopub.execute_input": "2025-10-28T18:59:07.543401Z",
     "iopub.status.busy": "2025-10-28T18:59:07.543071Z",
     "iopub.status.idle": "2025-10-28T18:59:07.946940Z",
     "shell.execute_reply": "2025-10-28T18:59:07.946157Z"
    },
    "papermill": {
     "duration": 0.483387,
     "end_time": "2025-10-28T18:59:07.948554",
     "exception": false,
     "start_time": "2025-10-28T18:59:07.465167",
     "status": "completed"
    },
    "tags": []
   },
   "outputs": [
    {
     "data": {
      "image/png": "[encoded data removed]",
      "text/plain": [
       "<Figure size 1200x500 with 2 Axes>"
      ]
     },
     "metadata": {},
     "output_type": "display_data"
    }
   ],
   "source": [
    "# ===============================================================\n",
    "# 🔰 Step 6 — Plot Loss & Accuracy Curves\n",
    "# ===============================================================\n",
    "plt.figure(figsize=(12,5))\n",
    "plt.subplot(1,2,1)\n",
    "plt.plot(train_losses, label=\"Train Loss\")\n",
    "plt.plot(val_losses, label=\"Val Loss\")\n",
    "plt.title(\"Loss Curve\")\n",
    "plt.xlabel(\"Epoch\")\n",
    "plt.ylabel(\"Loss\")\n",
    "plt.legend()\n",
    "\n",
    "plt.subplot(1,2,2)\n",
    "plt.plot(train_accs, label=\"Train Acc\")\n",
    "plt.plot(val_accs, label=\"Val Acc\")\n",
    "plt.title(\"Accuracy Curve\")\n",
    "plt.xlabel(\"Epoch\")\n",
    "plt.ylabel(\"Accuracy\")\n",
    "plt.legend()\n",
    "plt.show()\n"
   ]
  },
  {
   "cell_type": "code",
   "execution_count": 7,
   "id": "77d096e6",
   "metadata": {
    "execution": {
     "iopub.execute_input": "2025-10-28T18:59:08.099193Z",
     "iopub.status.busy": "2025-10-28T18:59:08.098482Z",
     "iopub.status.idle": "2025-10-28T18:59:11.688726Z",
     "shell.execute_reply": "2025-10-28T18:59:11.687828Z"
    },
    "papermill": {
     "duration": 3.666834,
     "end_time": "2025-10-28T18:59:11.689793",
     "exception": false,
     "start_time": "2025-10-28T18:59:08.022959",
     "status": "completed"
    },
    "tags": []
   },
   "outputs": [
    {
     "name": "stderr",
     "output_type": "stream",
     "text": [
      "                                                         "
     ]
    },
    {
     "name": "stdout",
     "output_type": "stream",
     "text": [
      "\n",
      "✅ Test Accuracy: 86.14%\n",
      "✅ Test time: 3.50 sec\n"
     ]
    },
    {
     "name": "stderr",
     "output_type": "stream",
     "text": [
      "\r"
     ]
    }
   ],
   "source": [
    "# ===============================================================\n",
    "# 🔰 Step 7 — Test Evaluation\n",
    "# ===============================================================\n",
    "model.load_state_dict(torch.load(\"best_googlenet_model.pth\"))\n",
    "test_start = time.time()\n",
    "test_loss, test_acc, all_preds, all_labels, all_probs = evaluate(model, test_loader, criterion)\n",
    "test_end = time.time()\n",
    "test_time = test_end - test_start\n",
    "print(f\"\\n✅ Test Accuracy: {test_acc*100:.2f}%\")\n",
    "print(f\"✅ Test time: {test_time:.2f} sec\")\n"
   ]
  },
  {
   "cell_type": "code",
   "execution_count": 8,
   "id": "b9952c8a",
   "metadata": {
    "execution": {
     "iopub.execute_input": "2025-10-28T18:59:11.843013Z",
     "iopub.status.busy": "2025-10-28T18:59:11.842268Z",
     "iopub.status.idle": "2025-10-28T18:59:14.083157Z",
     "shell.execute_reply": "2025-10-28T18:59:14.082334Z"
    },
    "papermill": {
     "duration": 2.320323,
     "end_time": "2025-10-28T18:59:14.084260",
     "exception": false,
     "start_time": "2025-10-28T18:59:11.763937",
     "status": "completed"
    },
    "tags": []
   },
   "outputs": [
    {
     "name": "stdout",
     "output_type": "stream",
     "text": [
      "\n",
      "Classification Report:\n",
      "                       precision    recall  f1-score   support\n",
      "\n",
      "      Genus Criconema     0.0000    0.0000    0.0000         1\n",
      "  Genus Criconemoides     0.8571    1.0000    0.9231        12\n",
      "Genus Helicotylenchus     0.9333    1.0000    0.9655        14\n",
      "Genus Hemicycliophora     0.0000    0.0000    0.0000         1\n",
      " Genus Hirschmaniella     0.9231    0.8000    0.8571        15\n",
      "    Genus Hoplolaimus     0.9231    0.9231    0.9231        13\n",
      "    Genus Meloidogyne     0.8500    0.8947    0.8718        19\n",
      "   Genus Pratylenchus     0.6429    0.8182    0.7200        11\n",
      "     Genus Radopholus     1.0000    0.5000    0.6667         2\n",
      "    Genus Trichodorus     1.0000    0.8000    0.8889         5\n",
      "      Genus Xiphinema     0.8571    0.7500    0.8000         8\n",
      "\n",
      "             accuracy                         0.8614       101\n",
      "            macro avg     0.7261    0.6805    0.6924       101\n",
      "         weighted avg     0.8542    0.8614    0.8526       101\n",
      "\n"
     ]
    },
    {
     "name": "stderr",
     "output_type": "stream",
     "text": [
      "/usr/local/lib/python3.11/dist-packages/sklearn/metrics/_classification.py:1344: UndefinedMetricWarning: Precision and F-score are ill-defined and being set to 0.0 in labels with no predicted samples. Use `zero_division` parameter to control this behavior.\n",
      "  _warn_prf(average, modifier, msg_start, len(result))\n",
      "/usr/local/lib/python3.11/dist-packages/sklearn/metrics/_classification.py:1344: UndefinedMetricWarning: Precision and F-score are ill-defined and being set to 0.0 in labels with no predicted samples. Use `zero_division` parameter to control this behavior.\n",
      "  _warn_prf(average, modifier, msg_start, len(result))\n",
      "/usr/local/lib/python3.11/dist-packages/sklearn/metrics/_classification.py:1344: UndefinedMetricWarning: Precision and F-score are ill-defined and being set to 0.0 in labels with no predicted samples. Use `zero_division` parameter to control this behavior.\n",
      "  _warn_prf(average, modifier, msg_start, len(result))\n"
     ]
    },
    {
     "data": {
      "image/png": "[encoded data removed]",
      "text/plain": [
       "<Figure size 800x600 with 2 Axes>"
      ]
     },
     "metadata": {},
     "output_type": "display_data"
    },
    {
     "name": "stdout",
     "output_type": "stream",
     "text": [
      "\n",
      "Per-class Accuracy:\n",
      "Genus Criconema: 0.00%\n",
      "Genus Criconemoides: 100.00%\n",
      "Genus Helicotylenchus: 100.00%\n",
      "Genus Hemicycliophora: 0.00%\n",
      "Genus Hirschmaniella: 80.00%\n",
      "Genus Hoplolaimus: 92.31%\n",
      "Genus Meloidogyne: 89.47%\n",
      "Genus Pratylenchus: 81.82%\n",
      "Genus Radopholus: 50.00%\n",
      "Genus Trichodorus: 80.00%\n",
      "Genus Xiphinema: 75.00%\n"
     ]
    }
   ],
   "source": [
    "# ===============================================================\n",
    "# 🔰 Step 8 — Classification Report & Confusion Matrix\n",
    "# ===============================================================\n",
    "model.eval()\n",
    "all_preds, all_labels = [], []\n",
    "with torch.no_grad():\n",
    "    for images, labels in test_loader:\n",
    "        images, labels = images.to(device), labels.to(device)\n",
    "        outputs = model(images)\n",
    "        _, preds = torch.max(outputs, 1)\n",
    "        all_preds.extend(preds.cpu().numpy())\n",
    "        all_labels.extend(labels.cpu().numpy())\n",
    "\n",
    "unique_labels = sorted(list(set(all_labels)))\n",
    "target_names = [dataset.classes[i] for i in unique_labels]\n",
    "\n",
    "print(\"\\nClassification Report:\")\n",
    "print(classification_report(all_labels, all_preds, labels=unique_labels, target_names=target_names, digits=4))\n",
    "\n",
    "cm = confusion_matrix(all_labels, all_preds)\n",
    "plt.figure(figsize=(8,6))\n",
    "plt.imshow(cm, cmap=\"Blues\")\n",
    "plt.title(\"Confusion Matrix\")\n",
    "plt.xlabel(\"Predicted\")\n",
    "plt.ylabel(\"Actual\")\n",
    "plt.colorbar()\n",
    "plt.show()\n",
    "\n",
    "per_class_acc = cm.diagonal() / cm.sum(axis=1)\n",
    "print(\"\\nPer-class Accuracy:\")\n",
    "for i, label_idx in enumerate(unique_labels):\n",
    "    cls_name = dataset.classes[label_idx]\n",
    "    print(f\"{cls_name}: {per_class_acc[i]*100:.2f}%\")\n"
   ]
  },
  {
   "cell_type": "code",
   "execution_count": 9,
   "id": "9c0d8354",
   "metadata": {
    "execution": {
     "iopub.execute_input": "2025-10-28T18:59:14.232658Z",
     "iopub.status.busy": "2025-10-28T18:59:14.232018Z",
     "iopub.status.idle": "2025-10-28T18:59:14.530612Z",
     "shell.execute_reply": "2025-10-28T18:59:14.529669Z"
    },
    "papermill": {
     "duration": 0.374644,
     "end_time": "2025-10-28T18:59:14.532998",
     "exception": false,
     "start_time": "2025-10-28T18:59:14.158354",
     "status": "completed"
    },
    "tags": []
   },
   "outputs": [
    {
     "data": {
      "image/png": "[encoded data removed]",
      "text/plain": [
       "<Figure size 1000x800 with 1 Axes>"
      ]
     },
     "metadata": {},
     "output_type": "display_data"
    }
   ],
   "source": [
    "# ===============================================================\n",
    "# 🔰 Step — ROC-AUC per class (Fixed)\n",
    "# ===============================================================\n",
    "import numpy as np\n",
    "from sklearn.metrics import roc_curve, auc\n",
    "\n",
    "# Ensure numpy arrays\n",
    "all_labels = np.array(all_labels)\n",
    "all_probs = np.array(all_probs)\n",
    "\n",
    "plt.figure(figsize=(10,8))\n",
    "for i, cls in enumerate(dataset.classes):\n",
    "    # ✅ Convert to binary (1 vs rest)\n",
    "    binary_labels = (all_labels == i).astype(int)\n",
    "    \n",
    "    # ✅ Calculate ROC curve for this class\n",
    "    fpr, tpr, _ = roc_curve(binary_labels, all_probs[:, i])\n",
    "    roc_auc = auc(fpr, tpr)\n",
    "    \n",
    "    plt.plot(fpr, tpr, label=f'{cls} (AUC = {roc_auc:.4f})')\n",
    "\n",
    "plt.plot([0,1],[0,1],'k--')\n",
    "plt.title(\"ROC Curves (One-vs-Rest)\")\n",
    "plt.xlabel(\"False Positive Rate\")\n",
    "plt.ylabel(\"True Positive Rate\")\n",
    "plt.legend()\n",
    "plt.show()\n"
   ]
  },
  {
   "cell_type": "code",
   "execution_count": 10,
   "id": "6cb4c678",
   "metadata": {
    "execution": {
     "iopub.execute_input": "2025-10-28T18:59:14.697725Z",
     "iopub.status.busy": "2025-10-28T18:59:14.696900Z",
     "iopub.status.idle": "2025-10-28T18:59:14.709354Z",
     "shell.execute_reply": "2025-10-28T18:59:14.708324Z"
    },
    "papermill": {
     "duration": 0.095861,
     "end_time": "2025-10-28T18:59:14.710829",
     "exception": false,
     "start_time": "2025-10-28T18:59:14.614968",
     "status": "completed"
    },
    "tags": []
   },
   "outputs": [
    {
     "name": "stdout",
     "output_type": "stream",
     "text": [
      "✅ Full Model Metrics on Test Set:\n",
      "Accuracy : 86.14%\n",
      "Precision: 85.42%\n",
      "Recall   : 86.14%\n",
      "F1-Score : 85.26%\n"
     ]
    }
   ],
   "source": [
    "# ===============================================================\n",
    "# 🔰 Step 10 — Full Metrics Evaluation\n",
    "# ===============================================================\n",
    "from sklearn.metrics import accuracy_score, precision_score, recall_score, f1_score\n",
    "\n",
    "all_labels = np.array(all_labels)\n",
    "all_preds  = np.array(all_preds)\n",
    "\n",
    "accuracy  = accuracy_score(all_labels, all_preds)\n",
    "precision = precision_score(all_labels, all_preds, average='weighted', zero_division=0)\n",
    "recall    = recall_score(all_labels, all_preds, average='weighted', zero_division=0)\n",
    "f1        = f1_score(all_labels, all_preds, average='weighted', zero_division=0)\n",
    "\n",
    "print(\"✅ Full Model Metrics on Test Set:\")\n",
    "print(f\"Accuracy : {accuracy*100:.2f}%\")\n",
    "print(f\"Precision: {precision*100:.2f}%\")\n",
    "print(f\"Recall   : {recall*100:.2f}%\")\n",
    "print(f\"F1-Score : {f1*100:.2f}%\")\n"
   ]
  }
 ],
 "metadata": {
  "kaggle": {
   "accelerator": "nvidiaTeslaT4",
   "dataSources": [
    {
     "datasetId": 8538111,
     "sourceId": 13451135,
     "sourceType": "datasetVersion"
    }
   ],
   "dockerImageVersionId": 31154,
   "isGpuEnabled": true,
   "isInternetEnabled": true,
   "language": "python",
   "sourceType": "notebook"
  },
  "kernelspec": {
   "display_name": "Python 3",
   "language": "python",
   "name": "python3"
  },
  "language_info": {
   "codemirror_mode": {
    "name": "ipython",
    "version": 3
   },
   "file_extension": ".py",
   "mimetype": "text/x-python",
   "name": "python",
   "nbconvert_exporter": "python",
   "pygments_lexer": "ipython3",
   "version": "3.11.13"
  },
  "papermill": {
   "default_parameters": {},
   "duration": 1007.270299,
   "end_time": "2025-10-28T18:59:17.343072",
   "environment_variables": {},
   "exception": null,
   "input_path": "__notebook__.ipynb",
   "output_path": "__notebook__.ipynb",
   "parameters": {},
   "start_time": "2025-10-28T18:42:30.072773",
   "version": "2.6.0"
  }
 },
 "nbformat": 4,
 "nbformat_minor": 5
}
