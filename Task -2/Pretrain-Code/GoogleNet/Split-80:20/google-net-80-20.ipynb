{
 "cells": [
  {
   "cell_type": "code",
   "execution_count": 1,
   "id": "40f85e94",
   "metadata": {
    "_cell_guid": "b1076dfc-b9ad-4769-8c92-a6c4dae69d19",
    "_uuid": "8f2839f25d086af736a60e9eeb907d3b93b6e0e5",
    "execution": {
     "iopub.execute_input": "2025-10-28T18:29:29.106131Z",
     "iopub.status.busy": "2025-10-28T18:29:29.105418Z",
     "iopub.status.idle": "2025-10-28T18:29:40.594786Z",
     "shell.execute_reply": "2025-10-28T18:29:40.593880Z"
    },
    "papermill": {
     "duration": 11.495331,
     "end_time": "2025-10-28T18:29:40.596370",
     "exception": false,
     "start_time": "2025-10-28T18:29:29.101039",
     "status": "completed"
    },
    "tags": []
   },
   "outputs": [],
   "source": [
    "# ===============================================================\n",
    "# 🔰 Step 1 — Import Libraries\n",
    "# ===============================================================\n",
    "import numpy as np\n",
    "import pandas as pd\n",
    "import os, time\n",
    "from tqdm import tqdm\n",
    "\n",
    "import torch\n",
    "import torch.nn as nn\n",
    "import torch.optim as optim\n",
    "from torch.utils.data import DataLoader, random_split\n",
    "from torchvision import datasets, transforms, models\n",
    "\n",
    "import matplotlib.pyplot as plt\n",
    "from sklearn.metrics import classification_report, confusion_matrix, roc_curve, auc\n"
   ]
  },
  {
   "cell_type": "code",
   "execution_count": 2,
   "id": "0e1b5a5a",
   "metadata": {
    "execution": {
     "iopub.execute_input": "2025-10-28T18:29:40.605611Z",
     "iopub.status.busy": "2025-10-28T18:29:40.605017Z",
     "iopub.status.idle": "2025-10-28T18:29:43.681905Z",
     "shell.execute_reply": "2025-10-28T18:29:43.681043Z"
    },
    "papermill": {
     "duration": 3.084022,
     "end_time": "2025-10-28T18:29:43.683232",
     "exception": false,
     "start_time": "2025-10-28T18:29:40.599210",
     "status": "completed"
    },
    "tags": []
   },
   "outputs": [
    {
     "name": "stdout",
     "output_type": "stream",
     "text": [
      "Using device: cuda\n",
      "Train: 813, Test: 203\n",
      "Train: 732, Validation: 81, Test: 203\n"
     ]
    }
   ],
   "source": [
    "# ===============================================================\n",
    "# 🔰 Step 2 — Device Setup & Data Preparation\n",
    "# ===============================================================\n",
    "device = torch.device(\"cuda\" if torch.cuda.is_available() else \"cpu\")\n",
    "print(\"Using device:\", device)\n",
    "\n",
    "# ✅ Dataset path (change if needed)\n",
    "DATA_DIR = \"/kaggle/input/dataset-of-plant-parasitic-nematodes/Microscopic Image Dataset of Plant-Parasitic Nematodes\"\n",
    "\n",
    "# ✅ Image transformations\n",
    "transform = transforms.Compose([\n",
    "    transforms.Resize((224, 224)),\n",
    "    transforms.ToTensor(),\n",
    "    transforms.Normalize([0.485, 0.456, 0.406],\n",
    "                         [0.229, 0.224, 0.225])\n",
    "])\n",
    "\n",
    "# ✅ Load dataset using ImageFolder\n",
    "dataset = datasets.ImageFolder(DATA_DIR, transform=transform)\n",
    "\n",
    "# ✅ Split 80:20 (Train:Test)\n",
    "test_ratio = 0.2\n",
    "test_size = int(test_ratio * len(dataset))\n",
    "train_size = len(dataset) - test_size\n",
    "train_dataset, test_dataset = random_split(dataset, [train_size, test_size])\n",
    "print(f\"Train: {len(train_dataset)}, Test: {len(test_dataset)}\")\n",
    "\n",
    "# ✅ Split 10% of Train as Validation\n",
    "val_ratio = 0.1\n",
    "val_size = int(val_ratio * len(train_dataset))\n",
    "train_size_final = len(train_dataset) - val_size\n",
    "train_dataset, val_dataset = random_split(train_dataset, [train_size_final, val_size])\n",
    "print(f\"Train: {len(train_dataset)}, Validation: {len(val_dataset)}, Test: {len(test_dataset)}\")\n",
    "\n",
    "# ✅ Dataloader setup\n",
    "batch_size = 32\n",
    "train_loader = DataLoader(train_dataset, batch_size=batch_size, shuffle=True)\n",
    "val_loader = DataLoader(val_dataset, batch_size=batch_size, shuffle=False)\n",
    "test_loader = DataLoader(test_dataset, batch_size=batch_size, shuffle=False)\n"
   ]
  },
  {
   "cell_type": "code",
   "execution_count": 3,
   "id": "9d6903d3",
   "metadata": {
    "execution": {
     "iopub.execute_input": "2025-10-28T18:29:43.689411Z",
     "iopub.status.busy": "2025-10-28T18:29:43.688683Z",
     "iopub.status.idle": "2025-10-28T18:29:45.166218Z",
     "shell.execute_reply": "2025-10-28T18:29:45.165334Z"
    },
    "papermill": {
     "duration": 1.481829,
     "end_time": "2025-10-28T18:29:45.167584",
     "exception": false,
     "start_time": "2025-10-28T18:29:43.685755",
     "status": "completed"
    },
    "tags": []
   },
   "outputs": [
    {
     "name": "stderr",
     "output_type": "stream",
     "text": [
      "Downloading: \"https://download.pytorch.org/models/googlenet-1378be20.pth\" to /root/.cache/torch/hub/checkpoints/googlenet-1378be20.pth\n",
      "100%|██████████| 49.7M/49.7M [00:00<00:00, 72.1MB/s]\n"
     ]
    }
   ],
   "source": [
    "# ===============================================================\n",
    "# 🔰 Step 3 — Model: GoogLeNet (Updated for Torchvision ≥ 0.13)\n",
    "# ===============================================================\n",
    "from torchvision.models import googlenet, GoogLeNet_Weights\n",
    "\n",
    "# ✅ Use modern weights API\n",
    "weights = GoogLeNet_Weights.DEFAULT\n",
    "model = googlenet(weights=weights)  # aux_logits=True by default\n",
    "\n",
    "# ⚙️ Disable auxiliary classifier during training if not needed\n",
    "model.aux_logits = False\n",
    "\n",
    "# ✅ Replace final fully connected layer\n",
    "num_classes = len(dataset.classes)\n",
    "model.fc = nn.Linear(model.fc.in_features, num_classes)\n",
    "\n",
    "# ✅ Move model to device\n",
    "model = model.to(device)\n",
    "\n",
    "# ✅ Loss & Optimizer\n",
    "criterion = nn.CrossEntropyLoss()\n",
    "optimizer = optim.Adam(model.parameters(), lr=1e-4)\n"
   ]
  },
  {
   "cell_type": "code",
   "execution_count": 4,
   "id": "e25800b6",
   "metadata": {
    "execution": {
     "iopub.execute_input": "2025-10-28T18:29:45.174372Z",
     "iopub.status.busy": "2025-10-28T18:29:45.174135Z",
     "iopub.status.idle": "2025-10-28T18:29:45.182369Z",
     "shell.execute_reply": "2025-10-28T18:29:45.181749Z"
    },
    "papermill": {
     "duration": 0.012784,
     "end_time": "2025-10-28T18:29:45.183436",
     "exception": false,
     "start_time": "2025-10-28T18:29:45.170652",
     "status": "completed"
    },
    "tags": []
   },
   "outputs": [],
   "source": [
    "# ===============================================================\n",
    "# 🔰 Step 4 — Train & Evaluate Functions\n",
    "# ===============================================================\n",
    "def train_one_epoch(model, loader, optimizer, criterion):\n",
    "    model.train()\n",
    "    running_loss, correct, total = 0.0, 0, 0\n",
    "    for images, labels in tqdm(loader, desc=\"Training\", leave=False):\n",
    "        images, labels = images.to(device), labels.to(device)\n",
    "        optimizer.zero_grad()\n",
    "        outputs = model(images)\n",
    "        loss = criterion(outputs, labels)\n",
    "        loss.backward()\n",
    "        optimizer.step()\n",
    "\n",
    "        running_loss += loss.item() * images.size(0)\n",
    "        _, preds = torch.max(outputs, 1)\n",
    "        correct += (preds == labels).sum().item()\n",
    "        total += labels.size(0)\n",
    "    return running_loss / total, correct / total\n",
    "\n",
    "\n",
    "def evaluate(model, loader, criterion):\n",
    "    model.eval()\n",
    "    running_loss, correct, total = 0.0, 0, 0\n",
    "    all_preds, all_labels, all_probs = [], [], []\n",
    "    with torch.no_grad():\n",
    "        for images, labels in tqdm(loader, desc=\"Evaluating\", leave=False):\n",
    "            images, labels = images.to(device), labels.to(device)\n",
    "            outputs = model(images)\n",
    "            loss = criterion(outputs, labels)\n",
    "\n",
    "            running_loss += loss.item() * images.size(0)\n",
    "            _, preds = torch.max(outputs, 1)\n",
    "            probs = torch.softmax(outputs, dim=1)\n",
    "\n",
    "            correct += (preds == labels).sum().item()\n",
    "            total += labels.size(0)\n",
    "\n",
    "            all_preds.extend(preds.cpu().numpy())\n",
    "            all_labels.extend(labels.cpu().numpy())\n",
    "            all_probs.extend(probs.cpu().numpy())\n",
    "    return running_loss / total, correct / total, np.array(all_preds), np.array(all_labels), np.array(all_probs)\n"
   ]
  },
  {
   "cell_type": "code",
   "execution_count": 5,
   "id": "577fb164",
   "metadata": {
    "execution": {
     "iopub.execute_input": "2025-10-28T18:29:45.189540Z",
     "iopub.status.busy": "2025-10-28T18:29:45.189009Z",
     "iopub.status.idle": "2025-10-28T18:44:01.439780Z",
     "shell.execute_reply": "2025-10-28T18:44:01.438994Z"
    },
    "papermill": {
     "duration": 856.255005,
     "end_time": "2025-10-28T18:44:01.440924",
     "exception": false,
     "start_time": "2025-10-28T18:29:45.185919",
     "status": "completed"
    },
    "tags": []
   },
   "outputs": [
    {
     "name": "stdout",
     "output_type": "stream",
     "text": [
      "\n",
      "Epoch 1/50\n"
     ]
    },
    {
     "name": "stderr",
     "output_type": "stream",
     "text": [
      "                                                         \r"
     ]
    },
    {
     "name": "stdout",
     "output_type": "stream",
     "text": [
      "Train Loss: 2.0857, Acc: 0.3156 | Val Loss: 1.8020, Acc: 0.4074\n",
      "\n",
      "Epoch 2/50\n"
     ]
    },
    {
     "name": "stderr",
     "output_type": "stream",
     "text": [
      "                                                         \r"
     ]
    },
    {
     "name": "stdout",
     "output_type": "stream",
     "text": [
      "Train Loss: 1.4481, Acc: 0.6243 | Val Loss: 1.4373, Acc: 0.5802\n",
      "\n",
      "Epoch 3/50\n"
     ]
    },
    {
     "name": "stderr",
     "output_type": "stream",
     "text": [
      "                                                         \r"
     ]
    },
    {
     "name": "stdout",
     "output_type": "stream",
     "text": [
      "Train Loss: 1.0132, Acc: 0.8019 | Val Loss: 1.1569, Acc: 0.6543\n",
      "\n",
      "Epoch 4/50\n"
     ]
    },
    {
     "name": "stderr",
     "output_type": "stream",
     "text": [
      "                                                         \r"
     ]
    },
    {
     "name": "stdout",
     "output_type": "stream",
     "text": [
      "Train Loss: 0.7093, Acc: 0.8962 | Val Loss: 0.9489, Acc: 0.8025\n",
      "\n",
      "Epoch 5/50\n"
     ]
    },
    {
     "name": "stderr",
     "output_type": "stream",
     "text": [
      "                                                         \r"
     ]
    },
    {
     "name": "stdout",
     "output_type": "stream",
     "text": [
      "Train Loss: 0.4551, Acc: 0.9467 | Val Loss: 0.7874, Acc: 0.7901\n",
      "\n",
      "Epoch 6/50\n"
     ]
    },
    {
     "name": "stderr",
     "output_type": "stream",
     "text": [
      "                                                         \r"
     ]
    },
    {
     "name": "stdout",
     "output_type": "stream",
     "text": [
      "Train Loss: 0.2863, Acc: 0.9781 | Val Loss: 0.7205, Acc: 0.8025\n",
      "\n",
      "Epoch 7/50\n"
     ]
    },
    {
     "name": "stderr",
     "output_type": "stream",
     "text": [
      "                                                         \r"
     ]
    },
    {
     "name": "stdout",
     "output_type": "stream",
     "text": [
      "Train Loss: 0.2081, Acc: 0.9809 | Val Loss: 0.6416, Acc: 0.8148\n",
      "\n",
      "Epoch 8/50\n"
     ]
    },
    {
     "name": "stderr",
     "output_type": "stream",
     "text": [
      "                                                         \r"
     ]
    },
    {
     "name": "stdout",
     "output_type": "stream",
     "text": [
      "Train Loss: 0.1337, Acc: 0.9877 | Val Loss: 0.5866, Acc: 0.8148\n",
      "\n",
      "Epoch 9/50\n"
     ]
    },
    {
     "name": "stderr",
     "output_type": "stream",
     "text": [
      "                                                         \r"
     ]
    },
    {
     "name": "stdout",
     "output_type": "stream",
     "text": [
      "Train Loss: 0.1028, Acc: 0.9877 | Val Loss: 0.5985, Acc: 0.8272\n",
      "\n",
      "Epoch 10/50\n"
     ]
    },
    {
     "name": "stderr",
     "output_type": "stream",
     "text": [
      "                                                         \r"
     ]
    },
    {
     "name": "stdout",
     "output_type": "stream",
     "text": [
      "Train Loss: 0.0791, Acc: 0.9891 | Val Loss: 0.5553, Acc: 0.8272\n",
      "\n",
      "Epoch 11/50\n"
     ]
    },
    {
     "name": "stderr",
     "output_type": "stream",
     "text": [
      "                                                         \r"
     ]
    },
    {
     "name": "stdout",
     "output_type": "stream",
     "text": [
      "Train Loss: 0.0724, Acc: 0.9904 | Val Loss: 0.5297, Acc: 0.8642\n",
      "\n",
      "Epoch 12/50\n"
     ]
    },
    {
     "name": "stderr",
     "output_type": "stream",
     "text": [
      "                                                         \r"
     ]
    },
    {
     "name": "stdout",
     "output_type": "stream",
     "text": [
      "Train Loss: 0.0636, Acc: 0.9904 | Val Loss: 0.5836, Acc: 0.8395\n",
      "\n",
      "Epoch 13/50\n"
     ]
    },
    {
     "name": "stderr",
     "output_type": "stream",
     "text": [
      "                                                         \r"
     ]
    },
    {
     "name": "stdout",
     "output_type": "stream",
     "text": [
      "Train Loss: 0.0481, Acc: 0.9932 | Val Loss: 0.5188, Acc: 0.8395\n",
      "\n",
      "Epoch 14/50\n"
     ]
    },
    {
     "name": "stderr",
     "output_type": "stream",
     "text": [
      "                                                         \r"
     ]
    },
    {
     "name": "stdout",
     "output_type": "stream",
     "text": [
      "Train Loss: 0.0424, Acc: 0.9959 | Val Loss: 0.5864, Acc: 0.8025\n",
      "\n",
      "Epoch 15/50\n"
     ]
    },
    {
     "name": "stderr",
     "output_type": "stream",
     "text": [
      "                                                         \r"
     ]
    },
    {
     "name": "stdout",
     "output_type": "stream",
     "text": [
      "Train Loss: 0.0364, Acc: 1.0000 | Val Loss: 0.5486, Acc: 0.8272\n",
      "\n",
      "Epoch 16/50\n"
     ]
    },
    {
     "name": "stderr",
     "output_type": "stream",
     "text": [
      "                                                         \r"
     ]
    },
    {
     "name": "stdout",
     "output_type": "stream",
     "text": [
      "Train Loss: 0.0290, Acc: 1.0000 | Val Loss: 0.5241, Acc: 0.8272\n",
      "\n",
      "Epoch 17/50\n"
     ]
    },
    {
     "name": "stderr",
     "output_type": "stream",
     "text": [
      "                                                         \r"
     ]
    },
    {
     "name": "stdout",
     "output_type": "stream",
     "text": [
      "Train Loss: 0.0272, Acc: 1.0000 | Val Loss: 0.5216, Acc: 0.8642\n",
      "\n",
      "Epoch 18/50\n"
     ]
    },
    {
     "name": "stderr",
     "output_type": "stream",
     "text": [
      "                                                         \r"
     ]
    },
    {
     "name": "stdout",
     "output_type": "stream",
     "text": [
      "Train Loss: 0.0207, Acc: 1.0000 | Val Loss: 0.5580, Acc: 0.8395\n",
      "\n",
      "Epoch 19/50\n"
     ]
    },
    {
     "name": "stderr",
     "output_type": "stream",
     "text": [
      "                                                         \r"
     ]
    },
    {
     "name": "stdout",
     "output_type": "stream",
     "text": [
      "Train Loss: 0.0210, Acc: 1.0000 | Val Loss: 0.5625, Acc: 0.8148\n",
      "\n",
      "Epoch 20/50\n"
     ]
    },
    {
     "name": "stderr",
     "output_type": "stream",
     "text": [
      "                                                         \r"
     ]
    },
    {
     "name": "stdout",
     "output_type": "stream",
     "text": [
      "Train Loss: 0.0205, Acc: 1.0000 | Val Loss: 0.5303, Acc: 0.8395\n",
      "\n",
      "Epoch 21/50\n"
     ]
    },
    {
     "name": "stderr",
     "output_type": "stream",
     "text": [
      "                                                         \r"
     ]
    },
    {
     "name": "stdout",
     "output_type": "stream",
     "text": [
      "Train Loss: 0.0137, Acc: 1.0000 | Val Loss: 0.5287, Acc: 0.8519\n",
      "\n",
      "Epoch 22/50\n"
     ]
    },
    {
     "name": "stderr",
     "output_type": "stream",
     "text": [
      "                                                         \r"
     ]
    },
    {
     "name": "stdout",
     "output_type": "stream",
     "text": [
      "Train Loss: 0.0142, Acc: 1.0000 | Val Loss: 0.5476, Acc: 0.8519\n",
      "\n",
      "Epoch 23/50\n"
     ]
    },
    {
     "name": "stderr",
     "output_type": "stream",
     "text": [
      "                                                         \r"
     ]
    },
    {
     "name": "stdout",
     "output_type": "stream",
     "text": [
      "Train Loss: 0.0146, Acc: 1.0000 | Val Loss: 0.5395, Acc: 0.8148\n",
      "\n",
      "Epoch 24/50\n"
     ]
    },
    {
     "name": "stderr",
     "output_type": "stream",
     "text": [
      "                                                         \r"
     ]
    },
    {
     "name": "stdout",
     "output_type": "stream",
     "text": [
      "Train Loss: 0.0125, Acc: 1.0000 | Val Loss: 0.4932, Acc: 0.8642\n",
      "\n",
      "Epoch 25/50\n"
     ]
    },
    {
     "name": "stderr",
     "output_type": "stream",
     "text": [
      "                                                         \r"
     ]
    },
    {
     "name": "stdout",
     "output_type": "stream",
     "text": [
      "Train Loss: 0.0125, Acc: 1.0000 | Val Loss: 0.5343, Acc: 0.8395\n",
      "\n",
      "Epoch 26/50\n"
     ]
    },
    {
     "name": "stderr",
     "output_type": "stream",
     "text": [
      "                                                         \r"
     ]
    },
    {
     "name": "stdout",
     "output_type": "stream",
     "text": [
      "Train Loss: 0.0095, Acc: 1.0000 | Val Loss: 0.5175, Acc: 0.8519\n",
      "\n",
      "Epoch 27/50\n"
     ]
    },
    {
     "name": "stderr",
     "output_type": "stream",
     "text": [
      "                                                         \r"
     ]
    },
    {
     "name": "stdout",
     "output_type": "stream",
     "text": [
      "Train Loss: 0.0079, Acc: 1.0000 | Val Loss: 0.5092, Acc: 0.8395\n",
      "\n",
      "Epoch 28/50\n"
     ]
    },
    {
     "name": "stderr",
     "output_type": "stream",
     "text": [
      "                                                         \r"
     ]
    },
    {
     "name": "stdout",
     "output_type": "stream",
     "text": [
      "Train Loss: 0.0084, Acc: 1.0000 | Val Loss: 0.5077, Acc: 0.8642\n",
      "\n",
      "Epoch 29/50\n"
     ]
    },
    {
     "name": "stderr",
     "output_type": "stream",
     "text": [
      "                                                         \r"
     ]
    },
    {
     "name": "stdout",
     "output_type": "stream",
     "text": [
      "Train Loss: 0.0069, Acc: 1.0000 | Val Loss: 0.5585, Acc: 0.8642\n",
      "\n",
      "Epoch 30/50\n"
     ]
    },
    {
     "name": "stderr",
     "output_type": "stream",
     "text": [
      "                                                         \r"
     ]
    },
    {
     "name": "stdout",
     "output_type": "stream",
     "text": [
      "Train Loss: 0.0064, Acc: 1.0000 | Val Loss: 0.5186, Acc: 0.8519\n",
      "\n",
      "Epoch 31/50\n"
     ]
    },
    {
     "name": "stderr",
     "output_type": "stream",
     "text": [
      "                                                         \r"
     ]
    },
    {
     "name": "stdout",
     "output_type": "stream",
     "text": [
      "Train Loss: 0.0078, Acc: 1.0000 | Val Loss: 0.5228, Acc: 0.8395\n",
      "\n",
      "Epoch 32/50\n"
     ]
    },
    {
     "name": "stderr",
     "output_type": "stream",
     "text": [
      "                                                         \r"
     ]
    },
    {
     "name": "stdout",
     "output_type": "stream",
     "text": [
      "Train Loss: 0.0066, Acc: 1.0000 | Val Loss: 0.5491, Acc: 0.8519\n",
      "\n",
      "Epoch 33/50\n"
     ]
    },
    {
     "name": "stderr",
     "output_type": "stream",
     "text": [
      "                                                         \r"
     ]
    },
    {
     "name": "stdout",
     "output_type": "stream",
     "text": [
      "Train Loss: 0.0059, Acc: 1.0000 | Val Loss: 0.5450, Acc: 0.8765\n",
      "\n",
      "Epoch 34/50\n"
     ]
    },
    {
     "name": "stderr",
     "output_type": "stream",
     "text": [
      "                                                         \r"
     ]
    },
    {
     "name": "stdout",
     "output_type": "stream",
     "text": [
      "Train Loss: 0.0060, Acc: 1.0000 | Val Loss: 0.5229, Acc: 0.8765\n",
      "\n",
      "Epoch 35/50\n"
     ]
    },
    {
     "name": "stderr",
     "output_type": "stream",
     "text": [
      "                                                         \r"
     ]
    },
    {
     "name": "stdout",
     "output_type": "stream",
     "text": [
      "Train Loss: 0.0049, Acc: 1.0000 | Val Loss: 0.5337, Acc: 0.8519\n",
      "\n",
      "Epoch 36/50\n"
     ]
    },
    {
     "name": "stderr",
     "output_type": "stream",
     "text": [
      "                                                         \r"
     ]
    },
    {
     "name": "stdout",
     "output_type": "stream",
     "text": [
      "Train Loss: 0.0054, Acc: 1.0000 | Val Loss: 0.5269, Acc: 0.8642\n",
      "\n",
      "Epoch 37/50\n"
     ]
    },
    {
     "name": "stderr",
     "output_type": "stream",
     "text": [
      "                                                         \r"
     ]
    },
    {
     "name": "stdout",
     "output_type": "stream",
     "text": [
      "Train Loss: 0.0040, Acc: 1.0000 | Val Loss: 0.5262, Acc: 0.8642\n",
      "\n",
      "Epoch 38/50\n"
     ]
    },
    {
     "name": "stderr",
     "output_type": "stream",
     "text": [
      "                                                         \r"
     ]
    },
    {
     "name": "stdout",
     "output_type": "stream",
     "text": [
      "Train Loss: 0.0039, Acc: 1.0000 | Val Loss: 0.5075, Acc: 0.8642\n",
      "\n",
      "Epoch 39/50\n"
     ]
    },
    {
     "name": "stderr",
     "output_type": "stream",
     "text": [
      "                                                         \r"
     ]
    },
    {
     "name": "stdout",
     "output_type": "stream",
     "text": [
      "Train Loss: 0.0041, Acc: 1.0000 | Val Loss: 0.5381, Acc: 0.8765\n",
      "\n",
      "Epoch 40/50\n"
     ]
    },
    {
     "name": "stderr",
     "output_type": "stream",
     "text": [
      "                                                         \r"
     ]
    },
    {
     "name": "stdout",
     "output_type": "stream",
     "text": [
      "Train Loss: 0.0037, Acc: 1.0000 | Val Loss: 0.5035, Acc: 0.8889\n",
      "\n",
      "Epoch 41/50\n"
     ]
    },
    {
     "name": "stderr",
     "output_type": "stream",
     "text": [
      "                                                         \r"
     ]
    },
    {
     "name": "stdout",
     "output_type": "stream",
     "text": [
      "Train Loss: 0.0040, Acc: 1.0000 | Val Loss: 0.5152, Acc: 0.8889\n",
      "\n",
      "Epoch 42/50\n"
     ]
    },
    {
     "name": "stderr",
     "output_type": "stream",
     "text": [
      "                                                         \r"
     ]
    },
    {
     "name": "stdout",
     "output_type": "stream",
     "text": [
      "Train Loss: 0.0031, Acc: 1.0000 | Val Loss: 0.5063, Acc: 0.8765\n",
      "\n",
      "Epoch 43/50\n"
     ]
    },
    {
     "name": "stderr",
     "output_type": "stream",
     "text": [
      "                                                         \r"
     ]
    },
    {
     "name": "stdout",
     "output_type": "stream",
     "text": [
      "Train Loss: 0.0037, Acc: 1.0000 | Val Loss: 0.4762, Acc: 0.8889\n",
      "\n",
      "Epoch 44/50\n"
     ]
    },
    {
     "name": "stderr",
     "output_type": "stream",
     "text": [
      "                                                         \r"
     ]
    },
    {
     "name": "stdout",
     "output_type": "stream",
     "text": [
      "Train Loss: 0.0026, Acc: 1.0000 | Val Loss: 0.5020, Acc: 0.8765\n",
      "\n",
      "Epoch 45/50\n"
     ]
    },
    {
     "name": "stderr",
     "output_type": "stream",
     "text": [
      "                                                         \r"
     ]
    },
    {
     "name": "stdout",
     "output_type": "stream",
     "text": [
      "Train Loss: 0.0037, Acc: 1.0000 | Val Loss: 0.4950, Acc: 0.8642\n",
      "\n",
      "Epoch 46/50\n"
     ]
    },
    {
     "name": "stderr",
     "output_type": "stream",
     "text": [
      "                                                         \r"
     ]
    },
    {
     "name": "stdout",
     "output_type": "stream",
     "text": [
      "Train Loss: 0.0032, Acc: 1.0000 | Val Loss: 0.4647, Acc: 0.8889\n",
      "\n",
      "Epoch 47/50\n"
     ]
    },
    {
     "name": "stderr",
     "output_type": "stream",
     "text": [
      "                                                         \r"
     ]
    },
    {
     "name": "stdout",
     "output_type": "stream",
     "text": [
      "Train Loss: 0.0032, Acc: 1.0000 | Val Loss: 0.4784, Acc: 0.8889\n",
      "\n",
      "Epoch 48/50\n"
     ]
    },
    {
     "name": "stderr",
     "output_type": "stream",
     "text": [
      "                                                         \r"
     ]
    },
    {
     "name": "stdout",
     "output_type": "stream",
     "text": [
      "Train Loss: 0.0031, Acc: 1.0000 | Val Loss: 0.5008, Acc: 0.8642\n",
      "\n",
      "Epoch 49/50\n"
     ]
    },
    {
     "name": "stderr",
     "output_type": "stream",
     "text": [
      "                                                         \r"
     ]
    },
    {
     "name": "stdout",
     "output_type": "stream",
     "text": [
      "Train Loss: 0.0026, Acc: 1.0000 | Val Loss: 0.4827, Acc: 0.8642\n",
      "\n",
      "Epoch 50/50\n"
     ]
    },
    {
     "name": "stderr",
     "output_type": "stream",
     "text": [
      "                                                         "
     ]
    },
    {
     "name": "stdout",
     "output_type": "stream",
     "text": [
      "Train Loss: 0.0023, Acc: 1.0000 | Val Loss: 0.5073, Acc: 0.8765\n",
      "\n",
      "✅ Total training time: 856.24 sec\n"
     ]
    },
    {
     "name": "stderr",
     "output_type": "stream",
     "text": [
      "\r"
     ]
    }
   ],
   "source": [
    "# ===============================================================\n",
    "# 🔰 Step 5 — Training Loop\n",
    "# ===============================================================\n",
    "num_epochs = 50\n",
    "train_losses, val_losses = [], []\n",
    "train_accs, val_accs = [], []\n",
    "\n",
    "best_val_acc = 0.0\n",
    "start_time = time.time()\n",
    "for epoch in range(num_epochs):\n",
    "    print(f\"\\nEpoch {epoch+1}/{num_epochs}\")\n",
    "    train_loss, train_acc = train_one_epoch(model, train_loader, optimizer, criterion)\n",
    "    val_loss, val_acc, _, _, _ = evaluate(model, val_loader, criterion)\n",
    "\n",
    "    train_losses.append(train_loss)\n",
    "    val_losses.append(val_loss)\n",
    "    train_accs.append(train_acc)\n",
    "    val_accs.append(val_acc)\n",
    "\n",
    "    print(f\"Train Loss: {train_loss:.4f}, Acc: {train_acc:.4f} | Val Loss: {val_loss:.4f}, Acc: {val_acc:.4f}\")\n",
    "\n",
    "    if val_acc > best_val_acc:\n",
    "        best_val_acc = val_acc\n",
    "        torch.save(model.state_dict(), \"best_googlenet_model.pth\")\n",
    "\n",
    "end_time = time.time()\n",
    "train_time = end_time - start_time\n",
    "print(f\"\\n✅ Total training time: {train_time:.2f} sec\")\n"
   ]
  },
  {
   "cell_type": "code",
   "execution_count": 6,
   "id": "2f684dc0",
   "metadata": {
    "execution": {
     "iopub.execute_input": "2025-10-28T18:44:01.657863Z",
     "iopub.status.busy": "2025-10-28T18:44:01.657336Z",
     "iopub.status.idle": "2025-10-28T18:44:01.988587Z",
     "shell.execute_reply": "2025-10-28T18:44:01.987867Z"
    },
    "papermill": {
     "duration": 0.402137,
     "end_time": "2025-10-28T18:44:01.990485",
     "exception": false,
     "start_time": "2025-10-28T18:44:01.588348",
     "status": "completed"
    },
    "tags": []
   },
   "outputs": [
    {
     "data": {
      "image/png": "[encoded data removed]",
      "text/plain": [
       "<Figure size 1200x500 with 2 Axes>"
      ]
     },
     "metadata": {},
     "output_type": "display_data"
    }
   ],
   "source": [
    "# ===============================================================\n",
    "# 🔰 Step 6 — Plot Loss & Accuracy Curves\n",
    "# ===============================================================\n",
    "plt.figure(figsize=(12,5))\n",
    "plt.subplot(1,2,1)\n",
    "plt.plot(train_losses, label=\"Train Loss\")\n",
    "plt.plot(val_losses, label=\"Val Loss\")\n",
    "plt.title(\"Loss Curve\")\n",
    "plt.xlabel(\"Epoch\")\n",
    "plt.ylabel(\"Loss\")\n",
    "plt.legend()\n",
    "\n",
    "plt.subplot(1,2,2)\n",
    "plt.plot(train_accs, label=\"Train Acc\")\n",
    "plt.plot(val_accs, label=\"Val Acc\")\n",
    "plt.title(\"Accuracy Curve\")\n",
    "plt.xlabel(\"Epoch\")\n",
    "plt.ylabel(\"Accuracy\")\n",
    "plt.legend()\n",
    "plt.show()\n"
   ]
  },
  {
   "cell_type": "code",
   "execution_count": 7,
   "id": "7d847b04",
   "metadata": {
    "execution": {
     "iopub.execute_input": "2025-10-28T18:44:02.130611Z",
     "iopub.status.busy": "2025-10-28T18:44:02.130345Z",
     "iopub.status.idle": "2025-10-28T18:44:08.198896Z",
     "shell.execute_reply": "2025-10-28T18:44:08.198207Z"
    },
    "papermill": {
     "duration": 6.137654,
     "end_time": "2025-10-28T18:44:08.200036",
     "exception": false,
     "start_time": "2025-10-28T18:44:02.062382",
     "status": "completed"
    },
    "tags": []
   },
   "outputs": [
    {
     "name": "stderr",
     "output_type": "stream",
     "text": [
      "                                                         "
     ]
    },
    {
     "name": "stdout",
     "output_type": "stream",
     "text": [
      "\n",
      "✅ Test Accuracy: 81.77%\n",
      "✅ Test time: 5.81 sec\n"
     ]
    },
    {
     "name": "stderr",
     "output_type": "stream",
     "text": [
      "\r"
     ]
    }
   ],
   "source": [
    "# ===============================================================\n",
    "# 🔰 Step 7 — Test Evaluation\n",
    "# ===============================================================\n",
    "model.load_state_dict(torch.load(\"best_googlenet_model.pth\"))\n",
    "test_start = time.time()\n",
    "test_loss, test_acc, all_preds, all_labels, all_probs = evaluate(model, test_loader, criterion)\n",
    "test_end = time.time()\n",
    "test_time = test_end - test_start\n",
    "print(f\"\\n✅ Test Accuracy: {test_acc*100:.2f}%\")\n",
    "print(f\"✅ Test time: {test_time:.2f} sec\")\n"
   ]
  },
  {
   "cell_type": "code",
   "execution_count": 8,
   "id": "36088589",
   "metadata": {
    "execution": {
     "iopub.execute_input": "2025-10-28T18:44:08.335640Z",
     "iopub.status.busy": "2025-10-28T18:44:08.335361Z",
     "iopub.status.idle": "2025-10-28T18:44:12.228406Z",
     "shell.execute_reply": "2025-10-28T18:44:12.227661Z"
    },
    "papermill": {
     "duration": 3.960997,
     "end_time": "2025-10-28T18:44:12.229625",
     "exception": false,
     "start_time": "2025-10-28T18:44:08.268628",
     "status": "completed"
    },
    "tags": []
   },
   "outputs": [
    {
     "name": "stdout",
     "output_type": "stream",
     "text": [
      "\n",
      "Classification Report:\n",
      "                       precision    recall  f1-score   support\n",
      "\n",
      "  Genus Criconemoides     0.9583    1.0000    0.9787        23\n",
      "Genus Helicotylenchus     0.9286    0.9286    0.9286        28\n",
      "Genus Hemicycliophora     0.0000    0.0000    0.0000         1\n",
      " Genus Hirschmaniella     0.8519    0.8214    0.8364        28\n",
      "    Genus Hoplolaimus     0.9091    0.7895    0.8451        38\n",
      "    Genus Meloidogyne     0.7838    0.8286    0.8056        35\n",
      "   Genus Pratylenchus     0.6000    0.6667    0.6316        18\n",
      "     Genus Radopholus     0.7778    0.7000    0.7368        10\n",
      "    Genus Trichodorus     0.8571    0.7500    0.8000         8\n",
      "      Genus Xiphinema     0.5556    0.7143    0.6250        14\n",
      "\n",
      "             accuracy                         0.8177       203\n",
      "            macro avg     0.7222    0.7199    0.7188       203\n",
      "         weighted avg     0.8231    0.8177    0.8183       203\n",
      "\n"
     ]
    },
    {
     "name": "stderr",
     "output_type": "stream",
     "text": [
      "/usr/local/lib/python3.11/dist-packages/sklearn/metrics/_classification.py:1344: UndefinedMetricWarning: Precision and F-score are ill-defined and being set to 0.0 in labels with no predicted samples. Use `zero_division` parameter to control this behavior.\n",
      "  _warn_prf(average, modifier, msg_start, len(result))\n",
      "/usr/local/lib/python3.11/dist-packages/sklearn/metrics/_classification.py:1344: UndefinedMetricWarning: Precision and F-score are ill-defined and being set to 0.0 in labels with no predicted samples. Use `zero_division` parameter to control this behavior.\n",
      "  _warn_prf(average, modifier, msg_start, len(result))\n",
      "/usr/local/lib/python3.11/dist-packages/sklearn/metrics/_classification.py:1344: UndefinedMetricWarning: Precision and F-score are ill-defined and being set to 0.0 in labels with no predicted samples. Use `zero_division` parameter to control this behavior.\n",
      "  _warn_prf(average, modifier, msg_start, len(result))\n"
     ]
    },
    {
     "data": {
      "image/png": "[encoded data removed]",
      "text/plain": [
       "<Figure size 800x600 with 2 Axes>"
      ]
     },
     "metadata": {},
     "output_type": "display_data"
    },
    {
     "name": "stdout",
     "output_type": "stream",
     "text": [
      "\n",
      "Per-class Accuracy:\n",
      "Genus Criconemoides: 100.00%\n",
      "Genus Helicotylenchus: 92.86%\n",
      "Genus Hemicycliophora: 0.00%\n",
      "Genus Hirschmaniella: 82.14%\n",
      "Genus Hoplolaimus: 78.95%\n",
      "Genus Meloidogyne: 82.86%\n",
      "Genus Pratylenchus: 66.67%\n",
      "Genus Radopholus: 70.00%\n",
      "Genus Trichodorus: 75.00%\n",
      "Genus Xiphinema: 71.43%\n"
     ]
    }
   ],
   "source": [
    "# ===============================================================\n",
    "# 🔰 Step 8 — Classification Report & Confusion Matrix\n",
    "# ===============================================================\n",
    "model.eval()\n",
    "all_preds, all_labels = [], []\n",
    "with torch.no_grad():\n",
    "    for images, labels in test_loader:\n",
    "        images, labels = images.to(device), labels.to(device)\n",
    "        outputs = model(images)\n",
    "        _, preds = torch.max(outputs, 1)\n",
    "        all_preds.extend(preds.cpu().numpy())\n",
    "        all_labels.extend(labels.cpu().numpy())\n",
    "\n",
    "unique_labels = sorted(list(set(all_labels)))\n",
    "target_names = [dataset.classes[i] for i in unique_labels]\n",
    "\n",
    "print(\"\\nClassification Report:\")\n",
    "print(classification_report(all_labels, all_preds, labels=unique_labels, target_names=target_names, digits=4))\n",
    "\n",
    "cm = confusion_matrix(all_labels, all_preds)\n",
    "plt.figure(figsize=(8,6))\n",
    "plt.imshow(cm, cmap=\"Blues\")\n",
    "plt.title(\"Confusion Matrix\")\n",
    "plt.xlabel(\"Predicted\")\n",
    "plt.ylabel(\"Actual\")\n",
    "plt.colorbar()\n",
    "plt.show()\n",
    "\n",
    "per_class_acc = cm.diagonal() / cm.sum(axis=1)\n",
    "print(\"\\nPer-class Accuracy:\")\n",
    "for i, label_idx in enumerate(unique_labels):\n",
    "    cls_name = dataset.classes[label_idx]\n",
    "    print(f\"{cls_name}: {per_class_acc[i]*100:.2f}%\")\n"
   ]
  },
  {
   "cell_type": "code",
   "execution_count": 9,
   "id": "d16bc926",
   "metadata": {
    "execution": {
     "iopub.execute_input": "2025-10-28T18:44:12.366993Z",
     "iopub.status.busy": "2025-10-28T18:44:12.366451Z",
     "iopub.status.idle": "2025-10-28T18:44:12.635020Z",
     "shell.execute_reply": "2025-10-28T18:44:12.634275Z"
    },
    "papermill": {
     "duration": 0.33858,
     "end_time": "2025-10-28T18:44:12.636967",
     "exception": false,
     "start_time": "2025-10-28T18:44:12.298387",
     "status": "completed"
    },
    "tags": []
   },
   "outputs": [
    {
     "name": "stderr",
     "output_type": "stream",
     "text": [
      "/usr/local/lib/python3.11/dist-packages/sklearn/metrics/_ranking.py:1029: UndefinedMetricWarning: No positive samples in y_true, true positive value should be meaningless\n",
      "  warnings.warn(\n"
     ]
    },
    {
     "data": {
      "image/png": "[encoded data removed]",
      "text/plain": [
       "<Figure size 1000x800 with 1 Axes>"
      ]
     },
     "metadata": {},
     "output_type": "display_data"
    }
   ],
   "source": [
    "# ===============================================================\n",
    "# 🔰 Step 9 — ROC-AUC per class\n",
    "# ===============================================================\n",
    "import numpy as np\n",
    "from sklearn.metrics import roc_curve, auc\n",
    "\n",
    "# Ensure numpy arrays\n",
    "all_labels = np.array(all_labels)\n",
    "all_probs = np.array(all_probs)\n",
    "\n",
    "plt.figure(figsize=(10,8))\n",
    "for i, cls in enumerate(dataset.classes):\n",
    "    # ✅ Convert to binary (1 vs rest)\n",
    "    binary_labels = (all_labels == i).astype(int)\n",
    "    \n",
    "    # ✅ Calculate ROC curve for this class\n",
    "    fpr, tpr, _ = roc_curve(binary_labels, all_probs[:, i])\n",
    "    roc_auc = auc(fpr, tpr)\n",
    "    \n",
    "    plt.plot(fpr, tpr, label=f'{cls} (AUC = {roc_auc:.4f})')\n",
    "\n",
    "plt.plot([0,1],[0,1],'k--')\n",
    "plt.title(\"ROC Curves (One-vs-Rest)\")\n",
    "plt.xlabel(\"False Positive Rate\")\n",
    "plt.ylabel(\"True Positive Rate\")\n",
    "plt.legend()\n",
    "plt.show()\n"
   ]
  },
  {
   "cell_type": "code",
   "execution_count": 10,
   "id": "63f80b1b",
   "metadata": {
    "execution": {
     "iopub.execute_input": "2025-10-28T18:44:12.783378Z",
     "iopub.status.busy": "2025-10-28T18:44:12.782704Z",
     "iopub.status.idle": "2025-10-28T18:44:12.793608Z",
     "shell.execute_reply": "2025-10-28T18:44:12.792861Z"
    },
    "papermill": {
     "duration": 0.083362,
     "end_time": "2025-10-28T18:44:12.794706",
     "exception": false,
     "start_time": "2025-10-28T18:44:12.711344",
     "status": "completed"
    },
    "tags": []
   },
   "outputs": [
    {
     "name": "stdout",
     "output_type": "stream",
     "text": [
      "✅ Full Model Metrics on Test Set:\n",
      "Accuracy : 81.77%\n",
      "Precision: 82.31%\n",
      "Recall   : 81.77%\n",
      "F1-Score : 81.83%\n"
     ]
    }
   ],
   "source": [
    "# ===============================================================\n",
    "# 🔰 Step 10 — Full Metrics Evaluation\n",
    "# ===============================================================\n",
    "from sklearn.metrics import accuracy_score, precision_score, recall_score, f1_score\n",
    "\n",
    "all_labels = np.array(all_labels)\n",
    "all_preds  = np.array(all_preds)\n",
    "\n",
    "accuracy  = accuracy_score(all_labels, all_preds)\n",
    "precision = precision_score(all_labels, all_preds, average='weighted', zero_division=0)\n",
    "recall    = recall_score(all_labels, all_preds, average='weighted', zero_division=0)\n",
    "f1        = f1_score(all_labels, all_preds, average='weighted', zero_division=0)\n",
    "\n",
    "print(\"✅ Full Model Metrics on Test Set:\")\n",
    "print(f\"Accuracy : {accuracy*100:.2f}%\")\n",
    "print(f\"Precision: {precision*100:.2f}%\")\n",
    "print(f\"Recall   : {recall*100:.2f}%\")\n",
    "print(f\"F1-Score : {f1*100:.2f}%\")\n"
   ]
  }
 ],
 "metadata": {
  "kaggle": {
   "accelerator": "nvidiaTeslaT4",
   "dataSources": [
    {
     "datasetId": 8578836,
     "sourceId": 13511700,
     "sourceType": "datasetVersion"
    }
   ],
   "dockerImageVersionId": 31154,
   "isGpuEnabled": true,
   "isInternetEnabled": true,
   "language": "python",
   "sourceType": "notebook"
  },
  "kernelspec": {
   "display_name": "Python 3",
   "language": "python",
   "name": "python3"
  },
  "language_info": {
   "codemirror_mode": {
    "name": "ipython",
    "version": 3
   },
   "file_extension": ".py",
   "mimetype": "text/x-python",
   "name": "python",
   "nbconvert_exporter": "python",
   "pygments_lexer": "ipython3",
   "version": "3.11.13"
  },
  "papermill": {
   "default_parameters": {},
   "duration": 889.109753,
   "end_time": "2025-10-28T18:44:14.486049",
   "environment_variables": {},
   "exception": null,
   "input_path": "__notebook__.ipynb",
   "output_path": "__notebook__.ipynb",
   "parameters": {},
   "start_time": "2025-10-28T18:29:25.376296",
   "version": "2.6.0"
  }
 },
 "nbformat": 4,
 "nbformat_minor": 5
}
