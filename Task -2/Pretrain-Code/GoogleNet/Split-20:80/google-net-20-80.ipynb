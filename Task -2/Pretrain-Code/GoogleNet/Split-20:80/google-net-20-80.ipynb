{
 "cells": [
  {
   "cell_type": "code",
   "execution_count": 1,
   "id": "477007d4",
   "metadata": {
    "_cell_guid": "b1076dfc-b9ad-4769-8c92-a6c4dae69d19",
    "_uuid": "8f2839f25d086af736a60e9eeb907d3b93b6e0e5",
    "execution": {
     "iopub.execute_input": "2025-10-28T17:48:31.551236Z",
     "iopub.status.busy": "2025-10-28T17:48:31.550972Z",
     "iopub.status.idle": "2025-10-28T17:48:43.588178Z",
     "shell.execute_reply": "2025-10-28T17:48:43.587359Z"
    },
    "papermill": {
     "duration": 12.04232,
     "end_time": "2025-10-28T17:48:43.589554",
     "exception": false,
     "start_time": "2025-10-28T17:48:31.547234",
     "status": "completed"
    },
    "tags": []
   },
   "outputs": [],
   "source": [
    "# ===============================================================\n",
    "# 🔰 Step 1 — Import Libraries\n",
    "# ===============================================================\n",
    "import numpy as np\n",
    "import pandas as pd\n",
    "import os, time\n",
    "from tqdm import tqdm\n",
    "\n",
    "import torch\n",
    "import torch.nn as nn\n",
    "import torch.optim as optim\n",
    "from torch.utils.data import DataLoader, random_split\n",
    "from torchvision import datasets, transforms, models\n",
    "\n",
    "import matplotlib.pyplot as plt\n",
    "from sklearn.metrics import classification_report, confusion_matrix, roc_curve, auc\n"
   ]
  },
  {
   "cell_type": "code",
   "execution_count": 2,
   "id": "d9b7ee3b",
   "metadata": {
    "execution": {
     "iopub.execute_input": "2025-10-28T17:48:43.595210Z",
     "iopub.status.busy": "2025-10-28T17:48:43.594513Z",
     "iopub.status.idle": "2025-10-28T17:48:46.832938Z",
     "shell.execute_reply": "2025-10-28T17:48:46.832139Z"
    },
    "papermill": {
     "duration": 3.242231,
     "end_time": "2025-10-28T17:48:46.834205",
     "exception": false,
     "start_time": "2025-10-28T17:48:43.591974",
     "status": "completed"
    },
    "tags": []
   },
   "outputs": [
    {
     "name": "stdout",
     "output_type": "stream",
     "text": [
      "Using device: cuda\n",
      "Train: 204, Test: 812\n",
      "Train: 184, Validation: 20, Test: 812\n"
     ]
    }
   ],
   "source": [
    "# ===============================================================\n",
    "# 🔰 Step 2 — Device Setup & Data Preparation (20:80 Split)\n",
    "# ===============================================================\n",
    "device = torch.device(\"cuda\" if torch.cuda.is_available() else \"cpu\")\n",
    "print(\"Using device:\", device)\n",
    "\n",
    "# ✅ Dataset path\n",
    "DATA_DIR = \"/kaggle/input/dataset-of-plant-parasitic-nematodes/Microscopic Image Dataset of Plant-Parasitic Nematodes\"\n",
    "\n",
    "# ✅ Image transformations\n",
    "transform = transforms.Compose([\n",
    "    transforms.Resize((224, 224)),\n",
    "    transforms.ToTensor(),\n",
    "    transforms.Normalize([0.485, 0.456, 0.406],\n",
    "                         [0.229, 0.224, 0.225])\n",
    "])\n",
    "\n",
    "# ✅ Load dataset using ImageFolder\n",
    "dataset = datasets.ImageFolder(DATA_DIR, transform=transform)\n",
    "\n",
    "# ✅ Split 20:80 (Train:Test)\n",
    "test_ratio = 0.8\n",
    "test_size = int(test_ratio * len(dataset))\n",
    "train_size = len(dataset) - test_size\n",
    "train_dataset, test_dataset = random_split(dataset, [train_size, test_size])\n",
    "print(f\"Train: {len(train_dataset)}, Test: {len(test_dataset)}\")\n",
    "\n",
    "# ✅ Split 10% of Train as Validation\n",
    "val_ratio = 0.1\n",
    "val_size = int(val_ratio * len(train_dataset))\n",
    "train_size_final = len(train_dataset) - val_size\n",
    "train_dataset, val_dataset = random_split(train_dataset, [train_size_final, val_size])\n",
    "print(f\"Train: {len(train_dataset)}, Validation: {len(val_dataset)}, Test: {len(test_dataset)}\")\n",
    "\n",
    "# ✅ Dataloader setup\n",
    "batch_size = 32\n",
    "train_loader = DataLoader(train_dataset, batch_size=batch_size, shuffle=True)\n",
    "val_loader = DataLoader(val_dataset, batch_size=batch_size, shuffle=False)\n",
    "test_loader = DataLoader(test_dataset, batch_size=batch_size, shuffle=False)\n"
   ]
  },
  {
   "cell_type": "code",
   "execution_count": 3,
   "id": "8d0baf8b",
   "metadata": {
    "execution": {
     "iopub.execute_input": "2025-10-28T17:48:46.839543Z",
     "iopub.status.busy": "2025-10-28T17:48:46.839083Z",
     "iopub.status.idle": "2025-10-28T17:48:47.592211Z",
     "shell.execute_reply": "2025-10-28T17:48:47.591561Z"
    },
    "papermill": {
     "duration": 0.757111,
     "end_time": "2025-10-28T17:48:47.593568",
     "exception": false,
     "start_time": "2025-10-28T17:48:46.836457",
     "status": "completed"
    },
    "tags": []
   },
   "outputs": [
    {
     "name": "stderr",
     "output_type": "stream",
     "text": [
      "Downloading: \"https://download.pytorch.org/models/googlenet-1378be20.pth\" to /root/.cache/torch/hub/checkpoints/googlenet-1378be20.pth\n",
      "100%|██████████| 49.7M/49.7M [00:00<00:00, 186MB/s]\n"
     ]
    }
   ],
   "source": [
    "# ===============================================================\n",
    "# 🔰 Step 3 — Model: GoogLeNet\n",
    "# ===============================================================\n",
    "from torchvision.models import googlenet, GoogLeNet_Weights\n",
    "\n",
    "weights = GoogLeNet_Weights.DEFAULT\n",
    "model = googlenet(weights=weights)\n",
    "model.aux_logits = False\n",
    "\n",
    "num_classes = len(dataset.classes)\n",
    "model.fc = nn.Linear(model.fc.in_features, num_classes)\n",
    "\n",
    "model = model.to(device)\n",
    "\n",
    "criterion = nn.CrossEntropyLoss()\n",
    "optimizer = optim.Adam(model.parameters(), lr=1e-4)\n"
   ]
  },
  {
   "cell_type": "code",
   "execution_count": 4,
   "id": "8e8b9815",
   "metadata": {
    "execution": {
     "iopub.execute_input": "2025-10-28T17:48:47.599711Z",
     "iopub.status.busy": "2025-10-28T17:48:47.599154Z",
     "iopub.status.idle": "2025-10-28T17:48:47.607131Z",
     "shell.execute_reply": "2025-10-28T17:48:47.606604Z"
    },
    "papermill": {
     "duration": 0.011932,
     "end_time": "2025-10-28T17:48:47.608212",
     "exception": false,
     "start_time": "2025-10-28T17:48:47.596280",
     "status": "completed"
    },
    "tags": []
   },
   "outputs": [],
   "source": [
    "# ===============================================================\n",
    "# 🔰 Step 4 — Train & Evaluate Functions\n",
    "# ===============================================================\n",
    "def train_one_epoch(model, loader, optimizer, criterion):\n",
    "    model.train()\n",
    "    running_loss, correct, total = 0.0, 0, 0\n",
    "    for images, labels in tqdm(loader, desc=\"Training\", leave=False):\n",
    "        images, labels = images.to(device), labels.to(device)\n",
    "        optimizer.zero_grad()\n",
    "        outputs = model(images)\n",
    "        loss = criterion(outputs, labels)\n",
    "        loss.backward()\n",
    "        optimizer.step()\n",
    "\n",
    "        running_loss += loss.item() * images.size(0)\n",
    "        _, preds = torch.max(outputs, 1)\n",
    "        correct += (preds == labels).sum().item()\n",
    "        total += labels.size(0)\n",
    "    return running_loss / total, correct / total\n",
    "\n",
    "\n",
    "def evaluate(model, loader, criterion):\n",
    "    model.eval()\n",
    "    running_loss, correct, total = 0.0, 0, 0\n",
    "    all_preds, all_labels, all_probs = [], [], []\n",
    "    with torch.no_grad():\n",
    "        for images, labels in tqdm(loader, desc=\"Evaluating\", leave=False):\n",
    "            images, labels = images.to(device), labels.to(device)\n",
    "            outputs = model(images)\n",
    "            loss = criterion(outputs, labels)\n",
    "\n",
    "            running_loss += loss.item() * images.size(0)\n",
    "            _, preds = torch.max(outputs, 1)\n",
    "            probs = torch.softmax(outputs, dim=1)\n",
    "\n",
    "            correct += (preds == labels).sum().item()\n",
    "            total += labels.size(0)\n",
    "\n",
    "            all_preds.extend(preds.cpu().numpy())\n",
    "            all_labels.extend(labels.cpu().numpy())\n",
    "            all_probs.extend(probs.cpu().numpy())\n",
    "    return running_loss / total, correct / total, np.array(all_preds), np.array(all_labels), np.array(all_probs)\n"
   ]
  },
  {
   "cell_type": "code",
   "execution_count": 5,
   "id": "a76688ef",
   "metadata": {
    "execution": {
     "iopub.execute_input": "2025-10-28T17:48:47.614103Z",
     "iopub.status.busy": "2025-10-28T17:48:47.613352Z",
     "iopub.status.idle": "2025-10-28T17:52:28.444756Z",
     "shell.execute_reply": "2025-10-28T17:52:28.443927Z"
    },
    "papermill": {
     "duration": 220.835546,
     "end_time": "2025-10-28T17:52:28.446030",
     "exception": false,
     "start_time": "2025-10-28T17:48:47.610484",
     "status": "completed"
    },
    "tags": []
   },
   "outputs": [
    {
     "name": "stdout",
     "output_type": "stream",
     "text": [
      "\n",
      "Epoch 1/50\n"
     ]
    },
    {
     "name": "stderr",
     "output_type": "stream",
     "text": [
      "                                                         \r"
     ]
    },
    {
     "name": "stdout",
     "output_type": "stream",
     "text": [
      "Train Loss: 2.3989, Acc: 0.0978 | Val Loss: 2.3145, Acc: 0.1500\n",
      "\n",
      "Epoch 2/50\n"
     ]
    },
    {
     "name": "stderr",
     "output_type": "stream",
     "text": [
      "                                                         \r"
     ]
    },
    {
     "name": "stdout",
     "output_type": "stream",
     "text": [
      "Train Loss: 1.9448, Acc: 0.6196 | Val Loss: 2.1251, Acc: 0.3000\n",
      "\n",
      "Epoch 3/50\n"
     ]
    },
    {
     "name": "stderr",
     "output_type": "stream",
     "text": [
      "                                                         \r"
     ]
    },
    {
     "name": "stdout",
     "output_type": "stream",
     "text": [
      "Train Loss: 1.6324, Acc: 0.7989 | Val Loss: 1.9456, Acc: 0.3500\n",
      "\n",
      "Epoch 4/50\n"
     ]
    },
    {
     "name": "stderr",
     "output_type": "stream",
     "text": [
      "                                                         \r"
     ]
    },
    {
     "name": "stdout",
     "output_type": "stream",
     "text": [
      "Train Loss: 1.3603, Acc: 0.8750 | Val Loss: 1.7838, Acc: 0.4500\n",
      "\n",
      "Epoch 5/50\n"
     ]
    },
    {
     "name": "stderr",
     "output_type": "stream",
     "text": [
      "                                                         \r"
     ]
    },
    {
     "name": "stdout",
     "output_type": "stream",
     "text": [
      "Train Loss: 1.1266, Acc: 0.9076 | Val Loss: 1.6613, Acc: 0.5000\n",
      "\n",
      "Epoch 6/50\n"
     ]
    },
    {
     "name": "stderr",
     "output_type": "stream",
     "text": [
      "                                                         \r"
     ]
    },
    {
     "name": "stdout",
     "output_type": "stream",
     "text": [
      "Train Loss: 0.9550, Acc: 0.9348 | Val Loss: 1.5601, Acc: 0.5500\n",
      "\n",
      "Epoch 7/50\n"
     ]
    },
    {
     "name": "stderr",
     "output_type": "stream",
     "text": [
      "                                                         \r"
     ]
    },
    {
     "name": "stdout",
     "output_type": "stream",
     "text": [
      "Train Loss: 0.7590, Acc: 0.9728 | Val Loss: 1.4791, Acc: 0.5500\n",
      "\n",
      "Epoch 8/50\n"
     ]
    },
    {
     "name": "stderr",
     "output_type": "stream",
     "text": [
      "                                                         \r"
     ]
    },
    {
     "name": "stdout",
     "output_type": "stream",
     "text": [
      "Train Loss: 0.6170, Acc: 0.9783 | Val Loss: 1.4256, Acc: 0.5500\n",
      "\n",
      "Epoch 9/50\n"
     ]
    },
    {
     "name": "stderr",
     "output_type": "stream",
     "text": [
      "                                                         \r"
     ]
    },
    {
     "name": "stdout",
     "output_type": "stream",
     "text": [
      "Train Loss: 0.5160, Acc: 0.9837 | Val Loss: 1.3592, Acc: 0.6000\n",
      "\n",
      "Epoch 10/50\n"
     ]
    },
    {
     "name": "stderr",
     "output_type": "stream",
     "text": [
      "                                                         \r"
     ]
    },
    {
     "name": "stdout",
     "output_type": "stream",
     "text": [
      "Train Loss: 0.4097, Acc: 0.9946 | Val Loss: 1.2811, Acc: 0.6000\n",
      "\n",
      "Epoch 11/50\n"
     ]
    },
    {
     "name": "stderr",
     "output_type": "stream",
     "text": [
      "                                                         \r"
     ]
    },
    {
     "name": "stdout",
     "output_type": "stream",
     "text": [
      "Train Loss: 0.3161, Acc: 0.9946 | Val Loss: 1.2350, Acc: 0.6000\n",
      "\n",
      "Epoch 12/50\n"
     ]
    },
    {
     "name": "stderr",
     "output_type": "stream",
     "text": [
      "                                                         \r"
     ]
    },
    {
     "name": "stdout",
     "output_type": "stream",
     "text": [
      "Train Loss: 0.2670, Acc: 1.0000 | Val Loss: 1.1873, Acc: 0.6500\n",
      "\n",
      "Epoch 13/50\n"
     ]
    },
    {
     "name": "stderr",
     "output_type": "stream",
     "text": [
      "                                                         \r"
     ]
    },
    {
     "name": "stdout",
     "output_type": "stream",
     "text": [
      "Train Loss: 0.2136, Acc: 0.9946 | Val Loss: 1.1428, Acc: 0.7000\n",
      "\n",
      "Epoch 14/50\n"
     ]
    },
    {
     "name": "stderr",
     "output_type": "stream",
     "text": [
      "                                                         \r"
     ]
    },
    {
     "name": "stdout",
     "output_type": "stream",
     "text": [
      "Train Loss: 0.1819, Acc: 1.0000 | Val Loss: 1.1153, Acc: 0.7000\n",
      "\n",
      "Epoch 15/50\n"
     ]
    },
    {
     "name": "stderr",
     "output_type": "stream",
     "text": [
      "                                                         \r"
     ]
    },
    {
     "name": "stdout",
     "output_type": "stream",
     "text": [
      "Train Loss: 0.1641, Acc: 0.9946 | Val Loss: 1.1072, Acc: 0.6500\n",
      "\n",
      "Epoch 16/50\n"
     ]
    },
    {
     "name": "stderr",
     "output_type": "stream",
     "text": [
      "                                                         \r"
     ]
    },
    {
     "name": "stdout",
     "output_type": "stream",
     "text": [
      "Train Loss: 0.1226, Acc: 1.0000 | Val Loss: 1.0726, Acc: 0.6500\n",
      "\n",
      "Epoch 17/50\n"
     ]
    },
    {
     "name": "stderr",
     "output_type": "stream",
     "text": [
      "                                                         \r"
     ]
    },
    {
     "name": "stdout",
     "output_type": "stream",
     "text": [
      "Train Loss: 0.1050, Acc: 1.0000 | Val Loss: 1.0338, Acc: 0.6500\n",
      "\n",
      "Epoch 18/50\n"
     ]
    },
    {
     "name": "stderr",
     "output_type": "stream",
     "text": [
      "                                                         \r"
     ]
    },
    {
     "name": "stdout",
     "output_type": "stream",
     "text": [
      "Train Loss: 0.0957, Acc: 1.0000 | Val Loss: 1.0016, Acc: 0.6500\n",
      "\n",
      "Epoch 19/50\n"
     ]
    },
    {
     "name": "stderr",
     "output_type": "stream",
     "text": [
      "                                                         \r"
     ]
    },
    {
     "name": "stdout",
     "output_type": "stream",
     "text": [
      "Train Loss: 0.0941, Acc: 1.0000 | Val Loss: 0.9801, Acc: 0.6500\n",
      "\n",
      "Epoch 20/50\n"
     ]
    },
    {
     "name": "stderr",
     "output_type": "stream",
     "text": [
      "                                                         \r"
     ]
    },
    {
     "name": "stdout",
     "output_type": "stream",
     "text": [
      "Train Loss: 0.0719, Acc: 1.0000 | Val Loss: 0.9721, Acc: 0.6500\n",
      "\n",
      "Epoch 21/50\n"
     ]
    },
    {
     "name": "stderr",
     "output_type": "stream",
     "text": [
      "                                                         \r"
     ]
    },
    {
     "name": "stdout",
     "output_type": "stream",
     "text": [
      "Train Loss: 0.0620, Acc: 1.0000 | Val Loss: 0.9601, Acc: 0.7000\n",
      "\n",
      "Epoch 22/50\n"
     ]
    },
    {
     "name": "stderr",
     "output_type": "stream",
     "text": [
      "                                                         \r"
     ]
    },
    {
     "name": "stdout",
     "output_type": "stream",
     "text": [
      "Train Loss: 0.0602, Acc: 1.0000 | Val Loss: 0.9586, Acc: 0.6500\n",
      "\n",
      "Epoch 23/50\n"
     ]
    },
    {
     "name": "stderr",
     "output_type": "stream",
     "text": [
      "                                                         \r"
     ]
    },
    {
     "name": "stdout",
     "output_type": "stream",
     "text": [
      "Train Loss: 0.0517, Acc: 1.0000 | Val Loss: 0.9497, Acc: 0.6000\n",
      "\n",
      "Epoch 24/50\n"
     ]
    },
    {
     "name": "stderr",
     "output_type": "stream",
     "text": [
      "                                                         \r"
     ]
    },
    {
     "name": "stdout",
     "output_type": "stream",
     "text": [
      "Train Loss: 0.0506, Acc: 1.0000 | Val Loss: 0.9433, Acc: 0.6500\n",
      "\n",
      "Epoch 25/50\n"
     ]
    },
    {
     "name": "stderr",
     "output_type": "stream",
     "text": [
      "                                                         \r"
     ]
    },
    {
     "name": "stdout",
     "output_type": "stream",
     "text": [
      "Train Loss: 0.0487, Acc: 1.0000 | Val Loss: 0.9275, Acc: 0.6500\n",
      "\n",
      "Epoch 26/50\n"
     ]
    },
    {
     "name": "stderr",
     "output_type": "stream",
     "text": [
      "                                                         \r"
     ]
    },
    {
     "name": "stdout",
     "output_type": "stream",
     "text": [
      "Train Loss: 0.0388, Acc: 1.0000 | Val Loss: 0.9037, Acc: 0.6500\n",
      "\n",
      "Epoch 27/50\n"
     ]
    },
    {
     "name": "stderr",
     "output_type": "stream",
     "text": [
      "                                                         \r"
     ]
    },
    {
     "name": "stdout",
     "output_type": "stream",
     "text": [
      "Train Loss: 0.0380, Acc: 1.0000 | Val Loss: 0.8895, Acc: 0.6500\n",
      "\n",
      "Epoch 28/50\n"
     ]
    },
    {
     "name": "stderr",
     "output_type": "stream",
     "text": [
      "                                                         \r"
     ]
    },
    {
     "name": "stdout",
     "output_type": "stream",
     "text": [
      "Train Loss: 0.0328, Acc: 1.0000 | Val Loss: 0.8937, Acc: 0.6000\n",
      "\n",
      "Epoch 29/50\n"
     ]
    },
    {
     "name": "stderr",
     "output_type": "stream",
     "text": [
      "                                                         \r"
     ]
    },
    {
     "name": "stdout",
     "output_type": "stream",
     "text": [
      "Train Loss: 0.0308, Acc: 1.0000 | Val Loss: 0.8929, Acc: 0.6500\n",
      "\n",
      "Epoch 30/50\n"
     ]
    },
    {
     "name": "stderr",
     "output_type": "stream",
     "text": [
      "                                                         \r"
     ]
    },
    {
     "name": "stdout",
     "output_type": "stream",
     "text": [
      "Train Loss: 0.0325, Acc: 1.0000 | Val Loss: 0.8976, Acc: 0.6000\n",
      "\n",
      "Epoch 31/50\n"
     ]
    },
    {
     "name": "stderr",
     "output_type": "stream",
     "text": [
      "                                                         \r"
     ]
    },
    {
     "name": "stdout",
     "output_type": "stream",
     "text": [
      "Train Loss: 0.0323, Acc: 1.0000 | Val Loss: 0.8876, Acc: 0.6500\n",
      "\n",
      "Epoch 32/50\n"
     ]
    },
    {
     "name": "stderr",
     "output_type": "stream",
     "text": [
      "                                                         \r"
     ]
    },
    {
     "name": "stdout",
     "output_type": "stream",
     "text": [
      "Train Loss: 0.0234, Acc: 1.0000 | Val Loss: 0.8886, Acc: 0.6000\n",
      "\n",
      "Epoch 33/50\n"
     ]
    },
    {
     "name": "stderr",
     "output_type": "stream",
     "text": [
      "                                                         \r"
     ]
    },
    {
     "name": "stdout",
     "output_type": "stream",
     "text": [
      "Train Loss: 0.0267, Acc: 1.0000 | Val Loss: 0.8744, Acc: 0.6500\n",
      "\n",
      "Epoch 34/50\n"
     ]
    },
    {
     "name": "stderr",
     "output_type": "stream",
     "text": [
      "                                                         \r"
     ]
    },
    {
     "name": "stdout",
     "output_type": "stream",
     "text": [
      "Train Loss: 0.0260, Acc: 1.0000 | Val Loss: 0.8750, Acc: 0.6000\n",
      "\n",
      "Epoch 35/50\n"
     ]
    },
    {
     "name": "stderr",
     "output_type": "stream",
     "text": [
      "                                                         \r"
     ]
    },
    {
     "name": "stdout",
     "output_type": "stream",
     "text": [
      "Train Loss: 0.0254, Acc: 1.0000 | Val Loss: 0.8609, Acc: 0.6000\n",
      "\n",
      "Epoch 36/50\n"
     ]
    },
    {
     "name": "stderr",
     "output_type": "stream",
     "text": [
      "                                                         \r"
     ]
    },
    {
     "name": "stdout",
     "output_type": "stream",
     "text": [
      "Train Loss: 0.0200, Acc: 1.0000 | Val Loss: 0.8544, Acc: 0.6000\n",
      "\n",
      "Epoch 37/50\n"
     ]
    },
    {
     "name": "stderr",
     "output_type": "stream",
     "text": [
      "                                                         \r"
     ]
    },
    {
     "name": "stdout",
     "output_type": "stream",
     "text": [
      "Train Loss: 0.0229, Acc: 1.0000 | Val Loss: 0.8479, Acc: 0.6000\n",
      "\n",
      "Epoch 38/50\n"
     ]
    },
    {
     "name": "stderr",
     "output_type": "stream",
     "text": [
      "                                                         \r"
     ]
    },
    {
     "name": "stdout",
     "output_type": "stream",
     "text": [
      "Train Loss: 0.0241, Acc: 1.0000 | Val Loss: 0.8260, Acc: 0.7000\n",
      "\n",
      "Epoch 39/50\n"
     ]
    },
    {
     "name": "stderr",
     "output_type": "stream",
     "text": [
      "                                                         \r"
     ]
    },
    {
     "name": "stdout",
     "output_type": "stream",
     "text": [
      "Train Loss: 0.0161, Acc: 1.0000 | Val Loss: 0.8107, Acc: 0.7500\n",
      "\n",
      "Epoch 40/50\n"
     ]
    },
    {
     "name": "stderr",
     "output_type": "stream",
     "text": [
      "                                                         \r"
     ]
    },
    {
     "name": "stdout",
     "output_type": "stream",
     "text": [
      "Train Loss: 0.0262, Acc: 1.0000 | Val Loss: 0.8099, Acc: 0.7000\n",
      "\n",
      "Epoch 41/50\n"
     ]
    },
    {
     "name": "stderr",
     "output_type": "stream",
     "text": [
      "                                                         \r"
     ]
    },
    {
     "name": "stdout",
     "output_type": "stream",
     "text": [
      "Train Loss: 0.0167, Acc: 1.0000 | Val Loss: 0.8317, Acc: 0.7500\n",
      "\n",
      "Epoch 42/50\n"
     ]
    },
    {
     "name": "stderr",
     "output_type": "stream",
     "text": [
      "                                                         \r"
     ]
    },
    {
     "name": "stdout",
     "output_type": "stream",
     "text": [
      "Train Loss: 0.0165, Acc: 1.0000 | Val Loss: 0.8433, Acc: 0.7000\n",
      "\n",
      "Epoch 43/50\n"
     ]
    },
    {
     "name": "stderr",
     "output_type": "stream",
     "text": [
      "                                                         \r"
     ]
    },
    {
     "name": "stdout",
     "output_type": "stream",
     "text": [
      "Train Loss: 0.0164, Acc: 1.0000 | Val Loss: 0.8410, Acc: 0.7000\n",
      "\n",
      "Epoch 44/50\n"
     ]
    },
    {
     "name": "stderr",
     "output_type": "stream",
     "text": [
      "                                                         \r"
     ]
    },
    {
     "name": "stdout",
     "output_type": "stream",
     "text": [
      "Train Loss: 0.0154, Acc: 1.0000 | Val Loss: 0.8344, Acc: 0.7000\n",
      "\n",
      "Epoch 45/50\n"
     ]
    },
    {
     "name": "stderr",
     "output_type": "stream",
     "text": [
      "                                                         \r"
     ]
    },
    {
     "name": "stdout",
     "output_type": "stream",
     "text": [
      "Train Loss: 0.0160, Acc: 1.0000 | Val Loss: 0.8327, Acc: 0.7000\n",
      "\n",
      "Epoch 46/50\n"
     ]
    },
    {
     "name": "stderr",
     "output_type": "stream",
     "text": [
      "                                                         \r"
     ]
    },
    {
     "name": "stdout",
     "output_type": "stream",
     "text": [
      "Train Loss: 0.0148, Acc: 1.0000 | Val Loss: 0.8245, Acc: 0.7000\n",
      "\n",
      "Epoch 47/50\n"
     ]
    },
    {
     "name": "stderr",
     "output_type": "stream",
     "text": [
      "                                                         \r"
     ]
    },
    {
     "name": "stdout",
     "output_type": "stream",
     "text": [
      "Train Loss: 0.0108, Acc: 1.0000 | Val Loss: 0.8278, Acc: 0.6500\n",
      "\n",
      "Epoch 48/50\n"
     ]
    },
    {
     "name": "stderr",
     "output_type": "stream",
     "text": [
      "                                                         \r"
     ]
    },
    {
     "name": "stdout",
     "output_type": "stream",
     "text": [
      "Train Loss: 0.0165, Acc: 1.0000 | Val Loss: 0.8270, Acc: 0.6500\n",
      "\n",
      "Epoch 49/50\n"
     ]
    },
    {
     "name": "stderr",
     "output_type": "stream",
     "text": [
      "                                                         \r"
     ]
    },
    {
     "name": "stdout",
     "output_type": "stream",
     "text": [
      "Train Loss: 0.0151, Acc: 1.0000 | Val Loss: 0.8280, Acc: 0.6500\n",
      "\n",
      "Epoch 50/50\n"
     ]
    },
    {
     "name": "stderr",
     "output_type": "stream",
     "text": [
      "                                                         "
     ]
    },
    {
     "name": "stdout",
     "output_type": "stream",
     "text": [
      "Train Loss: 0.0136, Acc: 1.0000 | Val Loss: 0.8412, Acc: 0.6500\n",
      "\n",
      "✅ Total training time: 220.83 sec\n"
     ]
    },
    {
     "name": "stderr",
     "output_type": "stream",
     "text": [
      "\r"
     ]
    }
   ],
   "source": [
    "# ===============================================================\n",
    "# 🔰 Step 5 — Training Loop\n",
    "# ===============================================================\n",
    "num_epochs = 50\n",
    "train_losses, val_losses = [], []\n",
    "train_accs, val_accs = [], []\n",
    "\n",
    "best_val_acc = 0.0\n",
    "start_time = time.time()\n",
    "for epoch in range(num_epochs):\n",
    "    print(f\"\\nEpoch {epoch+1}/{num_epochs}\")\n",
    "    train_loss, train_acc = train_one_epoch(model, train_loader, optimizer, criterion)\n",
    "    val_loss, val_acc, _, _, _ = evaluate(model, val_loader, criterion)\n",
    "\n",
    "    train_losses.append(train_loss)\n",
    "    val_losses.append(val_loss)\n",
    "    train_accs.append(train_acc)\n",
    "    val_accs.append(val_acc)\n",
    "\n",
    "    print(f\"Train Loss: {train_loss:.4f}, Acc: {train_acc:.4f} | Val Loss: {val_loss:.4f}, Acc: {val_acc:.4f}\")\n",
    "\n",
    "    if val_acc > best_val_acc:\n",
    "        best_val_acc = val_acc\n",
    "        torch.save(model.state_dict(), \"best_googlenet_model.pth\")\n",
    "\n",
    "end_time = time.time()\n",
    "train_time = end_time - start_time\n",
    "print(f\"\\n✅ Total training time: {train_time:.2f} sec\")\n"
   ]
  },
  {
   "cell_type": "code",
   "execution_count": 6,
   "id": "f9782192",
   "metadata": {
    "execution": {
     "iopub.execute_input": "2025-10-28T17:52:28.503638Z",
     "iopub.status.busy": "2025-10-28T17:52:28.503374Z",
     "iopub.status.idle": "2025-10-28T17:52:29.004697Z",
     "shell.execute_reply": "2025-10-28T17:52:29.003944Z"
    },
    "papermill": {
     "duration": 0.531893,
     "end_time": "2025-10-28T17:52:29.006452",
     "exception": false,
     "start_time": "2025-10-28T17:52:28.474559",
     "status": "completed"
    },
    "tags": []
   },
   "outputs": [
    {
     "data": {
      "image/png": "[encoded data removed]",
      "text/plain": [
       "<Figure size 1200x500 with 2 Axes>"
      ]
     },
     "metadata": {},
     "output_type": "display_data"
    }
   ],
   "source": [
    "# ===============================================================\n",
    "# 🔰 Step 6 — Plot Loss & Accuracy Curves\n",
    "# ===============================================================\n",
    "plt.figure(figsize=(12,5))\n",
    "plt.subplot(1,2,1)\n",
    "plt.plot(train_losses, label=\"Train Loss\")\n",
    "plt.plot(val_losses, label=\"Val Loss\")\n",
    "plt.title(\"Loss Curve\")\n",
    "plt.xlabel(\"Epoch\")\n",
    "plt.ylabel(\"Loss\")\n",
    "plt.legend()\n",
    "\n",
    "plt.subplot(1,2,2)\n",
    "plt.plot(train_accs, label=\"Train Acc\")\n",
    "plt.plot(val_accs, label=\"Val Acc\")\n",
    "plt.title(\"Accuracy Curve\")\n",
    "plt.xlabel(\"Epoch\")\n",
    "plt.ylabel(\"Accuracy\")\n",
    "plt.legend()\n",
    "plt.show()\n"
   ]
  },
  {
   "cell_type": "code",
   "execution_count": 7,
   "id": "4a3a1b89",
   "metadata": {
    "execution": {
     "iopub.execute_input": "2025-10-28T17:52:29.066655Z",
     "iopub.status.busy": "2025-10-28T17:52:29.066398Z",
     "iopub.status.idle": "2025-10-28T17:52:51.234461Z",
     "shell.execute_reply": "2025-10-28T17:52:51.233693Z"
    },
    "papermill": {
     "duration": 22.199216,
     "end_time": "2025-10-28T17:52:51.235543",
     "exception": false,
     "start_time": "2025-10-28T17:52:29.036327",
     "status": "completed"
    },
    "tags": []
   },
   "outputs": [
    {
     "name": "stderr",
     "output_type": "stream",
     "text": [
      "                                                           "
     ]
    },
    {
     "name": "stdout",
     "output_type": "stream",
     "text": [
      "\n",
      "✅ Test Accuracy: 57.39%\n",
      "✅ Test time: 22.09 sec\n"
     ]
    },
    {
     "name": "stderr",
     "output_type": "stream",
     "text": [
      "\r"
     ]
    }
   ],
   "source": [
    "# ===============================================================\n",
    "# 🔰 Step 7 — Test Evaluation\n",
    "# ===============================================================\n",
    "model.load_state_dict(torch.load(\"best_googlenet_model.pth\"))\n",
    "test_start = time.time()\n",
    "test_loss, test_acc, all_preds, all_labels, all_probs = evaluate(model, test_loader, criterion)\n",
    "test_end = time.time()\n",
    "test_time = test_end - test_start\n",
    "print(f\"\\n✅ Test Accuracy: {test_acc*100:.2f}%\")\n",
    "print(f\"✅ Test time: {test_time:.2f} sec\")\n"
   ]
  },
  {
   "cell_type": "code",
   "execution_count": 8,
   "id": "8aa4c639",
   "metadata": {
    "execution": {
     "iopub.execute_input": "2025-10-28T17:52:51.297959Z",
     "iopub.status.busy": "2025-10-28T17:52:51.297664Z",
     "iopub.status.idle": "2025-10-28T17:53:06.988054Z",
     "shell.execute_reply": "2025-10-28T17:53:06.986951Z"
    },
    "papermill": {
     "duration": 15.723122,
     "end_time": "2025-10-28T17:53:06.989176",
     "exception": false,
     "start_time": "2025-10-28T17:52:51.266054",
     "status": "completed"
    },
    "tags": []
   },
   "outputs": [
    {
     "name": "stdout",
     "output_type": "stream",
     "text": [
      "\n",
      "Classification Report:\n",
      "                       precision    recall  f1-score   support\n",
      "\n",
      "      Genus Criconema     0.0000    0.0000    0.0000         4\n",
      "  Genus Criconemoides     0.6988    0.7632    0.7296        76\n",
      "Genus Helicotylenchus     0.8061    0.6991    0.7488       113\n",
      "Genus Hemicycliophora     0.0000    0.0000    0.0000         6\n",
      " Genus Hirschmaniella     0.5811    0.3839    0.4624       112\n",
      "    Genus Hoplolaimus     0.4840    0.8053    0.6047       113\n",
      "    Genus Meloidogyne     0.5852    0.6095    0.5971       169\n",
      "   Genus Pratylenchus     0.4151    0.4835    0.4467        91\n",
      "     Genus Radopholus     0.9000    0.3462    0.5000        26\n",
      "    Genus Trichodorus     0.5500    0.6875    0.6111        32\n",
      "      Genus Xiphinema     0.4595    0.2429    0.3178        70\n",
      "\n",
      "             accuracy                         0.5739       812\n",
      "            macro avg     0.4982    0.4565    0.4562       812\n",
      "         weighted avg     0.5835    0.5739    0.5622       812\n",
      "\n"
     ]
    },
    {
     "name": "stderr",
     "output_type": "stream",
     "text": [
      "/usr/local/lib/python3.11/dist-packages/sklearn/metrics/_classification.py:1344: UndefinedMetricWarning: Precision and F-score are ill-defined and being set to 0.0 in labels with no predicted samples. Use `zero_division` parameter to control this behavior.\n",
      "  _warn_prf(average, modifier, msg_start, len(result))\n",
      "/usr/local/lib/python3.11/dist-packages/sklearn/metrics/_classification.py:1344: UndefinedMetricWarning: Precision and F-score are ill-defined and being set to 0.0 in labels with no predicted samples. Use `zero_division` parameter to control this behavior.\n",
      "  _warn_prf(average, modifier, msg_start, len(result))\n",
      "/usr/local/lib/python3.11/dist-packages/sklearn/metrics/_classification.py:1344: UndefinedMetricWarning: Precision and F-score are ill-defined and being set to 0.0 in labels with no predicted samples. Use `zero_division` parameter to control this behavior.\n",
      "  _warn_prf(average, modifier, msg_start, len(result))\n"
     ]
    },
    {
     "data": {
      "image/png": "[encoded data removed]",
      "text/plain": [
       "<Figure size 800x600 with 2 Axes>"
      ]
     },
     "metadata": {},
     "output_type": "display_data"
    },
    {
     "name": "stdout",
     "output_type": "stream",
     "text": [
      "\n",
      "Per-class Accuracy:\n",
      "Genus Criconema: 0.00%\n",
      "Genus Criconemoides: 76.32%\n",
      "Genus Helicotylenchus: 69.91%\n",
      "Genus Hemicycliophora: 0.00%\n",
      "Genus Hirschmaniella: 38.39%\n",
      "Genus Hoplolaimus: 80.53%\n",
      "Genus Meloidogyne: 60.95%\n",
      "Genus Pratylenchus: 48.35%\n",
      "Genus Radopholus: 34.62%\n",
      "Genus Trichodorus: 68.75%\n",
      "Genus Xiphinema: 24.29%\n"
     ]
    }
   ],
   "source": [
    "# ===============================================================\n",
    "# 🔰 Step 8 — Classification Report & Confusion Matrix\n",
    "# ===============================================================\n",
    "model.eval()\n",
    "all_preds, all_labels = [], []\n",
    "with torch.no_grad():\n",
    "    for images, labels in test_loader:\n",
    "        images, labels = images.to(device), labels.to(device)\n",
    "        outputs = model(images)\n",
    "        _, preds = torch.max(outputs, 1)\n",
    "        all_preds.extend(preds.cpu().numpy())\n",
    "        all_labels.extend(labels.cpu().numpy())\n",
    "\n",
    "unique_labels = sorted(list(set(all_labels)))\n",
    "target_names = [dataset.classes[i] for i in unique_labels]\n",
    "\n",
    "print(\"\\nClassification Report:\")\n",
    "print(classification_report(all_labels, all_preds, labels=unique_labels, target_names=target_names, digits=4))\n",
    "\n",
    "cm = confusion_matrix(all_labels, all_preds)\n",
    "plt.figure(figsize=(8,6))\n",
    "plt.imshow(cm, cmap=\"Blues\")\n",
    "plt.title(\"Confusion Matrix\")\n",
    "plt.xlabel(\"Predicted\")\n",
    "plt.ylabel(\"Actual\")\n",
    "plt.colorbar()\n",
    "plt.show()\n",
    "\n",
    "per_class_acc = cm.diagonal() / cm.sum(axis=1)\n",
    "print(\"\\nPer-class Accuracy:\")\n",
    "for i, label_idx in enumerate(unique_labels):\n",
    "    cls_name = dataset.classes[label_idx]\n",
    "    print(f\"{cls_name}: {per_class_acc[i]*100:.2f}%\")\n"
   ]
  },
  {
   "cell_type": "code",
   "execution_count": 9,
   "id": "221bb03c",
   "metadata": {
    "execution": {
     "iopub.execute_input": "2025-10-28T17:53:07.053525Z",
     "iopub.status.busy": "2025-10-28T17:53:07.053020Z",
     "iopub.status.idle": "2025-10-28T17:53:07.315763Z",
     "shell.execute_reply": "2025-10-28T17:53:07.314996Z"
    },
    "papermill": {
     "duration": 0.296906,
     "end_time": "2025-10-28T17:53:07.317533",
     "exception": false,
     "start_time": "2025-10-28T17:53:07.020627",
     "status": "completed"
    },
    "tags": []
   },
   "outputs": [
    {
     "data": {
      "image/png": "[encoded data removed]",
      "text/plain": [
       "<Figure size 1000x800 with 1 Axes>"
      ]
     },
     "metadata": {},
     "output_type": "display_data"
    }
   ],
   "source": [
    "# ===============================================================\n",
    "# 🔰 Step 9 — ROC-AUC per class\n",
    "# ===============================================================\n",
    "plt.figure(figsize=(10,8))\n",
    "all_labels = np.array(all_labels)\n",
    "all_probs = np.array(all_probs)\n",
    "\n",
    "for i, cls in enumerate(dataset.classes):\n",
    "    binary_labels = (all_labels == i).astype(int)\n",
    "    fpr, tpr, _ = roc_curve(binary_labels, all_probs[:, i])\n",
    "    roc_auc = auc(fpr, tpr)\n",
    "    plt.plot(fpr, tpr, label=f'{cls} (AUC = {roc_auc:.4f})')\n",
    "\n",
    "plt.plot([0,1],[0,1],'k--')\n",
    "plt.title(\"ROC Curves (One-vs-Rest)\")\n",
    "plt.xlabel(\"False Positive Rate\")\n",
    "plt.ylabel(\"True Positive Rate\")\n",
    "plt.legend()\n",
    "plt.show()\n"
   ]
  },
  {
   "cell_type": "code",
   "execution_count": 10,
   "id": "be5c264f",
   "metadata": {
    "execution": {
     "iopub.execute_input": "2025-10-28T17:53:07.386246Z",
     "iopub.status.busy": "2025-10-28T17:53:07.386004Z",
     "iopub.status.idle": "2025-10-28T17:53:07.396379Z",
     "shell.execute_reply": "2025-10-28T17:53:07.395513Z"
    },
    "papermill": {
     "duration": 0.04551,
     "end_time": "2025-10-28T17:53:07.397429",
     "exception": false,
     "start_time": "2025-10-28T17:53:07.351919",
     "status": "completed"
    },
    "tags": []
   },
   "outputs": [
    {
     "name": "stdout",
     "output_type": "stream",
     "text": [
      "✅ Full Model Metrics on Test Set:\n",
      "Accuracy : 57.39%\n",
      "Precision: 58.35%\n",
      "Recall   : 57.39%\n",
      "F1-Score : 56.22%\n"
     ]
    }
   ],
   "source": [
    "# ===============================================================\n",
    "# 🔰 Step 10 — Full Metrics Evaluation\n",
    "# ===============================================================\n",
    "from sklearn.metrics import accuracy_score, precision_score, recall_score, f1_score\n",
    "\n",
    "all_labels = np.array(all_labels)\n",
    "all_preds  = np.array(all_preds)\n",
    "\n",
    "accuracy  = accuracy_score(all_labels, all_preds)\n",
    "precision = precision_score(all_labels, all_preds, average='weighted', zero_division=0)\n",
    "recall    = recall_score(all_labels, all_preds, average='weighted', zero_division=0)\n",
    "f1        = f1_score(all_labels, all_preds, average='weighted', zero_division=0)\n",
    "\n",
    "print(\"✅ Full Model Metrics on Test Set:\")\n",
    "print(f\"Accuracy : {accuracy*100:.2f}%\")\n",
    "print(f\"Precision: {precision*100:.2f}%\")\n",
    "print(f\"Recall   : {recall*100:.2f}%\")\n",
    "print(f\"F1-Score : {f1*100:.2f}%\")\n"
   ]
  }
 ],
 "metadata": {
  "kaggle": {
   "accelerator": "nvidiaTeslaT4",
   "dataSources": [
    {
     "datasetId": 8578836,
     "sourceId": 13511700,
     "sourceType": "datasetVersion"
    }
   ],
   "isGpuEnabled": true,
   "isInternetEnabled": true,
   "language": "python",
   "sourceType": "notebook"
  },
  "kernelspec": {
   "display_name": "Python 3",
   "language": "python",
   "name": "python3"
  },
  "language_info": {
   "codemirror_mode": {
    "name": "ipython",
    "version": 3
   },
   "file_extension": ".py",
   "mimetype": "text/x-python",
   "name": "python",
   "nbconvert_exporter": "python",
   "pygments_lexer": "ipython3",
   "version": "3.11.13"
  },
  "papermill": {
   "default_parameters": {},
   "duration": 282.105645,
   "end_time": "2025-10-28T17:53:09.837607",
   "environment_variables": {},
   "exception": null,
   "input_path": "__notebook__.ipynb",
   "output_path": "__notebook__.ipynb",
   "parameters": {},
   "start_time": "2025-10-28T17:48:27.731962",
   "version": "2.6.0"
  }
 },
 "nbformat": 4,
 "nbformat_minor": 5
}
